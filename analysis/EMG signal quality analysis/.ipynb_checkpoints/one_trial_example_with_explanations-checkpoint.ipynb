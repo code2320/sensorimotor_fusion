{
 "cells": [
  {
   "cell_type": "code",
   "execution_count": null,
   "metadata": {
    "executionInfo": {
     "elapsed": 2,
     "status": "ok",
     "timestamp": 1627589058932,
     "user": {
      "displayName": "Momona Yamagami",
      "photoUrl": "",
      "userId": "09607993393454608900"
     },
     "user_tz": 420
    },
    "id": "kypDq5cGIHaO"
   },
   "outputs": [],
   "source": [
    "import numpy as np\n",
    "import matplotlib.pyplot as plt\n",
    "import pandas as pd\n",
    "from scipy import signal, fft\n",
    "import math as math\n",
    "import os"
   ]
  },
  {
   "cell_type": "markdown",
   "metadata": {
    "id": "w6DjbkXteqdX"
   },
   "source": [
    "# Import and look at data"
   ]
  },
  {
   "cell_type": "code",
   "execution_count": null,
   "metadata": {
    "executionInfo": {
     "elapsed": 162,
     "status": "ok",
     "timestamp": 1627589061071,
     "user": {
      "displayName": "Momona Yamagami",
      "photoUrl": "",
      "userId": "09607993393454608900"
     },
     "user_tz": 420
    },
    "id": "L0Ox_f3DGRpp"
   },
   "outputs": [],
   "source": [
    "# import data\n",
    "# change path name to wherever you saved your data\n",
    "path = 'C:/Users/yamag/Documents/Work/Research/sensorfusion/analysis/EMG signal quality analysis/delsys-data'\n",
    "\n",
    "files = os.listdir(path)    \n",
    "files = list(filter(lambda f: f.endswith('.csv'), files))\n",
    "data = pd.read_csv(os.path.join(path,files[0]),\n",
    "                   names=[\"Time\", \"Biceps (V)\", \"Triceps (V)\"])"
   ]
  },
  {
   "cell_type": "code",
   "execution_count": null,
   "metadata": {
    "colab": {
     "base_uri": "https://localhost:8080/",
     "height": 203
    },
    "executionInfo": {
     "elapsed": 12,
     "status": "ok",
     "timestamp": 1627589062144,
     "user": {
      "displayName": "Momona Yamagami",
      "photoUrl": "",
      "userId": "09607993393454608900"
     },
     "user_tz": 420
    },
    "id": "OXLkjNd8IyME",
    "outputId": "cd72d4a6-1df7-4084-871f-33e57d1dd9e2"
   },
   "outputs": [],
   "source": [
    "data.head()"
   ]
  },
  {
   "cell_type": "code",
   "execution_count": null,
   "metadata": {
    "colab": {
     "base_uri": "https://localhost:8080/"
    },
    "executionInfo": {
     "elapsed": 11,
     "status": "ok",
     "timestamp": 1627589062145,
     "user": {
      "displayName": "Momona Yamagami",
      "photoUrl": "",
      "userId": "09607993393454608900"
     },
     "user_tz": 420
    },
    "id": "bn1qrCEzUo7T",
    "outputId": "160e017b-7cbf-419f-d150-19bb5bea399b"
   },
   "outputs": [],
   "source": [
    "# determine sampling frequency\n",
    "fs = 1926.\n",
    "len(data)/1926"
   ]
  },
  {
   "cell_type": "markdown",
   "metadata": {
    "id": "OIfSw1SYetvi"
   },
   "source": [
    "## first plot time-domain signal for biceps and triceps"
   ]
  },
  {
   "cell_type": "code",
   "execution_count": null,
   "metadata": {
    "colab": {
     "base_uri": "https://localhost:8080/",
     "height": 279
    },
    "executionInfo": {
     "elapsed": 729,
     "status": "ok",
     "timestamp": 1627589062865,
     "user": {
      "displayName": "Momona Yamagami",
      "photoUrl": "",
      "userId": "09607993393454608900"
     },
     "user_tz": 420
    },
    "id": "a4S_Q1FVI4Ve",
    "outputId": "7ce4165a-ef72-4a89-a873-c2814b47876e"
   },
   "outputs": [],
   "source": [
    "# plot time domain signals\n",
    "fig,[ax1,ax2] = plt.subplots(1,2,sharex=True,sharey=True)\n",
    "ax1.plot(np.linspace(0,len(data)/fs,len(data)),data[\"Biceps (V)\"]*1000)\n",
    "ax1.set_xlabel(\"Time (seconds)\")\n",
    "ax1.set_ylabel(\"Biceps voltage (mV)\")\n",
    "ax2.plot(np.linspace(0,len(data)/fs,len(data)),data[\"Triceps (V)\"]*1000)\n",
    "ax2.set_xlabel(\"Time (seconds)\")\n",
    "ax2.set_ylabel(\"Triceps voltage (mV)\")\n",
    "plt.show()"
   ]
  },
  {
   "cell_type": "markdown",
   "metadata": {
    "id": "9itw7DvHfH5w"
   },
   "source": [
    "## plot after demeaning the EMG signal"
   ]
  },
  {
   "cell_type": "code",
   "execution_count": null,
   "metadata": {
    "colab": {
     "base_uri": "https://localhost:8080/",
     "height": 279
    },
    "executionInfo": {
     "elapsed": 468,
     "status": "ok",
     "timestamp": 1627589063332,
     "user": {
      "displayName": "Momona Yamagami",
      "photoUrl": "",
      "userId": "09607993393454608900"
     },
     "user_tz": 420
    },
    "id": "OOcrFJq7fJrm",
    "outputId": "7fe92f00-0185-485c-c43d-ada62f18319e"
   },
   "outputs": [],
   "source": [
    "# plot time domain signals\n",
    "data[\"bic_demean\"]= data[\"Biceps (V)\"].values-np.mean(data[\"Biceps (V)\"].values)\n",
    "data[\"tri_demean\"]= data[\"Triceps (V)\"].values-np.mean(data[\"Triceps (V)\"].values)                                                    \n",
    "                                                      \n",
    "fig,[ax1,ax2] = plt.subplots(1,2,sharex=True,sharey=True)\n",
    "ax1.plot(np.linspace(0,len(data)/fs,len(data)),data[\"bic_demean\"]*1000)\n",
    "ax1.set_xlabel(\"Time (seconds)\")\n",
    "ax1.set_ylabel(\"Biceps voltage (mV)\")\n",
    "ax2.plot(np.linspace(0,len(data)/fs,len(data)),data[\"tri_demean\"]*1000)\n",
    "ax2.set_xlabel(\"Time (seconds)\")\n",
    "ax2.set_ylabel(\"Triceps voltage (mV)\")\n",
    "plt.show()"
   ]
  },
  {
   "cell_type": "markdown",
   "metadata": {
    "id": "uaip2bWMfhaY"
   },
   "source": [
    "## plot FFT"
   ]
  },
  {
   "cell_type": "code",
   "execution_count": null,
   "metadata": {
    "colab": {
     "base_uri": "https://localhost:8080/",
     "height": 279
    },
    "executionInfo": {
     "elapsed": 360,
     "status": "ok",
     "timestamp": 1627589063685,
     "user": {
      "displayName": "Momona Yamagami",
      "photoUrl": "",
      "userId": "09607993393454608900"
     },
     "user_tz": 420
    },
    "id": "DqoYJk20X1rT",
    "outputId": "ee9c4d20-c83f-4650-cf2a-372063feedae"
   },
   "outputs": [],
   "source": [
    "N = len(data)\n",
    "T = 1./fs\n",
    "xf = fft.fftfreq(N, 1 / fs)\n",
    "# x = np.linspace(0.0, T*N, N)\n",
    "# plot frequency domain signal for triceps\n",
    "data[\"tri_fft\"] = fft.fft(data[\"tri_demean\"].values)\n",
    "data[\"bic_fft\"] = fft.fft(data[\"bic_demean\"].values)\n",
    "\n",
    "fig,[ax1,ax2] = plt.subplots(1,2,sharex=True,sharey=True)\n",
    "ax1.plot(xf,abs(data[\"bic_fft\"]))\n",
    "ax1.set_xlabel(\"Frequency (Hz)\")\n",
    "ax1.set_ylabel(\"Biceps voltage (mV)\")\n",
    "ax2.plot(xf,np.abs(data[\"tri_fft\"].values))\n",
    "ax2.set_xlabel(\"frequency (Hz)\")\n",
    "ax2.set_ylabel(\"Triceps voltage (mV)\")\n",
    "plt.show()"
   ]
  },
  {
   "cell_type": "markdown",
   "metadata": {
    "id": "cUW_fmouk682"
   },
   "source": [
    "# Compute RMS"
   ]
  },
  {
   "cell_type": "markdown",
   "metadata": {
    "id": "BsAkZ-i3g9JK"
   },
   "source": [
    "## Step 1. high pass filter \n",
    "\n",
    "4th order butterworth at 40Hz\n",
    "\n",
    "Use second order format when filtering to avoid numerical error"
   ]
  },
  {
   "cell_type": "code",
   "execution_count": null,
   "metadata": {
    "colab": {
     "base_uri": "https://localhost:8080/",
     "height": 333
    },
    "executionInfo": {
     "elapsed": 340,
     "status": "ok",
     "timestamp": 1627589064023,
     "user": {
      "displayName": "Momona Yamagami",
      "photoUrl": "",
      "userId": "09607993393454608900"
     },
     "user_tz": 420
    },
    "id": "XbYa1_KNKHFW",
    "outputId": "ed83cbeb-dfbf-4159-f150-ec7ddab96b32"
   },
   "outputs": [],
   "source": [
    "# CREATE AND PLOT BUTTERWORTH FILTER\n",
    "sos = signal.butter(N=4,Wn=40,btype='hp',fs=fs, output='sos')\n",
    "# plot butterworth filter\n",
    "w, h = signal.sosfreqz(sos=sos,fs=fs)\n",
    "plt.semilogx(w, 20 * np.log10(abs(h)))\n",
    "plt.title('Butterworth filter frequency response')\n",
    "plt.xlabel('Frequency Hz]')\n",
    "plt.ylabel('Amplitude [dB]')\n",
    "# plt.margins(0, 0.1)\n",
    "# plt.grid(which='both', axis='both')\n",
    "plt.axvline(40, color='green') # cutoff frequency\n",
    "plt.show()"
   ]
  },
  {
   "cell_type": "code",
   "execution_count": null,
   "metadata": {
    "executionInfo": {
     "elapsed": 7,
     "status": "ok",
     "timestamp": 1627589064026,
     "user": {
      "displayName": "Momona Yamagami",
      "photoUrl": "",
      "userId": "09607993393454608900"
     },
     "user_tz": 420
    },
    "id": "jJCaplyUWLi3"
   },
   "outputs": [],
   "source": [
    "# FILTER THE DATA \n",
    "data[\"bic_hp\"] = signal.sosfiltfilt(sos=sos,x=data[\"bic_demean\"].values)\n",
    "data[\"tri_hp\"] = signal.sosfiltfilt(sos=sos,x=data[\"tri_demean\"].values)"
   ]
  },
  {
   "cell_type": "code",
   "execution_count": null,
   "metadata": {
    "colab": {
     "base_uri": "https://localhost:8080/",
     "height": 279
    },
    "executionInfo": {
     "elapsed": 528,
     "status": "ok",
     "timestamp": 1627589064548,
     "user": {
      "displayName": "Momona Yamagami",
      "photoUrl": "",
      "userId": "09607993393454608900"
     },
     "user_tz": 420
    },
    "id": "8YMSDHS4XACI",
    "outputId": "5560a32a-034c-400d-8649-3ec7d3c6b75f"
   },
   "outputs": [],
   "source": [
    "# PLOT THE FILTERED DATA\n",
    "fig,[ax1,ax2] = plt.subplots(1,2,sharex=True,sharey=True)\n",
    "ax1.plot(np.linspace(0,len(data)/fs,len(data)),data[\"bic_hp\"]*1000)\n",
    "ax1.set_xlabel(\"Time (seconds)\")\n",
    "ax1.set_ylabel(\"Biceps voltage (mV) after 40 Hz HP filter\")\n",
    "ax2.plot(np.linspace(0,len(data)/fs,len(data)),data[\"tri_hp\"]*1000)\n",
    "ax2.set_xlabel(\"Time (seconds)\")\n",
    "ax2.set_ylabel(\"Triceps voltage (mV) after 40 Hz HP filter\")\n",
    "plt.show()"
   ]
  },
  {
   "cell_type": "code",
   "execution_count": null,
   "metadata": {
    "colab": {
     "base_uri": "https://localhost:8080/",
     "height": 279
    },
    "executionInfo": {
     "elapsed": 271,
     "status": "ok",
     "timestamp": 1627589064817,
     "user": {
      "displayName": "Momona Yamagami",
      "photoUrl": "",
      "userId": "09607993393454608900"
     },
     "user_tz": 420
    },
    "id": "8xl6m4_3z1WO",
    "outputId": "e423f113-1f01-46fb-d648-ca19f46aab1f"
   },
   "outputs": [],
   "source": [
    "# PLOT IN FREQ DOMAIN AND COMPARE AGAINST UNFILTERED\n",
    "data[\"tri_hp_fft\"] = fft.fft(data[\"tri_hp\"].values)\n",
    "data[\"bic_hp_fft\"] = fft.fft(data[\"bic_hp\"].values)\n",
    "divby = 32\n",
    "\n",
    "fig,[ax1,ax2] = plt.subplots(1,2,sharex=True,sharey=True)\n",
    "ax1.plot(xf[:int(N/divby)],abs(data[\"bic_fft\"])[:int(N/divby)],label='no filter')\n",
    "ax1.plot(xf[:int(N/divby)],abs(data[\"bic_hp_fft\"])[:int(N/divby)],label='after hp filter',alpha=0.5)\n",
    "ax1.set_xlabel(\"Frequency (Hz)\")\n",
    "ax1.set_ylabel(\"Biceps voltage (mV)\")\n",
    "ax2.plot(xf[:int(N/divby)],np.abs(data[\"tri_fft\"].values[:int(N/divby)]),label='no filter')\n",
    "ax2.plot(xf[:int(N/divby)],np.abs(data[\"tri_hp_fft\"].values[:int(N/divby)]),label='after hp filter',alpha=0.5)\n",
    "ax2.set_xlabel(\"frequency (Hz)\")\n",
    "ax2.set_ylabel(\"Triceps voltage (mV)\")\n",
    "plt.legend()\n",
    "plt.show()"
   ]
  },
  {
   "cell_type": "markdown",
   "metadata": {
    "id": "ANlwrVOpy5aJ"
   },
   "source": [
    "## Step 2: Rectification (abs everything)"
   ]
  },
  {
   "cell_type": "code",
   "execution_count": null,
   "metadata": {
    "executionInfo": {
     "elapsed": 5,
     "status": "ok",
     "timestamp": 1627589065084,
     "user": {
      "displayName": "Momona Yamagami",
      "photoUrl": "",
      "userId": "09607993393454608900"
     },
     "user_tz": 420
    },
    "id": "Yyf2QnE3XEGS"
   },
   "outputs": [],
   "source": [
    "data[\"bic_rect\"] = abs(data[\"bic_hp\"])\n",
    "data[\"tri_rect\"] = abs(data[\"tri_hp\"])"
   ]
  },
  {
   "cell_type": "code",
   "execution_count": null,
   "metadata": {
    "colab": {
     "base_uri": "https://localhost:8080/",
     "height": 279
    },
    "executionInfo": {
     "elapsed": 209,
     "status": "ok",
     "timestamp": 1627589065289,
     "user": {
      "displayName": "Momona Yamagami",
      "photoUrl": "",
      "userId": "09607993393454608900"
     },
     "user_tz": 420
    },
    "id": "U0iBAjC3zJ0k",
    "outputId": "5fe82b80-4e07-4e15-90ea-4b3998d44c07"
   },
   "outputs": [],
   "source": [
    "fig,[ax1,ax2] = plt.subplots(1,2,sharex=True,sharey=True)\n",
    "ax1.plot(np.linspace(0,len(data)/fs,len(data)),data[\"bic_rect\"]*1000)\n",
    "ax1.set_xlabel(\"Time (seconds)\")\n",
    "ax1.set_ylabel(\"Biceps voltage (mV) after rectification\")\n",
    "ax2.plot(np.linspace(0,len(data)/fs,len(data)),data[\"tri_rect\"]*1000)\n",
    "ax2.set_xlabel(\"Time (seconds)\")\n",
    "ax2.set_ylabel(\"Triceps voltage (mV) after rectification\")\n",
    "plt.show()"
   ]
  },
  {
   "cell_type": "markdown",
   "metadata": {
    "id": "Al9sCuDQzUUL"
   },
   "source": [
    "## Step 3: low pass filter\n",
    "\n",
    "40 Hz low pass filter 4th order butterworth"
   ]
  },
  {
   "cell_type": "code",
   "execution_count": null,
   "metadata": {
    "colab": {
     "base_uri": "https://localhost:8080/",
     "height": 299
    },
    "executionInfo": {
     "elapsed": 511,
     "status": "ok",
     "timestamp": 1627589065798,
     "user": {
      "displayName": "Momona Yamagami",
      "photoUrl": "",
      "userId": "09607993393454608900"
     },
     "user_tz": 420
    },
    "id": "Vq1Uczq4zS6f",
    "outputId": "0b282213-2859-41bd-8a4a-55fd400d78ff"
   },
   "outputs": [],
   "source": [
    "sos = signal.butter(N=4,Wn=40,btype='lowpass',fs=fs, output='sos')\n",
    "# plot butterworth filter\n",
    "w, h = signal.sosfreqz(sos=sos,fs=fs)\n",
    "plt.semilogx(w, 20 * np.log10(abs(h)))\n",
    "plt.title('Butterworth filter frequency response')\n",
    "plt.xlabel('Frequency Hz]')\n",
    "plt.ylabel('Amplitude [dB]')\n",
    "# plt.margins(0, 0.1)\n",
    "# plt.grid(which='both', axis='both')\n",
    "plt.axvline(40, color='green') # cutoff frequency\n",
    "plt.show()"
   ]
  },
  {
   "cell_type": "code",
   "execution_count": null,
   "metadata": {
    "executionInfo": {
     "elapsed": 3,
     "status": "ok",
     "timestamp": 1627589065799,
     "user": {
      "displayName": "Momona Yamagami",
      "photoUrl": "",
      "userId": "09607993393454608900"
     },
     "user_tz": 420
    },
    "id": "hKTju5wdzi70"
   },
   "outputs": [],
   "source": [
    "# FILTER THE DATA \n",
    "data[\"bic_lp\"] = signal.sosfiltfilt(sos=sos,x=data[\"bic_rect\"].values)\n",
    "data[\"tri_lp\"] = signal.sosfiltfilt(sos=sos,x=data[\"tri_rect\"].values)"
   ]
  },
  {
   "cell_type": "code",
   "execution_count": null,
   "metadata": {
    "colab": {
     "base_uri": "https://localhost:8080/",
     "height": 279
    },
    "executionInfo": {
     "elapsed": 442,
     "status": "ok",
     "timestamp": 1627589066238,
     "user": {
      "displayName": "Momona Yamagami",
      "photoUrl": "",
      "userId": "09607993393454608900"
     },
     "user_tz": 420
    },
    "id": "dcmquvxozwz6",
    "outputId": "8205a7b5-985e-4192-d6b4-4aeda85ec81f"
   },
   "outputs": [],
   "source": [
    "# PLOT THE FILTERED DATA\n",
    "fig,[ax1,ax2] = plt.subplots(1,2,sharex=True,sharey=True)\n",
    "ax1.plot(np.linspace(0,len(data)/fs,len(data)),data[\"bic_demean\"]*1000)\n",
    "ax1.plot(np.linspace(0,len(data)/fs,len(data)),data[\"bic_lp\"]*1000)\n",
    "ax1.set_xlabel(\"Time (seconds)\")\n",
    "ax1.set_ylabel(\"Biceps voltage (mV) after 40 Hz HP filter\")\n",
    "ax2.plot(np.linspace(0,len(data)/fs,len(data)),data[\"tri_demean\"]*1000)\n",
    "ax2.plot(np.linspace(0,len(data)/fs,len(data)),data[\"tri_lp\"]*1000)\n",
    "ax2.set_xlabel(\"Time (seconds)\")\n",
    "ax2.set_ylabel(\"Triceps voltage (mV) after 40 Hz HP filter\")\n",
    "plt.show()"
   ]
  },
  {
   "cell_type": "code",
   "execution_count": null,
   "metadata": {
    "colab": {
     "base_uri": "https://localhost:8080/",
     "height": 279
    },
    "executionInfo": {
     "elapsed": 535,
     "status": "ok",
     "timestamp": 1627589066770,
     "user": {
      "displayName": "Momona Yamagami",
      "photoUrl": "",
      "userId": "09607993393454608900"
     },
     "user_tz": 420
    },
    "id": "8ULVyfMmzz_T",
    "outputId": "11aa7073-09f6-4419-c6c4-cf1edd4f7bf4"
   },
   "outputs": [],
   "source": [
    "divby = 32\n",
    "# PLOT IN FREQ DOMAIN AND COMPARE AGAINST UNFILTERED\n",
    "data[\"tri_lp_fft\"] = fft.fft(data[\"tri_lp\"].values-np.mean(data[\"tri_lp\"].values))\n",
    "data[\"bic_lp_fft\"] = fft.fft(data[\"bic_lp\"].values-np.mean(data[\"bic_lp\"].values))\n",
    "\n",
    "fig,[ax1,ax2] = plt.subplots(1,2,sharex=True,sharey=True)\n",
    "ax1.plot(xf[:int(N/divby)],abs(data[\"bic_fft\"])[:int(N/divby)],label='no filter')\n",
    "ax1.plot(xf[:int(N/divby)],abs(data[\"bic_lp_fft\"])[:int(N/divby)],label='after lp filter',alpha=0.5)\n",
    "ax1.set_xlabel(\"Frequency (Hz)\")\n",
    "ax1.set_ylabel(\"Biceps voltage (mV)\")\n",
    "ax2.plot(xf[:int(N/divby)],np.abs(data[\"tri_fft\"].values[:int(N/divby)]),label='no filter')\n",
    "ax2.plot(xf[:int(N/divby)],np.abs(data[\"tri_lp_fft\"].values[:int(N/divby)]),label='after lp filter',alpha=0.5)\n",
    "ax2.set_xlabel(\"frequency (Hz)\")\n",
    "ax2.set_ylabel(\"Triceps voltage (mV)\")\n",
    "plt.legend()\n",
    "plt.show()"
   ]
  },
  {
   "cell_type": "markdown",
   "metadata": {
    "id": "DQdxhYiTnGXm"
   },
   "source": [
    "## Step 4: Compute RMS\n",
    "\n",
    "use sliding window that is 300 ms long\n",
    "\n",
    "$$x_{rms}=\\sqrt{\\frac{1}{N}\\sum^N_{n=1}|x_n|^2}$$"
   ]
  },
  {
   "cell_type": "code",
   "execution_count": null,
   "metadata": {
    "executionInfo": {
     "elapsed": 65094,
     "status": "ok",
     "timestamp": 1627602575880,
     "user": {
      "displayName": "Momona Yamagami",
      "photoUrl": "",
      "userId": "09607993393454608900"
     },
     "user_tz": 420
    },
    "id": "kggmyfInnF6w"
   },
   "outputs": [],
   "source": [
    "window = np.ceil(0.3*fs)\n",
    "\n",
    "bic_rms = []\n",
    "for idx in range(int(len(data[\"bic_lp\"])-window)):\n",
    "    bic_rms.append(np.sqrt(1/window*np.sum([abs(x)**2 for x in data[\"bic_lp\"].values[idx:int(idx+window)]])))\n",
    "bic_rms = np.asarray(bic_rms)\n",
    "\n",
    "tri_rms = []\n",
    "for idx in range(int(len(data[\"tri_lp\"])-window)):\n",
    "    tri_rms.append(np.sqrt(1/window*np.sum([abs(x)**2 for x in data[\"tri_lp\"].values[idx:int(idx+window)]])))\n",
    "tri_rms = np.asarray(tri_rms)"
   ]
  },
  {
   "cell_type": "code",
   "execution_count": null,
   "metadata": {
    "colab": {
     "base_uri": "https://localhost:8080/",
     "height": 297
    },
    "executionInfo": {
     "elapsed": 1427,
     "status": "ok",
     "timestamp": 1627602781404,
     "user": {
      "displayName": "Momona Yamagami",
      "photoUrl": "",
      "userId": "09607993393454608900"
     },
     "user_tz": 420
    },
    "id": "GsRmPqETqBmG",
    "outputId": "bc32ec88-4d0d-46a2-cf7e-5c4332fc8bde"
   },
   "outputs": [],
   "source": [
    "fig,[ax1,ax2] = plt.subplots(1,2,sharex=True,sharey=False)\n",
    "ax1.plot(np.linspace(0,len(data)/fs,len(data)),abs(data[\"bic_lp\"])*1000)\n",
    "ax1.plot(np.linspace(0,len(bic_rms)/fs,len(bic_rms)),bic_rms*1000)\n",
    "ax1.set_xlabel(\"Time (seconds)\")\n",
    "ax1.set_ylabel(\"Biceps voltage (mV)\")\n",
    "ax2.plot(np.linspace(0,len(data)/fs,len(data)),abs(data[\"tri_lp\"])*1000,label=\"filtered EMG data\")\n",
    "ax2.plot(np.linspace(0,len(tri_rms)/fs,len(tri_rms)),tri_rms*1000,label=\"RMS\")\n",
    "ax2.set_xlabel(\"Time (seconds)\")\n",
    "ax2.set_ylabel(\"Triceps voltage (mV)\")\n",
    "plt.legend()\n",
    "plt.tight_layout()\n",
    "\n",
    "plt.show()"
   ]
  },
  {
   "cell_type": "markdown",
   "metadata": {
    "id": "gBrXvX0F3_Lq"
   },
   "source": [
    "# Compute Power spectral density\n",
    "\n",
    "Welch's PSD estimate with 50% overlap "
   ]
  },
  {
   "cell_type": "code",
   "execution_count": null,
   "metadata": {
    "colab": {
     "base_uri": "https://localhost:8080/",
     "height": 279
    },
    "executionInfo": {
     "elapsed": 778,
     "status": "ok",
     "timestamp": 1627599026658,
     "user": {
      "displayName": "Momona Yamagami",
      "photoUrl": "",
      "userId": "09607993393454608900"
     },
     "user_tz": 420
    },
    "id": "cLfEXPEm2wTg",
    "outputId": "7d170139-fbcb-480f-9aaa-dd6b62fd2683"
   },
   "outputs": [],
   "source": [
    "f, Pxx_bic = signal.welch(data[\"bic_demean\"].values, fs=fs,detrend=False)\n",
    "f, Pxx_tri = signal.welch(data[\"tri_demean\"].values, fs=fs,detrend=False)\n",
    "plt.semilogy(f, Pxx_bic,\"-o\",label='biceps')\n",
    "plt.semilogy(f, Pxx_tri,\"-o\",label='triceps')\n",
    "plt.legend()\n",
    "plt.xlabel('frequency [Hz]')\n",
    "plt.ylabel('PSD [V**2/Hz]')\n",
    "plt.show()"
   ]
  },
  {
   "cell_type": "markdown",
   "metadata": {
    "id": "ee9xcx0zPidF"
   },
   "source": [
    "# Compute SNR\n",
    "\n",
    "noise power is the sum of the PSD across the upper 20% ferq range\n",
    "\n",
    "total power is the sum of the PSD across all frequencies"
   ]
  },
  {
   "cell_type": "code",
   "execution_count": null,
   "metadata": {
    "colab": {
     "base_uri": "https://localhost:8080/"
    },
    "executionInfo": {
     "elapsed": 204,
     "status": "ok",
     "timestamp": 1627599028992,
     "user": {
      "displayName": "Momona Yamagami",
      "photoUrl": "",
      "userId": "09607993393454608900"
     },
     "user_tz": 420
    },
    "id": "0VPqkZhq5MSc",
    "outputId": "3c258c8d-592f-43f9-d947-0c16f5113b6a"
   },
   "outputs": [],
   "source": [
    "# upper 20%\n",
    "f_ind_upper = range(int(len(f)*4/5),len(f))#[ n for n,i in enumerate(f) if i>400 ]\n",
    "print(f[f_ind_upper[0]])\n",
    "noise_power = np.sum(Pxx_bic[f_ind_upper])/len(f_ind_upper)*len(f)\n",
    "print(noise_power)\n",
    "total_power = np.sum(Pxx_bic)\n",
    "print(total_power)\n",
    "SN_bic = total_power/noise_power\n",
    "print(\"bicep SNR:\", np.round(10*np.log10(SN_bic),2))"
   ]
  },
  {
   "cell_type": "code",
   "execution_count": null,
   "metadata": {
    "colab": {
     "base_uri": "https://localhost:8080/"
    },
    "executionInfo": {
     "elapsed": 151,
     "status": "ok",
     "timestamp": 1627599029799,
     "user": {
      "displayName": "Momona Yamagami",
      "photoUrl": "",
      "userId": "09607993393454608900"
     },
     "user_tz": 420
    },
    "id": "NijLBarsQDO1",
    "outputId": "c1b007a2-9dd9-4d5d-e9be-531441bfa175"
   },
   "outputs": [],
   "source": [
    "noise_power = np.sum(Pxx_tri[f_ind_upper])/len(f_ind_upper)*len(f)\n",
    "print(noise_power)\n",
    "total_power = np.sum(Pxx_tri)\n",
    "print(total_power)\n",
    "SN_tri = total_power/noise_power\n",
    "print(\"tri SNR:\", np.round(10*np.log10(SN_tri),2))"
   ]
  },
  {
   "cell_type": "markdown",
   "metadata": {
    "id": "C6C3Na-ONH2u"
   },
   "source": [
    "# Compute SMR\n",
    "\n",
    "assumptions:\n",
    "\n",
    "1. freq of motion artifacts are below 20 Hz\n",
    "\n",
    "2. shapres of non-contaminated EMG power spectrum is fairly linear below 20 Hz\n",
    "\n",
    "SMR = ratio of the sum of all power desnities for all freqs below 600 Hz and and sum of all power densities below 20 Hz that exceed a straight line between axis origin and highest mean power density above 35 Hz \n",
    "\n",
    "compute mean power density by averaging 13 consecutive points in the EMG power spectrum"
   ]
  },
  {
   "cell_type": "code",
   "execution_count": null,
   "metadata": {
    "executionInfo": {
     "elapsed": 218,
     "status": "ok",
     "timestamp": 1627599031483,
     "user": {
      "displayName": "Momona Yamagami",
      "photoUrl": "",
      "userId": "09607993393454608900"
     },
     "user_tz": 420
    },
    "id": "zLSHJItuBjyX"
   },
   "outputs": [],
   "source": [
    "# get freqs below 600 Hz\n",
    "f_600_indx = [ n for n,i in enumerate(f) if i<600 ] # get the indices of freqs below 600 Hz\n",
    "f_600 = f[f_600_indx]\n",
    "Pxx_bic_600 = Pxx_bic[f_600_indx]\n",
    "Pxx_tri_600 = Pxx_tri[f_600_indx]"
   ]
  },
  {
   "cell_type": "markdown",
   "metadata": {
    "id": "NMnuuHw2lBQF"
   },
   "source": [
    "## Compute mean PSD and find highest PSD above 35 Hz\n",
    "over 13 points"
   ]
  },
  {
   "cell_type": "code",
   "execution_count": null,
   "metadata": {
    "executionInfo": {
     "elapsed": 147,
     "status": "ok",
     "timestamp": 1627600636730,
     "user": {
      "displayName": "Momona Yamagami",
      "photoUrl": "",
      "userId": "09607993393454608900"
     },
     "user_tz": 420
    },
    "id": "MyCzdHdOTSif"
   },
   "outputs": [],
   "source": [
    "# average PSD over N points using N/2 points before and after\n",
    "N = 13\n",
    "b = np.squeeze(np.ones((N,1))/N)\n",
    "a = 1\n",
    "mean_psd_bic = signal.lfilter(b,a,np.hstack([Pxx_bic_600,(np.squeeze(np.zeros((int(np.floor(N/2)),1))))]))\n",
    "mean_psd_bic = mean_psd_bic[int(np.floor(N/2)):]\n",
    "\n",
    "mean_psd_tri = signal.lfilter(b,a,np.hstack([Pxx_tri_600,(np.squeeze(np.zeros((int(np.floor(N/2)),1))))]))\n",
    "mean_psd_tri = mean_psd_tri[int(np.floor(N/2)):]"
   ]
  },
  {
   "cell_type": "code",
   "execution_count": null,
   "metadata": {
    "colab": {
     "base_uri": "https://localhost:8080/"
    },
    "executionInfo": {
     "elapsed": 169,
     "status": "ok",
     "timestamp": 1627600693748,
     "user": {
      "displayName": "Momona Yamagami",
      "photoUrl": "",
      "userId": "09607993393454608900"
     },
     "user_tz": 420
    },
    "id": "pTb0w92vcza0",
    "outputId": "e245a107-378b-4db6-fcf1-54fed7c9eff0"
   },
   "outputs": [],
   "source": [
    "# find index that is above 35 Hz for bic\n",
    "f_indx_above_35 = [x[0] for x in enumerate(f_600) if x[1] > 35]\n",
    "highest_mean_psd = max(mean_psd_bic[f_indx_above_35])\n",
    "f_highest_mean_psd = f_600[int(np.argmax(mean_psd_bic[f_indx_above_35])+(len(f_600)-len(f_indx_above_35)))]\n",
    "f_highest_mean_psd_indx = int(np.argmax(mean_psd_bic[f_indx_above_35])+(len(f_600)-len(f_indx_above_35))) \n",
    "print(\"highest mean psd above 35 Hz for bic is: \", highest_mean_psd)\n",
    "\n",
    "# find index that is above 35 Hz for tri\n",
    "highest_mean_psd_tri = max(mean_psd_tri[f_indx_above_35])\n",
    "f_highest_mean_psd_tri = f_600[int(np.argmax(mean_psd_tri[f_indx_above_35])+(len(f_600)-len(f_indx_above_35)))]\n",
    "f_highest_mean_psd_indx_tri = int(np.argmax(mean_psd_tri[f_indx_above_35])+(len(f_600)-len(f_indx_above_35))) \n",
    "print(\"highest mean psd above 35 Hz for tri is: \", highest_mean_psd_tri)"
   ]
  },
  {
   "cell_type": "markdown",
   "metadata": {
    "id": "mo9sGo64lIOC"
   },
   "source": [
    "## find data that is above slope "
   ]
  },
  {
   "cell_type": "code",
   "execution_count": null,
   "metadata": {
    "executionInfo": {
     "elapsed": 184,
     "status": "ok",
     "timestamp": 1627600860812,
     "user": {
      "displayName": "Momona Yamagami",
      "photoUrl": "",
      "userId": "09607993393454608900"
     },
     "user_tz": 420
    },
    "id": "wFW0_i79fmbp"
   },
   "outputs": [],
   "source": [
    "# find all data that is below the slope between highest point and (0,0)) bic\n",
    "f_indx_below_20 = [x[0] for x in enumerate(f_600) if x[1] < 20]\n",
    "slope = highest_mean_psd/f_highest_mean_psd\n",
    "indx_exceed_line = [x[0] for x in enumerate(Pxx_bic_600[f_indx_below_20]) if x[1] > slope*f_600[x[0]]]\n",
    "\n",
    "# find all data that is below the slope between highest point and (0,0)) tri\n",
    "slope_tri = highest_mean_psd_tri/f_highest_mean_psd_tri\n",
    "indx_exceed_line_tri = [x[0] for x in enumerate(Pxx_tri_600[f_indx_below_20]) if x[1] > slope_tri*f_600[x[0]]]"
   ]
  },
  {
   "cell_type": "code",
   "execution_count": null,
   "metadata": {
    "colab": {
     "base_uri": "https://localhost:8080/",
     "height": 276
    },
    "executionInfo": {
     "elapsed": 300,
     "status": "ok",
     "timestamp": 1627600861289,
     "user": {
      "displayName": "Momona Yamagami",
      "photoUrl": "",
      "userId": "09607993393454608900"
     },
     "user_tz": 420
    },
    "id": "L4pPsTcOblSa",
    "outputId": "33096d87-1897-409a-c58c-480cde4391d3",
    "scrolled": true
   },
   "outputs": [],
   "source": [
    "fig,[ax1,ax2] = plt.subplots(1,2,sharex=True,sharey=False)\n",
    "ax1.plot(f_600,Pxx_bic_600,\"-o\",label=\"original PSD\")\n",
    "ax1.plot(f_600,mean_psd_bic,label=\"mean PSD\")\n",
    "ax1.scatter(f_highest_mean_psd,highest_mean_psd, label='max above 35 Hz')\n",
    "ax1.plot(f_600[:f_highest_mean_psd_indx+1],f_600[:f_highest_mean_psd_indx+1]*slope,label='linear line')\n",
    "ax1.set_xlim((0,50))\n",
    "\n",
    "ax2.plot(f_600,Pxx_tri_600,\"-o\",label=\"original PSD\")\n",
    "ax2.plot(f_600,mean_psd_tri,label=\"mean PSD\")\n",
    "ax2.scatter(f_highest_mean_psd_tri,highest_mean_psd_tri, label='max above 35 Hz')\n",
    "ax2.plot(f_600[:f_highest_mean_psd_indx_tri+1],f_600[:f_highest_mean_psd_indx_tri+1]*slope_tri,label='linear line')\n",
    "ax2.set_xlim((0,50))\n",
    "\n",
    "ax1.legend()\n",
    "plt.show()"
   ]
  },
  {
   "cell_type": "code",
   "execution_count": null,
   "metadata": {
    "colab": {
     "base_uri": "https://localhost:8080/"
    },
    "executionInfo": {
     "elapsed": 124,
     "status": "ok",
     "timestamp": 1627600877360,
     "user": {
      "displayName": "Momona Yamagami",
      "photoUrl": "",
      "userId": "09607993393454608900"
     },
     "user_tz": 420
    },
    "id": "WGqztRiYeBuM",
    "outputId": "d786af80-c646-4e12-eef1-2d596a302b33"
   },
   "outputs": [],
   "source": [
    "# compute power above line\n",
    "power_above_line = np.sum(Pxx_bic_600[indx_exceed_line])\n",
    "total_power = np.sum(Pxx_bic_600)\n",
    "SM_bic = total_power/power_above_line\n",
    "print(\"SMR for biceps: \", np.round(10*np.log10(SM_bic),2))"
   ]
  },
  {
   "cell_type": "code",
   "execution_count": null,
   "metadata": {
    "colab": {
     "base_uri": "https://localhost:8080/"
    },
    "executionInfo": {
     "elapsed": 161,
     "status": "ok",
     "timestamp": 1627600907499,
     "user": {
      "displayName": "Momona Yamagami",
      "photoUrl": "",
      "userId": "09607993393454608900"
     },
     "user_tz": 420
    },
    "id": "9ps9Er9rje2c",
    "outputId": "f2df10cc-fd69-41e7-c94a-5e6731c1824c"
   },
   "outputs": [],
   "source": [
    "# compute power above line\n",
    "power_above_line = np.sum(Pxx_tri_600[indx_exceed_line_tri])\n",
    "total_power = np.sum(Pxx_tri_600)\n",
    "SM_tri = total_power/power_above_line\n",
    "print(\"SMR for triceps: \", np.round(10*np.log10(SM_tri),2))"
   ]
  },
  {
   "cell_type": "code",
   "execution_count": null,
   "metadata": {
    "id": "aFX8bgx_ktBW"
   },
   "outputs": [],
   "source": []
  }
 ],
 "metadata": {
  "colab": {
   "authorship_tag": "ABX9TyMLW70kltmmILShGzqnrGLs",
   "collapsed_sections": [],
   "name": "EMG_analysis.ipynb",
   "provenance": [],
   "toc_visible": true
  },
  "kernelspec": {
   "display_name": "Python 3",
   "language": "python",
   "name": "python3"
  },
  "language_info": {
   "codemirror_mode": {
    "name": "ipython",
    "version": 3
   },
   "file_extension": ".py",
   "mimetype": "text/x-python",
   "name": "python",
   "nbconvert_exporter": "python",
   "pygments_lexer": "ipython3",
   "version": "3.8.8"
  }
 },
 "nbformat": 4,
 "nbformat_minor": 1
}
