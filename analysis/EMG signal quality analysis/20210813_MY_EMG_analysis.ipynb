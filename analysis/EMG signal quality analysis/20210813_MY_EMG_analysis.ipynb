{
 "cells": [
  {
   "cell_type": "code",
   "execution_count": 2,
   "id": "73dc1823",
   "metadata": {},
   "outputs": [],
   "source": [
    "import numpy as np\n",
    "import matplotlib.pyplot as plt\n",
    "import pandas as pd\n",
    "from scipy import signal, fft\n",
    "import math as math\n",
    "import os\n",
    "from signalAnalysis import get_LE,get_psd,get_SNR,get_SMR\n",
    "\n",
    "# make font bigger\n",
    "import matplotlib\n",
    "font = {'family' : 'normal',\n",
    "        # 'weight' : 'bold',\n",
    "        'size'   : 20}\n",
    "\n",
    "matplotlib.rc('font', **font)"
   ]
  },
  {
   "cell_type": "code",
   "execution_count": 3,
   "id": "a0bd22f5",
   "metadata": {},
   "outputs": [],
   "source": [
    "# fs = 1926. # change this to whatever sampling frequency you used\n",
    "fs = 9600.\n",
    "fs2 = 1926."
   ]
  },
  {
   "cell_type": "markdown",
   "id": "f971d64f",
   "metadata": {},
   "source": [
    "##  Find files"
   ]
  },
  {
   "cell_type": "code",
   "execution_count": 4,
   "id": "6f1181c5",
   "metadata": {},
   "outputs": [],
   "source": [
    "# change path name to wherever you saved your data\n",
    "# path = 'C:/Users/yamag/Documents/Work/Research/sensorfusion/analysis/EMG signal quality analysis/delsys-data'\n",
    "path = 'D:/Momona/Google Drive2/NEW Yamagami Lab/Projects/hcps/UG/Alexis/sensorfusion/data/0810EMGraw'\n",
    "\n",
    "files = os.listdir(path)    \n",
    "files = list(filter(lambda f: f.endswith('.csv'), files))"
   ]
  },
  {
   "cell_type": "code",
   "execution_count": 5,
   "id": "f4ecb8d1",
   "metadata": {},
   "outputs": [],
   "source": [
    "# change path name to wherever you saved your data\n",
    "path2 = 'D:/Momona/Google Drive2/NEW Yamagami Lab/Projects/hcps/UG/Alexis/sensorfusion/analysis/EMG signal quality analysis/delsys-data'\n",
    "\n",
    "files2 = os.listdir(path2)    \n",
    "files2 = list(filter(lambda f: f.endswith('.csv'), files2))"
   ]
  },
  {
   "cell_type": "markdown",
   "id": "85f1f680",
   "metadata": {},
   "source": [
    "## Compute average RMS, SNR, SMR for each trial"
   ]
  },
  {
   "cell_type": "code",
   "execution_count": 6,
   "id": "00795f7b",
   "metadata": {},
   "outputs": [
    {
     "name": "stderr",
     "output_type": "stream",
     "text": [
      "D:\\Momona\\Google Drive2\\NEW Yamagami Lab\\Projects\\hcps\\UG\\Alexis\\sensorfusion\\analysis\\EMG signal quality analysis\\signalAnalysis.py:128: SettingWithCopyWarning: \n",
      "A value is trying to be set on a copy of a slice from a DataFrame.\n",
      "Try using .loc[row_indexer,col_indexer] = value instead\n",
      "\n",
      "See the caveats in the documentation: https://pandas.pydata.org/pandas-docs/stable/user_guide/indexing.html#returning-a-view-versus-a-copy\n",
      "  data[\"bic_demean\"]= data[\"Biceps (V)\"].values-np.mean(data[\"Biceps (V)\"].values)\n",
      "D:\\Momona\\Google Drive2\\NEW Yamagami Lab\\Projects\\hcps\\UG\\Alexis\\sensorfusion\\analysis\\EMG signal quality analysis\\signalAnalysis.py:129: SettingWithCopyWarning: \n",
      "A value is trying to be set on a copy of a slice from a DataFrame.\n",
      "Try using .loc[row_indexer,col_indexer] = value instead\n",
      "\n",
      "See the caveats in the documentation: https://pandas.pydata.org/pandas-docs/stable/user_guide/indexing.html#returning-a-view-versus-a-copy\n",
      "  data[\"tri_demean\"]= data[\"Triceps (V)\"].values-np.mean(data[\"Triceps (V)\"].values)\n"
     ]
    }
   ],
   "source": [
    "SNR = []\n",
    "SMR = []\n",
    "avg_LE = []\n",
    "\n",
    "for file in files:\n",
    "    # import data\n",
    "    dataraw = pd.read_csv(os.path.join(path,file),\n",
    "                       names=[\"Time\", \"Biceps (V)\", \"Triceps (V)\", \"slider\"])\n",
    "    data = dataraw[dataraw[\"Biceps (V)\"].values != 0]\n",
    "    f,Pxx_bic,Pxx_tri = get_psd(data,fs)\n",
    "    SNR.append(get_SNR(f,Pxx_bic,Pxx_tri))\n",
    "    SMR.append(get_SMR(f,Pxx_bic,Pxx_tri))\n",
    "    avg_LE.append(get_LE(data,fs))\n"
   ]
  },
  {
   "cell_type": "code",
   "execution_count": 7,
   "id": "e5f5d78d",
   "metadata": {},
   "outputs": [],
   "source": [
    "SNR2 = []\n",
    "SMR2 = []\n",
    "avg_LE2 = []\n",
    "\n",
    "for file in files2:\n",
    "    # import data\n",
    "    data = pd.read_csv(os.path.join(path2,file),\n",
    "                       names=[\"Time\", \"Biceps (V)\", \"Triceps (V)\"])\n",
    "    f,Pxx_bic,Pxx_tri = get_psd(data,fs2)\n",
    "    SNR2.append(get_SNR(f,Pxx_bic,Pxx_tri))\n",
    "    SMR2.append(get_SMR(f,Pxx_bic,Pxx_tri))\n",
    "    avg_LE2.append(get_LE(data,fs2))"
   ]
  },
  {
   "cell_type": "code",
   "execution_count": 8,
   "id": "72c733af",
   "metadata": {},
   "outputs": [],
   "source": [
    "SNR = np.asarray(SNR)\n",
    "SMR = np.asarray(SMR)\n",
    "avg_LE = np.asarray(avg_LE)\n",
    "\n",
    "SNR2 = np.asarray(SNR2)\n",
    "SMR2 = np.asarray(SMR2)\n",
    "avg_LE2 = np.asarray(avg_LE2)"
   ]
  },
  {
   "cell_type": "markdown",
   "id": "1cbcf4ba",
   "metadata": {},
   "source": [
    "## Make some plots"
   ]
  },
  {
   "cell_type": "code",
   "execution_count": 17,
   "id": "c5de7339",
   "metadata": {},
   "outputs": [
    {
     "name": "stderr",
     "output_type": "stream",
     "text": [
      "No handles with labels found to put in legend.\n"
     ]
    },
    {
     "data": {
      "image/png": "[encoded data removed]",
      "text/plain": [
       "<Figure size 648x288 with 2 Axes>"
      ]
     },
     "metadata": {},
     "output_type": "display_data"
    }
   ],
   "source": [
    "def set_box_color(bp, color):\n",
    "    plt.setp(bp['boxes'], color=color,linewidth=3)\n",
    "    plt.setp(bp['whiskers'], color=color,linewidth=3)\n",
    "    plt.setp(bp['caps'], color=color,linewidth=3)\n",
    "    plt.setp(bp['medians'], color=color,linewidth=3)\n",
    "# PLOT SNR\n",
    "width = 0.8\n",
    "fig,[ax1,ax2] = plt.subplots(1,2,sharex=True,figsize=(9,4))\n",
    "bic = [SNR2[:,0],SNR[:,0]]\n",
    "tri = [SNR2[:,1],SNR[:,1]]\n",
    "box2 = ax1.boxplot(bic, positions=np.array(range(len(bic)))*2.0-0.4, widths = width)\n",
    "set_box_color(box2,'#D7191C')\n",
    "box = ax1.boxplot(tri, positions=np.array(range(len(tri)))*2.0+0.4, widths = width)\n",
    "set_box_color(box,'#2C7BB6')\n",
    "ticks = [\"Delsys\",\"Spikershields\"]\n",
    "# ax1.set_xticks(range(0, len(ticks) * 2, 2), ticks)\n",
    "ax1.set_xlim(-2, len(ticks)*2)\n",
    "ax1.set_ylabel(\"SNR (dB)\")\n",
    "# plt.title(\"Signal to noise ratio for Delsys and spikershield EMG\")\n",
    "ax1.plot([], c='#D7191C', label='Biceps')\n",
    "ax1.plot([], c='#2C7BB6', label='Triceps')\n",
    "plt.legend()\n",
    "\n",
    "# PLOT SMR\n",
    "bic = [SMR2[:,0],SMR[:,0]]\n",
    "tri = [SMR2[:,1],SMR[:,1]]\n",
    "box2 = ax2.boxplot(bic, positions=np.array(range(len(bic)))*2.0-0.4, widths = width)\n",
    "set_box_color(box2,'#D7191C')\n",
    "box = ax2.boxplot(tri, positions=np.array(range(len(tri)))*2.0+0.4, widths = width)\n",
    "set_box_color(box,'#2C7BB6')\n",
    "ticks = [\"Delsys\",\"Spiker\\nshield\"]\n",
    "plt.xticks(range(0, len(ticks) * 2, 2), ticks)\n",
    "ax2.set_xlim(-2, len(ticks)*2)\n",
    "ax2.set_ylabel(\"SMR (dB)\")\n",
    "# plt.title(\"Signal to motion ratio for Delsys and spikershield EMG\")\n",
    "ax2.plot([], c='#D7191C', label='Biceps')\n",
    "ax2.plot([], c='#2C7BB6', label='Triceps')\n",
    "plt.legend()\n",
    "\n",
    "plt.tight_layout()\n",
    "rect = fig.patch\n",
    "rect.set_facecolor('white')\n",
    "plt.show()\n",
    "\n",
    "# PLOT AVG_RMS\n",
    "# bic = [avg_LE2[:,0]*1000,avg_LE[:,0]*1000*5/1024.]\n",
    "# tri = [avg_LE2[:,1]*1000,avg_LE[:,1]*1000*5/1024.]\n",
    "# box2 = plt.boxplot(bic, positions=np.array(range(len(bic)))*2.0-0.4, widths = 0.5)\n",
    "# set_box_color(box2,'#D7191C')\n",
    "# box = plt.boxplot(tri, positions=np.array(range(len(tri)))*2.0+0.4, widths = 0.5)\n",
    "# set_box_color(box,'#2C7BB6')\n",
    "# ticks = [\"Delsys\",\"Spikershields\"]\n",
    "# plt.xticks(range(0, len(ticks) * 2, 2), ticks)\n",
    "# plt.xlim(-2, len(ticks)*2)\n",
    "# plt.ylabel(\"average Linear Envelope (mV)\")\n",
    "# plt.title(\"EMG Linear Envelope for Delsys and spikershield EMG\")\n",
    "# plt.plot([], c='#D7191C', label='Biceps')\n",
    "# plt.plot([], c='#2C7BB6', label='Triceps')\n",
    "# plt.legend()\n",
    "# plt.show()\n",
    "\n"
   ]
  },
  {
   "cell_type": "code",
   "execution_count": null,
   "id": "118579ff-aca1-42f2-9990-5ab9b90f4e14",
   "metadata": {},
   "outputs": [],
   "source": []
  },
  {
   "cell_type": "code",
   "execution_count": null,
   "id": "9912f617-2c6d-459f-9e83-186800a009b9",
   "metadata": {},
   "outputs": [],
   "source": []
  },
  {
   "cell_type": "code",
   "execution_count": null,
   "id": "3e1ccff3-6af3-45c5-b536-e0415339a3f2",
   "metadata": {},
   "outputs": [],
   "source": []
  },
  {
   "cell_type": "code",
   "execution_count": null,
   "id": "3025ebc4-fa78-4c8d-ab52-5ab2ca75dac6",
   "metadata": {},
   "outputs": [],
   "source": []
  }
 ],
 "metadata": {
  "interpreter": {
   "hash": "c5fa49b1b7d5e2906e4eefcbb0032ff02a017e68033cb644d1ced42184e0729f"
  },
  "kernelspec": {
   "display_name": "Python 3",
   "language": "python",
   "name": "python3"
  },
  "language_info": {
   "codemirror_mode": {
    "name": "ipython",
    "version": 3
   },
   "file_extension": ".py",
   "mimetype": "text/x-python",
   "name": "python",
   "nbconvert_exporter": "python",
   "pygments_lexer": "ipython3",
   "version": "3.8.8"
  }
 },
 "nbformat": 4,
 "nbformat_minor": 5
}
