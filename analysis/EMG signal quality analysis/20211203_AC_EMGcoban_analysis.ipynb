{
 "cells": [
  {
   "cell_type": "code",
   "execution_count": 9,
   "id": "73dc1823",
   "metadata": {},
   "outputs": [],
   "source": [
    "import numpy as np\n",
    "import matplotlib.pyplot as plt\n",
    "import pandas as pd\n",
    "from scipy import signal, fft\n",
    "import math as math\n",
    "import os\n",
    "from signalAnalysis import get_LE,get_psd,get_SNR,get_SMR\n",
    "\n",
    "# make font bigger\n",
    "import matplotlib\n",
    "font = {'family' : 'normal',\n",
    "        # 'weight' : 'bold',\n",
    "        'size'   : 14}\n",
    "\n",
    "matplotlib.rc('font', **font)"
   ]
  },
  {
   "cell_type": "code",
   "execution_count": 10,
   "id": "a0bd22f5",
   "metadata": {},
   "outputs": [],
   "source": [
    "# fs = 1926. # change this to whatever sampling frequency you used\n",
    "fs = 1000.\n",
    "fs2 = 1000."
   ]
  },
  {
   "cell_type": "markdown",
   "id": "f971d64f",
   "metadata": {},
   "source": [
    "##  Find files"
   ]
  },
  {
   "cell_type": "code",
   "execution_count": 11,
   "id": "6f1181c5",
   "metadata": {},
   "outputs": [],
   "source": [
    "# change path name to wherever you saved your data\n",
    "# path = 'C:/Users/yamag/Documents/Work/Research/sensorfusion/analysis/EMG signal quality analysis/delsys-data'\n",
    "# path = 'C:/Users/amber/Documents/GitHub/sensorfusion/data/pilot_1202_emg_raw_coban'\n",
    "path = 'C:/Users/amber/Documents/GitHub/sensorfusion/data/pilot2_1207_emg/raw'\n",
    "\n",
    "\n",
    "files = os.listdir(path)    \n",
    "files = list(filter(lambda f: f.endswith('.csv'), files))"
   ]
  },
  {
   "cell_type": "code",
   "execution_count": 12,
   "id": "f4ecb8d1",
   "metadata": {},
   "outputs": [],
   "source": [
    "# change path name to wherever you saved your data\n",
    "# path2 = 'C:/Users/yamag/Documents/Work/Research/sensorfusion/analysis/EMG signal quality analysis/delsys-data'\n",
    "# path2 = 'C:/Users/amber/Documents/GitHub/sensorfusion/data/pilot_1202_emg_raw_noban/pilot_1113_nocoban'\n",
    "path2 = 'C:/Users/amber/Documents/GitHub/sensorfusion/data/pilot2_1207_emg_ctl2_loop/raw'\n",
    "\n",
    "\n",
    "files2 = os.listdir(path2)    \n",
    "files2 = list(filter(lambda f: f.endswith('.csv'), files2))"
   ]
  },
  {
   "cell_type": "markdown",
   "id": "85f1f680",
   "metadata": {},
   "source": [
    "## Compute average RMS, SNR, SMR for each trial"
   ]
  },
  {
   "cell_type": "code",
   "execution_count": 13,
   "id": "00795f7b",
   "metadata": {},
   "outputs": [
    {
     "name": "stderr",
     "output_type": "stream",
     "text": [
      "c:\\Users\\amber\\Documents\\GitHub\\sensorfusion\\analysis\\EMG signal quality analysis\\signalAnalysis.py:128: SettingWithCopyWarning: \n",
      "A value is trying to be set on a copy of a slice from a DataFrame.\n",
      "Try using .loc[row_indexer,col_indexer] = value instead\n",
      "\n",
      "See the caveats in the documentation: https://pandas.pydata.org/pandas-docs/stable/user_guide/indexing.html#returning-a-view-versus-a-copy\n",
      "  data[\"bic_demean\"]= data[\"Biceps (V)\"].values-np.mean(data[\"Biceps (V)\"].values)\n",
      "c:\\Users\\amber\\Documents\\GitHub\\sensorfusion\\analysis\\EMG signal quality analysis\\signalAnalysis.py:129: SettingWithCopyWarning: \n",
      "A value is trying to be set on a copy of a slice from a DataFrame.\n",
      "Try using .loc[row_indexer,col_indexer] = value instead\n",
      "\n",
      "See the caveats in the documentation: https://pandas.pydata.org/pandas-docs/stable/user_guide/indexing.html#returning-a-view-versus-a-copy\n",
      "  data[\"tri_demean\"]= data[\"Triceps (V)\"].values-np.mean(data[\"Triceps (V)\"].values)\n"
     ]
    }
   ],
   "source": [
    "SNR = []\n",
    "SMR = []\n",
    "avg_LE = []\n",
    "\n",
    "for file in files:\n",
    "    # import data\n",
    "    dataraw = pd.read_csv(os.path.join(path,file),\n",
    "                       names=[\"Time\", \"Biceps (V)\", \"Triceps (V)\", \"slider\"])\n",
    "    data = dataraw[dataraw[\"Biceps (V)\"].values != 0]\n",
    "    f,Pxx_bic,Pxx_tri = get_psd(data,fs)\n",
    "    SNR.append(get_SNR(f,Pxx_bic,Pxx_tri))\n",
    "    SMR.append(get_SMR(f,Pxx_bic,Pxx_tri))\n",
    "    avg_LE.append(get_LE(data,fs))\n"
   ]
  },
  {
   "cell_type": "code",
   "execution_count": 14,
   "id": "e5f5d78d",
   "metadata": {},
   "outputs": [],
   "source": [
    "SNR2 = []\n",
    "SMR2 = []\n",
    "avg_LE2 = []\n",
    "\n",
    "for file in files2:\n",
    "    # import data\n",
    "    data = pd.read_csv(os.path.join(path2,file),\n",
    "                       names=[\"Time\", \"Biceps (V)\", \"Triceps (V)\", \"slider\"])\n",
    "    f,Pxx_bic,Pxx_tri = get_psd(data,fs2)\n",
    "    SNR2.append(get_SNR(f,Pxx_bic,Pxx_tri))\n",
    "    SMR2.append(get_SMR(f,Pxx_bic,Pxx_tri))\n",
    "    avg_LE2.append(get_LE(data,fs2))"
   ]
  },
  {
   "cell_type": "code",
   "execution_count": 15,
   "id": "72c733af",
   "metadata": {},
   "outputs": [],
   "source": [
    "SNR = np.asarray(SNR)\n",
    "SMR = np.asarray(SMR)\n",
    "avg_LE = np.asarray(avg_LE)\n",
    "\n",
    "SNR2 = np.asarray(SNR2)\n",
    "SMR2 = np.asarray(SMR2)\n",
    "avg_LE2 = np.asarray(avg_LE2)"
   ]
  },
  {
   "cell_type": "markdown",
   "id": "1cbcf4ba",
   "metadata": {},
   "source": [
    "## Make some plots"
   ]
  },
  {
   "cell_type": "code",
   "execution_count": 16,
   "id": "c5de7339",
   "metadata": {},
   "outputs": [
    {
     "data": {
      "image/png": "[encoded data removed]",
      "text/plain": [
       "<Figure size 432x288 with 1 Axes>"
      ]
     },
     "metadata": {
      "needs_background": "light"
     },
     "output_type": "display_data"
    },
    {
     "data": {
      "image/png": "[encoded data removed]",
      "text/plain": [
       "<Figure size 432x288 with 1 Axes>"
      ]
     },
     "metadata": {
      "needs_background": "light"
     },
     "output_type": "display_data"
    }
   ],
   "source": [
    "def set_box_color(bp, color):\n",
    "    plt.setp(bp['boxes'], color=color)\n",
    "    plt.setp(bp['whiskers'], color=color)\n",
    "    plt.setp(bp['caps'], color=color)\n",
    "    plt.setp(bp['medians'], color=color)\n",
    "# PLOT SNR\n",
    "bic = [SNR2[:,0],SNR[:,0]]\n",
    "tri = [SNR2[:,1],SNR[:,1]]\n",
    "box2 = plt.boxplot(bic, positions=np.array(range(len(bic)))*2.0-0.4, widths = 0.5)\n",
    "set_box_color(box2,'#D7191C')\n",
    "box = plt.boxplot(tri, positions=np.array(range(len(tri)))*2.0+0.4, widths = 0.5)\n",
    "set_box_color(box,'#2C7BB6')\n",
    "ticks = [\"No coban\",\"Coban\"]\n",
    "plt.xticks(range(0, len(ticks) * 2, 2), ticks)\n",
    "plt.xlim(-2, len(ticks)*2)\n",
    "plt.ylabel(\"SNR (dB)\")\n",
    "plt.title(\"Signal to noise ratio for spikershield EMG\")\n",
    "plt.plot([], c='#D7191C', label='Biceps')\n",
    "plt.plot([], c='#2C7BB6', label='Triceps')\n",
    "plt.legend()\n",
    "plt.show()\n",
    "\n",
    "# PLOT SMR\n",
    "bic = [SMR2[:,0],SMR[:,0]]\n",
    "tri = [SMR2[:,1],SMR[:,1]]\n",
    "box2 = plt.boxplot(bic, positions=np.array(range(len(bic)))*2.0-0.4, widths = 0.5)\n",
    "set_box_color(box2,'#D7191C')\n",
    "box = plt.boxplot(tri, positions=np.array(range(len(tri)))*2.0+0.4, widths = 0.5)\n",
    "set_box_color(box,'#2C7BB6')\n",
    "ticks = [\"No coban\",\"Coban\"]\n",
    "plt.xticks(range(0, len(ticks) * 2, 2), ticks)\n",
    "plt.xlim(-2, len(ticks)*2)\n",
    "plt.ylabel(\"SMR (dB)\")\n",
    "plt.title(\"Signal to motion ratio for spikershield EMG\")\n",
    "plt.plot([], c='#D7191C', label='Biceps')\n",
    "plt.plot([], c='#2C7BB6', label='Triceps')\n",
    "plt.legend()\n",
    "plt.show()\n",
    "\n",
    "# PLOT AVG_RMS\n",
    "# bic = [avg_LE2[:,0]*1000,avg_LE[:,0]*1000*5/1024.]\n",
    "# tri = [avg_LE2[:,1]*1000,avg_LE[:,1]*1000*5/1024.]\n",
    "# box2 = plt.boxplot(bic, positions=np.array(range(len(bic)))*2.0-0.4, widths = 0.5)\n",
    "# set_box_color(box2,'#D7191C')\n",
    "# box = plt.boxplot(tri, positions=np.array(range(len(tri)))*2.0+0.4, widths = 0.5)\n",
    "# set_box_color(box,'#2C7BB6')\n",
    "# ticks = [\"Delsys\",\"Spikershields\"]\n",
    "# plt.xticks(range(0, len(ticks) * 2, 2), ticks)\n",
    "# plt.xlim(-2, len(ticks)*2)\n",
    "# plt.ylabel(\"average Linear Envelope (mV)\")\n",
    "# plt.title(\"EMG Linear Envelope for Delsys and spikershield EMG\")\n",
    "# plt.plot([], c='#D7191C', label='Biceps')\n",
    "# plt.plot([], c='#2C7BB6', label='Triceps')\n",
    "# plt.legend()\n",
    "# plt.show()\n",
    "\n"
   ]
  },
  {
   "cell_type": "code",
   "execution_count": null,
   "id": "4ce2bcc8",
   "metadata": {},
   "outputs": [],
   "source": []
  }
 ],
 "metadata": {
  "interpreter": {
   "hash": "c5fa49b1b7d5e2906e4eefcbb0032ff02a017e68033cb644d1ced42184e0729f"
  },
  "kernelspec": {
   "display_name": "Python 3",
   "language": "python",
   "name": "python3"
  },
  "language_info": {
   "codemirror_mode": {
    "name": "ipython",
    "version": 3
   },
   "file_extension": ".py",
   "mimetype": "text/x-python",
   "name": "python",
   "nbconvert_exporter": "python",
   "pygments_lexer": "ipython3",
   "version": "3.8.3"
  }
 },
 "nbformat": 4,
 "nbformat_minor": 5
}
