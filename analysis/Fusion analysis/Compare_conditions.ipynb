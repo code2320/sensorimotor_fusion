{
 "cells": [
  {
   "cell_type": "markdown",
   "metadata": {},
   "source": [
    "# Setup"
   ]
  },
  {
   "cell_type": "code",
   "execution_count": 1,
   "metadata": {},
   "outputs": [],
   "source": [
    "import numpy as np\n",
    "from numpy import linalg as LA\n",
    "import matplotlib\n",
    "import matplotlib.pyplot as plt\n",
    "import pandas as pd\n",
    "from scipy import signal, fft\n",
    "import math as math\n",
    "import os\n",
    "from matplotlib.patches import Polygon\n",
    "import copy\n",
    "import pickle\n",
    "from scipy.stats import norm,wilcoxon,shapiro,ttest_rel\n",
    "import statistics\n"
   ]
  },
  {
   "cell_type": "code",
   "execution_count": 2,
   "metadata": {},
   "outputs": [],
   "source": [
    "# plotting parameters\n",
    "#determine colors and font size|\n",
    "colors = dict(M='#6600CC',\n",
    "              F='#000000',\n",
    "              B='#FFFFFF',\n",
    "              H='#009900',\n",
    "              r='#FDB119',\n",
    "              u='#009900',\n",
    "              u25='#BBF90F',\n",
    "              u75='#006400',\n",
    "              d='#FD6E19',\n",
    "              #y='#0033FF',  #or 6600CC which is darker and I prefer \n",
    "              y='#6600CC',  #or 6600CC which is darker and I prefer \n",
    "              N='#0000CC',\n",
    "              D='#CC0000',\n",
    "              g='#B1B1B1', #grey\n",
    "              first5='#B1B1B1',\n",
    "              last5='#999999',\n",
    "              BLUE = '#1f77b4',\n",
    "              ORANGE = '#ff7f0e',\n",
    "              GREEN = '#2ca02c',\n",
    "              RED = '#d62728',\n",
    "              PURPLE = '#9467bd',\n",
    "              GOLD = '#FDB119') #default colors\n",
    "              # D = dominant = right; N = nondominant = left\n",
    "\n",
    "yfill = list(matplotlib.colors.to_rgba(colors['y']))\n",
    "yfill[-1] = 0.3\n",
    "\n",
    "ufill = list(matplotlib.colors.to_rgba(colors['u']))\n",
    "ufill[-1] = 0.3\n",
    "\n",
    "gfill = list(matplotlib.colors.to_rgba(colors['g']))\n",
    "gfill[-1] = 0.3\n",
    "\n",
    "rfill = list(matplotlib.colors.to_rgba(colors['r']))\n",
    "rfill[-1] = 0.3\n",
    "\n",
    "bfill = list(matplotlib.colors.to_rgba(colors['BLUE']))\n",
    "bfill[-1] = 0.3\n",
    "\n",
    "font = {#'family' : 'normal',\n",
    "        # 'weight' : 'bold',\n",
    "        'size'   : 12}\n",
    "\n",
    "matplotlib.rc('font', **font)"
   ]
  },
  {
   "cell_type": "code",
   "execution_count": 3,
   "metadata": {},
   "outputs": [],
   "source": [
    "a_file = open(\"HCPS.pkl\", \"rb\") #remember to close afterwards\n",
    "HCPS = pickle.load(a_file)\n",
    "a_file.close()\n",
    "\n",
    "b_file = open(\"DATA.pkl\", \"rb\") #remember to close afterwards\n",
    "DATA = pickle.load(b_file)\n",
    "b_file.close()\n",
    "\n",
    "c_file = open(\"TF.pkl\", \"rb\") #remember to close afterwards\n",
    "TF = pickle.load(c_file)\n",
    "c_file.close()\n",
    "\n",
    "d_file = open(\"SIM.pkl\", \"rb\") #remember to close afterwards\n",
    "SIM = pickle.load(d_file)\n",
    "d_file.close()\n",
    "\n",
    "lqg_file = open(\"LQG_SIM.pkl\", \"rb\") #remember to close afterwards\n",
    "LQG_SIM = pickle.load(lqg_file)\n",
    "lqg_file.close()"
   ]
  },
  {
   "cell_type": "code",
   "execution_count": 4,
   "metadata": {},
   "outputs": [
    {
     "name": "stderr",
     "output_type": "stream",
     "text": [
      "<ipython-input-4-cf8719837387>:8: RuntimeWarning: divide by zero encountered in true_divide\n",
      "  M = lambda s : 1/(s**2 + s) #2nd order machine\n",
      "<ipython-input-4-cf8719837387>:8: RuntimeWarning: invalid value encountered in true_divide\n",
      "  M = lambda s : 1/(s**2 + s) #2nd order machine\n"
     ]
    }
   ],
   "source": [
    "# Data analysis\n",
    "def FFT(data,N):\n",
    "  return fft.fft(data)/N\n",
    "\n",
    "def IFFT(data,N):\n",
    "  return (fft.ifft(data)*N).real\n",
    "  \n",
    "M = lambda s : 1/(s**2 + s) #2nd order machine\n",
    "\n",
    "num_cond = 7 #number of conditions\n",
    "participants_num = len(HCPS.keys())\n",
    "\n",
    "#number of trials for each condition\n",
    "trialnum = [0] * num_cond \n",
    "for c in range(num_cond):\n",
    "  trialnum[c] = len(HCPS['subject0']['condition'+str(c)].keys())         #number of data trials, trial0 ~ trial3\n",
    "\n",
    "#parameters (same for all three conditions)\n",
    "fs = 60                               #pygame update rate 60 Hz\n",
    "base_freq = 0.05                      #1/20 Hz\n",
    "N = len(HCPS['subject0']['condition0']['trial0']['time_'])    #data length\n",
    "xf_all = fft.fftfreq(N, 1./ fs)       #freq (x-axis) both + and - terms\n",
    "xf = fft.fftfreq(N, 1./ fs)[:N//2]    #freq (x-axis) positive-frequency terms\n",
    "M_h = M(1.j*2*np.pi*xf_all)           #M_hat = 1/ ((jw)^2 + (jw))\n",
    "t = HCPS['subject0']['condition0']['trial0']['time_']         #time\n",
    "prime = np.asarray([2, 3, 5, 7, \n",
    "                    11, 13, 17, 19])  #prime numbers\n",
    "stimulated_index = prime*2 #array([ 4,  6, 10, 14, 22, 26, 34, 38])\n",
    "stimulated_freq = prime*base_freq\n",
    "\n",
    "T = 40 #final simulation time \n",
    "dt = 1/fs #time steps (60Hz) \n",
    "scaleOutputScreen = 1/4\n",
    "scaleInput = 0.04616974606700115"
   ]
  },
  {
   "cell_type": "markdown",
   "metadata": {},
   "source": [
    "## plot functions"
   ]
  },
  {
   "cell_type": "code",
   "execution_count": 5,
   "metadata": {},
   "outputs": [],
   "source": [
    "import textwrap\n",
    "def wrap_labels(ax, width, my_labels, break_long_words=False):\n",
    "    labels = []\n",
    "    for label in my_labels:\n",
    "        # text = label.get_text()\n",
    "        labels.append(textwrap.fill(label, width=width,\n",
    "                      break_long_words=break_long_words))\n",
    "    ax.set_xticklabels(labels, rotation=0)"
   ]
  },
  {
   "cell_type": "code",
   "execution_count": 6,
   "metadata": {},
   "outputs": [],
   "source": [
    "def BOXPLOT(data0, title0 ,data1 = None, title1 = None, ylimit0 = None, ylimit1= None, EMGplot = False, Sliderplot = False): # can plot one or two plots\n",
    "    '''\n",
    "    data0 and data1: list of 7 arrays, [cond0, cond1, ... cond6]\n",
    "    '''\n",
    "    \n",
    "    # pos = np.array(range(num_cond))+1\n",
    "    # xticks = pos\n",
    "    # xticklabels = ['Slider','EMG','50%','25%','75%','Slider2','EMG2']\n",
    "    # labels = [r'$1^{st}$$\\alpha=0$   100:0',r'$1^{st}$$\\alpha=1$   0:100',r'$\\alpha=0.5$ 50:50',r'$\\alpha=0.25$ 75:25',\n",
    "    #             r'$\\alpha=0.75$ 25:75',r'$2^{nd}$$\\alpha=0$ 100:0',r'$2^{nd}$$\\alpha=1$ 0:100'] #slider : EMG\n",
    "    # labels = [r'$1^{st}$ $\\alpha=0$',r'$1^{st}$ $\\alpha=1$',r'$\\alpha=0.5$',r'$\\alpha=0.25$',\n",
    "    #             r'$\\alpha=0.75$',r'$2^{nd}$ $\\alpha=0$',r'$2^{nd}$ $\\alpha=1$'] #slider : EMG\n",
    "    labels = ['100:0','0:100','50:50','75:25','25:75','100:0','0:100'] #slider : EMG\n",
    "    # labels = [r'$1^{st}$ 100:0',r'$1^{st}$ 0:100',r'50:50',r'75:25',\n",
    "                # r'25:75',r'$2^{nd}$ 100:0',r'$2^{nd}$ 0:100'] #slider : EMG\n",
    "    boxcolors = ['white', 'black', 'darkgrey','lightgrey','dimgrey','white', 'black']\n",
    "    # boxcolors = ['white', 'black', 'silver','whitesmoke','dimgrey','white', 'black']\n",
    "    # boxcolors = ['white', 'black', 'limegreen','lightgreen','darkgreen','white', 'black']\n",
    "    # boxcolors = ['white', 'black', 'green','yellowgreen','darkcyan','white', 'black']\n",
    "    # boxcolors = ['white', 'black', (0.4,1,0.4,0.5), (0.4,1,0.4,0.25), (0.4,1,0.4,0.75),'white', 'black']\n",
    "\n",
    "\n",
    "\n",
    "    if data1 != None: \n",
    "        fig,axs = plt.subplots(1, 2,figsize=(10,5)) \n",
    "\n",
    "        # subplot 0\n",
    "        ax = axs[0]\n",
    "        bplot = ax.boxplot(data0, widths = 0.5,patch_artist=True,labels=labels)\n",
    "        for patch, color in zip(bplot['boxes'], boxcolors): # fill with colors\n",
    "            patch.set_facecolor(color)\n",
    "\n",
    "        ax.title.set_text(title0)\n",
    "        # ax.set_ylabel(r'$MSE_{time}$ = $\\sum |r-y|^{2}$')\n",
    "        if ylimit0 is not None: \n",
    "            ax.set_ylim(0,ylimit0)\n",
    "            \n",
    "        ax.plot([], [], ' ', label='Manual(slider) : Muscle(EMG)')\n",
    "        ax.legend(bbox_to_anchor=(0.45, -0.2), loc='lower center',frameon=False)\n",
    "\n",
    "        # subplot 1\n",
    "        ax = axs[1]\n",
    "        bplot = ax.boxplot(data1, widths = 0.5,patch_artist=True,labels=labels)\n",
    "        for patch, color in zip(bplot['boxes'], boxcolors):\n",
    "            patch.set_facecolor(color)\n",
    "\n",
    "        ax.title.set_text(title1)\n",
    "        # ax.set_ylabel(r'$MSE_{time}$ = $\\sum |r-y|^{2}$')\n",
    "        if ylimit1 is not None:\n",
    "            ax.set_ylim(0,ylimit1)\n",
    "        \n",
    "        ax.plot([], [], ' ', label='Manual(slider) : Muscle(EMG)')\n",
    "        ax.legend(bbox_to_anchor=(0.45, -0.2), loc='lower center',frameon=False)\n",
    "\n",
    "    else: \n",
    "        fig,axs = plt.subplots(1, 1,figsize=(7.5,4.5)) \n",
    "        ax = axs\n",
    "        # for c in range(num_cond):\n",
    "        #     bplot = ax.boxplot(data0[c], positions = [pos[c]], widths = 0.5,patch_artist=True)\n",
    "        bplot = ax.boxplot(data0, widths = 0.5,patch_artist=True,labels=labels)\n",
    "        wrap_labels(ax, 15,labels)\n",
    "        # ax.set_xticklabels(labels, rotation=45)\n",
    "        \n",
    "        # fill with colors\n",
    "        for patch, color in zip(bplot['boxes'], boxcolors):\n",
    "            patch.set_facecolor(color)\n",
    "            # patch.set_facecolor((0,1,0,alpha))\n",
    "\n",
    "        # ax.set_xticks(xticks)\n",
    "        # ax.set_xticklabels(xticklabels)\n",
    "        # ax.title.set_text(title0) #r'$MSE_{time}$'\n",
    "        ax.set_ylabel(title0,fontsize = 14)\n",
    "        # ax.set_ylabel(r'$MSE_{time}$ = $\\sum |r-y|^{2}$')\n",
    "        if ylimit0 is not None:\n",
    "            ax.set_ylim(ylimit0)\n",
    "\n",
    "        # ax.plot([], [], ' ', label='1st single-modal conditions')\n",
    "        # ax.legend(bbox_to_anchor=(0, -0.2), frameon=False,fontsize = 10)\n",
    "        # ax.plot([], [], ' ', label='2nd single-modal conditions')\n",
    "        # ax.legend(bbox_to_anchor=(1, -0.2), frameon=False,fontsize = 10)\n",
    "        # ax.plot([], [], ' ', label=r'Manual(slider) : Muscle(EMG) = (1-$\\alpha$) : $\\alpha$')\n",
    "        # ax.plot([], [], ' ', label=r'$1^{st} session \\qquad \\qquad \\qquad 2^{nd} session \\qquad \\qquad \\qquad 3^{rd} session$')\n",
    "        ax.plot([], [], ' ', label=r'Manual(slider) : Muscle(EMG)')\n",
    "        \n",
    "        ax.legend(bbox_to_anchor=(0.45, -0.3), loc='lower center',frameon=False,fontsize = 14)\n",
    "\n",
    "    # plt.tight_layout()\n",
    "    # plt.show()\n",
    "    return fig,axs"
   ]
  },
  {
   "cell_type": "code",
   "execution_count": 7,
   "metadata": {},
   "outputs": [],
   "source": [
    "#box plot of only 5 elements\n",
    "def BOXPLOT5(data0, title0 ,data1 = None, title1 = None, ylimit0 = None, ylimit1= None, EMGplot = False, Sliderplot = False): # can plot one or two plots\n",
    "    '''\n",
    "    data0 and data1: list of 5 arrays, [cond0, cond1, ... cond4]\n",
    "    '''\n",
    "    \n",
    "    # pos = np.array(range(num_cond))+1\n",
    "    # xticks = pos\n",
    "    # xticklabels = ['Slider','EMG','50%','25%','75%','Slider2','EMG2']\n",
    "    labels = ['100:0','0:100','50:50','75:25','25:75'] #slider : EMG\n",
    "\n",
    "    boxcolors = ['white', 'black', 'darkgrey','lightgrey','dimgrey']\n",
    "\n",
    "    if data1 != None: \n",
    "        fig,axs = plt.subplots(1, 2,figsize=(10,5)) \n",
    "\n",
    "        # subplot 0\n",
    "        ax = axs[0]\n",
    "        bplot = ax.boxplot(data0, widths = 0.5,patch_artist=True,labels=labels)\n",
    "        for patch, color in zip(bplot['boxes'], boxcolors): # fill with colors\n",
    "            patch.set_facecolor(color)\n",
    "\n",
    "        ax.title.set_text(title0)\n",
    "        # ax.set_ylabel(r'$MSE_{time}$ = $\\sum |r-y|^{2}$')\n",
    "        if ylimit0 is not None: \n",
    "            ax.set_ylim(0,ylimit0)\n",
    "            \n",
    "        ax.plot([], [], ' ', label='Manual(slider) : Muscle(EMG)')\n",
    "        ax.legend(bbox_to_anchor=(0.45, -0.2), loc='lower center',frameon=False)\n",
    "\n",
    "        # subplot 1\n",
    "        ax = axs[1]\n",
    "        bplot = ax.boxplot(data0, widths = 0.5,patch_artist=True,labels=labels)\n",
    "        for patch, color in zip(bplot['boxes'], boxcolors):\n",
    "            patch.set_facecolor(color)\n",
    "\n",
    "        ax.title.set_text(title1)\n",
    "        # ax.set_ylabel(r'$MSE_{time}$ = $\\sum |r-y|^{2}$')\n",
    "        if ylimit1 is not None:\n",
    "            ax.set_ylim(0,ylimit1)\n",
    "        \n",
    "        ax.plot([], [], ' ', label='Manual(slider) : Muscle(EMG)')\n",
    "        ax.legend(bbox_to_anchor=(0.45, -0.2), loc='lower center',frameon=False)\n",
    "\n",
    "    else: \n",
    "        fig,axs = plt.subplots(1, 1,figsize=(5,5)) \n",
    "        ax = axs\n",
    "        # for c in range(num_cond):\n",
    "        #     bplot = ax.boxplot(data0[c], positions = [pos[c]], widths = 0.5,patch_artist=True)\n",
    "        bplot = ax.boxplot(data0, widths = 0.5,patch_artist=True,labels=labels)\n",
    "        \n",
    "        # fill with colors\n",
    "        for patch, color in zip(bplot['boxes'], boxcolors):\n",
    "            patch.set_facecolor(color)\n",
    "\n",
    "        # ax.set_xticks(xticks)\n",
    "        # ax.set_xticklabels(xticklabels)\n",
    "        ax.title.set_text(title0) #r'$MSE_{time}$'\n",
    "        # ax.set_ylabel(r'$MSE_{time}$ = $\\sum |r-y|^{2}$')\n",
    "        if ylimit0 is not None:\n",
    "            ax.set_ylim(0,ylimit0)\n",
    "\n",
    "        ax.plot([], [], ' ', label='Manual(slider) : Muscle(EMG)')\n",
    "        ax.legend(bbox_to_anchor=(0.45, -0.2), loc='lower center',frameon=False)\n",
    "\n",
    "\n",
    "    # plt.tight_layout()\n",
    "    # plt.show()\n",
    "    return fig,axs"
   ]
  },
  {
   "cell_type": "code",
   "execution_count": 8,
   "metadata": {},
   "outputs": [],
   "source": [
    "def PLOT_BODE(TF, trialnum, figname): \n",
    "    #TF is dict\n",
    "    TF_ = []\n",
    "    for p in range(participants_num):\n",
    "        TF_.append(TF['subject'+str(p)])\n",
    "    TF_ = np.asarray(TF_)    \n",
    "\n",
    "    # mag & phase\n",
    "    mag = abs(TF_)\n",
    "    phase = np.angle(TF_)\n",
    "\n",
    "    # mean & percentile\n",
    "    mag_mean = np.mean(mag,axis=0)\n",
    "    mag_75 = np.percentile(mag, 75, axis=0)\n",
    "    mag_25 = np.percentile(mag, 25, axis=0)\n",
    "\n",
    "    phase_mean = np.mean(phase,axis=0)\n",
    "    phase_75 = np.percentile(phase, 75, axis=0)\n",
    "    phase_25 = np.percentile(phase, 25, axis=0)\n",
    "\n",
    "    # plot Tyr and Tyd \n",
    "    fig,axs = plt.subplots(2, 1)\n",
    "    xlim = (stimulated_freq[0]-.01,stimulated_freq[-1]+.1)\n",
    "    xticks = prime*0.05\n",
    "    xticklabels =np.round(prime*0.05,2)\n",
    "    ylimmag = (1e-1,1.5e1)\n",
    "    yticksmag = [0.1,1,10]\n",
    "    ylimphase = (-np.pi,np.pi)\n",
    "    yticksphase = [-np.pi,0.,np.pi]\n",
    "    yticklabelsphase = [r'$-\\pi$',r'0',r'$+\\pi$']\n",
    "\n",
    "    ax = axs[0]\n",
    "    for i in range(math.ceil(trialnum/2)):\n",
    "        ax.plot(stimulated_freq, mag[i], '*--', color='0.8') \n",
    "    ax.plot(stimulated_freq, mag_mean, 'o-', color=colors['d'])\n",
    "    ax.errorbar(x=stimulated_freq, y=mag_mean, xerr=None,\n",
    "                yerr=np.asarray([mag_mean-mag_25, mag_75-mag_mean]),\n",
    "                color='k',ls='none',zorder=10)\n",
    "    ax.plot(xlim,[0.,0.],'k--',zorder=-1)\n",
    "    ax.set_xscale(\"log\")\n",
    "    ax.set_xticks([])\n",
    "    ax.set_xticklabels([])\n",
    "    ax.set_xlim(xlim)\n",
    "    # ax.set_ylim(ylimmag)\n",
    "    ax.set_ylabel('gain')\n",
    "    # ax.set_yticks(yticksmag) \n",
    "    ax.title.set_text(figname) \n",
    "\n",
    "    ax = axs[1]\n",
    "    for i in range(math.ceil(trialnum/2)):\n",
    "        ax.plot(stimulated_freq, phase[i], '*--', color='0.8') \n",
    "    ax.plot(stimulated_freq, phase_mean, 'o-', color=colors['d'])\n",
    "    ax.errorbar(x=stimulated_freq, y=phase_mean, xerr=None,\n",
    "                yerr=np.asarray([phase_mean-phase_25, phase_75-phase_mean]),\n",
    "                color='k',ls='none',zorder=10)\n",
    "    ax.plot(xlim,[0.,0.],'k--',zorder=-1)\n",
    "    ax.set_xscale(\"log\")\n",
    "    ax.set_xlim(xlim)\n",
    "    ax.set_ylim(ylimphase)\n",
    "    ax.set_xticks(xticks)\n",
    "    ax.set_xticklabels(xticklabels,rotation=90)\n",
    "    ax.set_ylabel('phase (raidans)')\n",
    "    ax.set_yticks(yticksphase) \n",
    "    ax.set_yticklabels(yticklabelsphase,**font)\n",
    "\n",
    "    plt.tight_layout()\n",
    "    plt.show()\n",
    "\n"
   ]
  },
  {
   "cell_type": "markdown",
   "metadata": {},
   "source": [
    "## stats functions"
   ]
  },
  {
   "cell_type": "code",
   "execution_count": 9,
   "metadata": {},
   "outputs": [],
   "source": [
    "# Wilcoxon signed-rank test:  tests the null hypothesis that two related paired samples come from the same distribution\n",
    "\n",
    "def WilcoxonTest(all_data):\n",
    "    n = len(all_data)\n",
    "    w = np.zeros(n**2)\n",
    "    p = np.zeros(n**2)\n",
    "    sig = np.zeros(n**2)\n",
    "    flag = []\n",
    "    k = 0\n",
    "    for i in range(n):\n",
    "        for j in range(n):\n",
    "            if i != j:\n",
    "                w[k], p[k] = wilcoxon(all_data[i],all_data[j])\n",
    "                # determine significant (p<=0.05)\n",
    "                if p[k] <= 0.05:\n",
    "                    sig[k] = 1\n",
    "            else: \n",
    "                w[k] = np.nan\n",
    "                p[k] = np.nan\n",
    "                sig[k] = np.nan #i=j\n",
    "            \n",
    "            if sig[k] == 1 and j > i:\n",
    "                flag.append('there is significant difference between condition '+str(i)+' and condition '+str(j)+', w = '+str(w[k])+ ', pvalue = '+str(p[k]))\n",
    "            \n",
    "            k+=1    \n",
    "    return w,p,sig,flag"
   ]
  },
  {
   "cell_type": "code",
   "execution_count": 10,
   "metadata": {},
   "outputs": [],
   "source": [
    "#T-test: test for the null hypothesis that two related or repeated samples have identical average (expected) values\n",
    "def TTest(all_data):\n",
    "    n = len(all_data)\n",
    "    w = np.zeros(n**2)\n",
    "    p = np.zeros(n**2)\n",
    "    sig = np.zeros(n**2)\n",
    "    flag = []\n",
    "    k = 0\n",
    "    for i in range(n):\n",
    "        for j in range(n):\n",
    "            if i != j:\n",
    "                w[k], p[k] = ttest_rel(all_data[i],all_data[j])\n",
    "                # determine significant (p<=0.05)\n",
    "                if p[k] <= 0.05:\n",
    "                    sig[k] = 1\n",
    "            else: \n",
    "                w[k] = np.nan\n",
    "                p[k] = np.nan\n",
    "                sig[k] = np.nan #i=j\n",
    "            \n",
    "            if sig[k] == 1 and j > i:\n",
    "                flag.append('there is significant difference between condition '+str(i)+' and condition '+str(j)+', w = '+str(w[k])+ ', pvalue = '+str(p[k]))\n",
    "            \n",
    "            k+=1    \n",
    "    return w,p,sig,flag"
   ]
  },
  {
   "cell_type": "code",
   "execution_count": 11,
   "metadata": {},
   "outputs": [],
   "source": [
    "# number of trials to look at of each condition: (ex: last 4)\n",
    "# last_trial = [4,4,8,8,8,4,4]\n",
    "# last_trial = [2,2,4,4,4,2,2]\n",
    "# last_trial = [2,2,2,2,2,2,2]\n",
    "# last_trial = [8,8,10,10,10,2,2]\n",
    "# last_trial = [5,5,5,5,5,4,4]\n",
    "last_trial = [5,5,5,5,5,2,2]\n",
    "last_trial = [4,4,4,4,4,4,4]\n",
    "\n",
    "# what freqs to look at over all 8 stim freqs: (ex: [0,1,2,3,4,5,6,7])\n",
    "first_freq = [0,1,2,3,4,5,6,7]\n",
    "# first_freq = [0,1]\n",
    "\n",
    "# plot_title = 'first 2 freqs' #'all freqs'"
   ]
  },
  {
   "cell_type": "markdown",
   "metadata": {},
   "source": [
    "# Hypothesis 1a - overall errors decreases"
   ]
  },
  {
   "cell_type": "markdown",
   "metadata": {},
   "source": [
    "## time domain tracking error (r-y) "
   ]
  },
  {
   "cell_type": "code",
   "execution_count": 215,
   "metadata": {},
   "outputs": [],
   "source": [
    "# all trials all participants\n",
    "\n",
    "# MSEt = {}\n",
    "# for p in range(participants_num): # number of participants = 15\n",
    "#     MSEt['subject'+str(p)] = {}\n",
    "#     for c in range(num_cond):  # number of conditions  = 7\n",
    "#         r = np.asarray(DATA['TIME']['subject'+str(p)]['condition'+str(c)]['r'][-last_trial[c]:])\n",
    "#         y = np.asarray(DATA['TIME']['subject'+str(p)]['condition'+str(c)]['y'][-last_trial[c]:])\n",
    "#         MSEt['subject'+str(p)]['condition'+str(c)] = np.sum((r-y)**2,axis=1) #time domain error of each trial of each participant\n",
    "\n",
    "# MSEtvalues = [] # 7 conditions x (15participants * i trials)\n",
    "# for c in range(num_cond):\n",
    "#     values_ = []\n",
    "#     for p in range(participants_num):\n",
    "#         for i in range(last_trial[c]):\n",
    "#             values_.append(MSEt['subject'+str(p)]['condition'+str(c)][i]) #average TD error of all trials of a participant of a condition\n",
    "#     MSEtvalues.append(values_)"
   ]
  },
  {
   "cell_type": "code",
   "execution_count": 45,
   "metadata": {},
   "outputs": [],
   "source": [
    "def MSETIME(last_trial):\n",
    "    \"\"\"\n",
    "    number of trials to look at of each condition: (ex: last 4)\n",
    "    last_trial = [4,4,8,8,8,4,4]\n",
    "\n",
    "    what freqs to look at over all 8 stim freqs: (ex: [1,2,3,4,5,6,7,8])\n",
    "    first_freq = [0,1,2,3,4,5,6,7]\n",
    "    \"\"\"\n",
    "\n",
    "    #(1) MSE time: for every trial for every participant (1 number for each trial)\n",
    "    MSEt = {}\n",
    "    for p in range(participants_num): # number of participants = 15\n",
    "        MSEt['subject'+str(p)] = {}\n",
    "        for c in range(num_cond):  # number of conditions  = 7\n",
    "            r = np.asarray(DATA['TIME']['subject'+str(p)]['condition'+str(c)]['r'][-last_trial[c]:])\n",
    "            y = np.asarray(DATA['TIME']['subject'+str(p)]['condition'+str(c)]['y'][-last_trial[c]:])\n",
    "            MSEt['subject'+str(p)]['condition'+str(c)] = np.sum((r-y)**2,axis=1) #time domain error of each trial of each participant\n",
    "\n",
    "    MSEtvalues = [] # 7 conditions x (15participants * i trials)\n",
    "    for c in range(num_cond):\n",
    "        values_ = []\n",
    "        for p in range(participants_num):\n",
    "            values_.append(np.mean(MSEt['subject'+str(p)]['condition'+str(c)])) #average TD error of all trials of a participant of a condition\n",
    "        MSEtvalues.append(values_)\n",
    "\n",
    "    MSEtvalues5 = [] # 7 conditions x (15participants * i trials)\n",
    "    for c in range(5):\n",
    "        values_ = []\n",
    "        for p in range(participants_num):\n",
    "            if c==0:\n",
    "                values_.append(np.mean(np.concatenate([MSEt['subject'+str(p)]['condition'+str(c)],MSEt['subject'+str(p)]['condition'+str(5)]])))\n",
    "            elif c==1:\n",
    "                values_.append(np.mean(np.concatenate([MSEt['subject'+str(p)]['condition'+str(c)],MSEt['subject'+str(p)]['condition'+str(6)]])))\n",
    "            else:\n",
    "                values_.append(np.mean(MSEt['subject'+str(p)]['condition'+str(c)])) #average TD error of all trials of a participant of a condition\n",
    "        MSEtvalues5.append(values_)\n",
    "\n",
    "    return MSEtvalues,MSEtvalues5 #average MSE over all trials for every participant"
   ]
  },
  {
   "cell_type": "code",
   "execution_count": 46,
   "metadata": {},
   "outputs": [],
   "source": [
    "# last_trial = [5,5,5,5,5,4,4]\n",
    "# last_trial = [5,5,5,5,5,2,2]\n",
    "last_trial = [4,4,4,4,4,4,4]\n",
    "# last_trial = [8,8,10,10,10,2,2]"
   ]
  },
  {
   "cell_type": "code",
   "execution_count": 47,
   "metadata": {},
   "outputs": [],
   "source": [
    "# import seaborn as sns\n",
    "# import matplotlib.pyplot as plt\n",
    "\n",
    "# sns.boxplot( y=MSEtvalues[0], y=MSEtvalues[1] );\n",
    "# plt.show()"
   ]
  },
  {
   "cell_type": "code",
   "execution_count": 48,
   "metadata": {},
   "outputs": [
    {
     "data": {
      "image/png": "[encoded data removed]",
      "text/plain": [
       "<Figure size 540x324 with 1 Axes>"
      ]
     },
     "metadata": {
      "needs_background": "light"
     },
     "output_type": "display_data"
    }
   ],
   "source": [
    "MSEtvalues,MSEtvalues5 = MSETIME(last_trial)\n",
    "\n",
    "fig,axs = BOXPLOT(MSEtvalues,'$||r-y||^2$',ylimit0 = (0,125))\n",
    "# fig.suptitle(plot_title)\n",
    "plt.axvspan(0.5,2.5, facecolor='grey', alpha=0.1)\n",
    "plt.axvspan(2.5,5.5, facecolor='green', alpha=0.2)\n",
    "plt.axvspan(5.5,7.5, facecolor='grey', alpha=0.1)\n",
    "plt.text(0.2,0.14, r'$1^{st}$ session', fontsize=12, transform=plt.gcf().transFigure,color = 'grey')\n",
    "plt.text(0.48,0.14, r'$2^{nd}$ session', fontsize=12, transform=plt.gcf().transFigure,color = 'green')\n",
    "plt.text(0.78,0.14, r'$3^{rd}$ session', fontsize=12, transform=plt.gcf().transFigure,color = 'grey')\n",
    "plt.tight_layout()\n",
    "plt.show()\n",
    "\n",
    "# fig,axs = BOXPLOT5(MSEtvalues5,'$\\sum |r-y|^2$',ylimit0=100)\n",
    "\n",
    "# plt.tight_layout()\n",
    "# plt.show()"
   ]
  },
  {
   "cell_type": "code",
   "execution_count": 713,
   "metadata": {},
   "outputs": [
    {
     "data": {
      "text/plain": [
       "['there is significant difference between condition 0 and condition 1, w = 20.0, pvalue = 0.02154541015625',\n",
       " 'there is significant difference between condition 0 and condition 2, w = 4.0, pvalue = 0.00042724609375',\n",
       " 'there is significant difference between condition 0 and condition 3, w = 17.0, pvalue = 0.012451171875',\n",
       " 'there is significant difference between condition 0 and condition 4, w = 24.0, pvalue = 0.041259765625',\n",
       " 'there is significant difference between condition 0 and condition 5, w = 16.0, pvalue = 0.01025390625',\n",
       " 'there is significant difference between condition 0 and condition 6, w = 17.0, pvalue = 0.012451171875',\n",
       " 'there is significant difference between condition 1 and condition 2, w = 23.0, pvalue = 0.03533935546875',\n",
       " 'there is significant difference between condition 1 and condition 6, w = 24.0, pvalue = 0.041259765625',\n",
       " 'there is significant difference between condition 2 and condition 3, w = 25.0, pvalue = 0.04791259765625',\n",
       " 'there is significant difference between condition 2 and condition 4, w = 19.0, pvalue = 0.01806640625',\n",
       " 'there is significant difference between condition 2 and condition 5, w = 22.0, pvalue = 0.0301513671875',\n",
       " 'there is significant difference between condition 4 and condition 6, w = 25.0, pvalue = 0.04791259765625']"
      ]
     },
     "execution_count": 713,
     "metadata": {},
     "output_type": "execute_result"
    }
   ],
   "source": [
    "w,pv,sig,flag = WilcoxonTest(MSEtvalues)\n",
    "flag"
   ]
  },
  {
   "cell_type": "code",
   "execution_count": 705,
   "metadata": {},
   "outputs": [
    {
     "data": {
      "text/plain": [
       "['there is significant difference between condition 1 and condition 2, w = 2.1890510989692706, pvalue = 0.04603480407011774']"
      ]
     },
     "execution_count": 705,
     "metadata": {},
     "output_type": "execute_result"
    }
   ],
   "source": [
    "w,p,sig,flag = TTest(MSEtvalues)\n",
    "flag"
   ]
  },
  {
   "cell_type": "code",
   "execution_count": 441,
   "metadata": {},
   "outputs": [
    {
     "data": {
      "text/plain": [
       "['there is significant difference between condition 0 and condition 2, w = 4.0, pvalue = 0.00042724609375',\n",
       " 'there is significant difference between condition 0 and condition 3, w = 23.0, pvalue = 0.03533935546875',\n",
       " 'there is significant difference between condition 1 and condition 2, w = 25.0, pvalue = 0.04791259765625',\n",
       " 'there is significant difference between condition 2 and condition 3, w = 21.0, pvalue = 0.02557373046875',\n",
       " 'there is significant difference between condition 2 and condition 4, w = 18.0, pvalue = 0.01507568359375']"
      ]
     },
     "execution_count": 441,
     "metadata": {},
     "output_type": "execute_result"
    }
   ],
   "source": [
    "# w,pv,sig,flag = WilcoxonTest(MSEtvalues5)\n",
    "# flag"
   ]
  },
  {
   "cell_type": "code",
   "execution_count": 442,
   "metadata": {},
   "outputs": [
    {
     "data": {
      "text/plain": [
       "[]"
      ]
     },
     "execution_count": 442,
     "metadata": {},
     "output_type": "execute_result"
    }
   ],
   "source": [
    "# w,p,sig,flag = TTest(MSEtvalues5)\n",
    "# flag"
   ]
  },
  {
   "cell_type": "markdown",
   "metadata": {},
   "source": [
    "## freq domain tracking errror"
   ]
  },
  {
   "cell_type": "code",
   "execution_count": 49,
   "metadata": {},
   "outputs": [],
   "source": [
    "def MSEFREQ(last_trial,first_freq):\n",
    "    \"\"\"\n",
    "    number of trials to look at of each condition: (ex: last 4)\n",
    "    last_trial = [4,4,8,8,8,4,4]\n",
    "\n",
    "    what freqs to look at over all 8 stim freqs: (ex: [1,2,3,4,5,6,7,8])\n",
    "    first_freq = [0,1,2,3,4,5,6,7]\n",
    "    \"\"\"\n",
    "    #(2) MSE freq: for every two trial for every participant (1 number for evry two trial)\n",
    "    MSEf = {}\n",
    "    for p in range(participants_num): # number of participants = 15\n",
    "        MSEf['subject'+str(p)] = {}\n",
    "        for c in range(num_cond):  # number of conditions  = 7\n",
    "            #freq domain error of every two trials of each participantof every condition\n",
    "            R_Y = (np.asarray(DATA['FREQ']['subject'+str(p)]['condition'+str(c)]['R']) - \n",
    "                    np.asarray(DATA['FREQ']['subject'+str(p)]['condition'+str(c)]['Y']))\n",
    "            MSEf['subject'+str(p)]['condition'+str(c)] = np.sum( (np.abs(R_Y[-last_trial[c]:][:,stimulated_index[first_freq]]))**2 ,axis=1) \n",
    "            #normalize by freq^2\n",
    "    \n",
    "    MSEfvalues = [] # 7 conditions x (15participants * i/2 trials)\n",
    "    for c in range(num_cond):\n",
    "        values_ = []\n",
    "        for p in range(participants_num):\n",
    "            values_.append(np.mean(MSEf['subject'+str(p)]['condition'+str(c)])) #average TD error of all trials of a participant of a condition\n",
    "        MSEfvalues.append(values_)\n",
    "\n",
    "    MSEfvalues5 = [] # 5 conditions x (15participants * i/2 trials)\n",
    "    for c in range(num_cond-2):\n",
    "        values_ = []\n",
    "        for p in range(participants_num):\n",
    "            if c==0:\n",
    "                values_.append(np.mean(np.concatenate([MSEf['subject'+str(p)]['condition'+str(c)],MSEf['subject'+str(p)]['condition'+str(5)]])) )\n",
    "            elif c==1:\n",
    "                values_.append(np.mean(np.concatenate([MSEf['subject'+str(p)]['condition'+str(c)],MSEf['subject'+str(p)]['condition'+str(6)]])) )\n",
    "            else:\n",
    "                values_.append(np.mean(MSEf['subject'+str(p)]['condition'+str(c)])) #average TD error of all trials of a participant of a condition\n",
    "        MSEfvalues5.append(values_)\n",
    "\n",
    "    return MSEfvalues,MSEfvalues5 #average MSE over all trials for every participant"
   ]
  },
  {
   "cell_type": "code",
   "execution_count": 50,
   "metadata": {},
   "outputs": [],
   "source": [
    "# last_trial = [5,5,5,5,5,4,4]\n",
    "last_trial = [5,5,5,5,5,2,2]\n",
    "last_trial = [4,4,4,4,4,4,4]\n",
    "\n",
    "# what freqs to look at over all 8 stim freqs: (ex: [0,1,2,3,4,5,6,7])\n",
    "first_freq = [0,1,2,3,4,5,6,7]\n",
    "# first_freq = [0,1]"
   ]
  },
  {
   "cell_type": "code",
   "execution_count": 51,
   "metadata": {},
   "outputs": [
    {
     "data": {
      "image/png": "[encoded data removed]",
      "text/plain": [
       "<Figure size 540x324 with 1 Axes>"
      ]
     },
     "metadata": {
      "needs_background": "light"
     },
     "output_type": "display_data"
    }
   ],
   "source": [
    "MSEfvalues,MSEfvalues5= MSEFREQ(last_trial,first_freq)\n",
    "\n",
    "fig,axs = BOXPLOT(MSEfvalues,'$||\\widehat{r}-\\widehat{y}||^2$',ylimit0 = (0,0.012))\n",
    "# fig.suptitle(plot_title)\n",
    "plt.axvspan(0.5,2.5, facecolor='grey', alpha=0.1)\n",
    "plt.axvspan(2.5,5.5, facecolor='green', alpha=0.2)\n",
    "plt.axvspan(5.5,7.5, facecolor='grey', alpha=0.1)\n",
    "plt.text(0.2,0.14, r'$1^{st}$ session', fontsize=12, transform=plt.gcf().transFigure,color = 'grey')\n",
    "plt.text(0.48,0.14, r'$2^{nd}$ session', fontsize=12, transform=plt.gcf().transFigure,color = 'green')\n",
    "plt.text(0.78,0.14, r'$3^{rd}$ session', fontsize=12, transform=plt.gcf().transFigure,color = 'grey')\n",
    "plt.tight_layout()\n",
    "plt.show()\n",
    "\n",
    "# fig,axs = BOXPLOT5(MSEfvalues5,'$\\sum |R-Y|^2$',ylimit0=0.008)\n",
    "# plt.tight_layout()\n",
    "# plt.show()"
   ]
  },
  {
   "cell_type": "code",
   "execution_count": 58,
   "metadata": {},
   "outputs": [
    {
     "data": {
      "text/plain": [
       "['there is significant difference between condition 0 and condition 1, w = 3.0, pvalue = 0.00030517578125',\n",
       " 'there is significant difference between condition 0 and condition 2, w = 3.0, pvalue = 0.00030517578125',\n",
       " 'there is significant difference between condition 0 and condition 4, w = 24.0, pvalue = 0.041259765625',\n",
       " 'there is significant difference between condition 0 and condition 5, w = 15.0, pvalue = 0.00836181640625',\n",
       " 'there is significant difference between condition 0 and condition 6, w = 15.0, pvalue = 0.00836181640625',\n",
       " 'there is significant difference between condition 1 and condition 6, w = 23.0, pvalue = 0.03533935546875']"
      ]
     },
     "execution_count": 58,
     "metadata": {},
     "output_type": "execute_result"
    }
   ],
   "source": [
    "w,pv,sig,flag = WilcoxonTest(MSEfvalues)\n",
    "flag"
   ]
  },
  {
   "cell_type": "code",
   "execution_count": 59,
   "metadata": {},
   "outputs": [
    {
     "data": {
      "text/plain": [
       "['there is significant difference between condition 0 and condition 1, w = 2.6802261287574587, pvalue = 0.017937597411469802',\n",
       " 'there is significant difference between condition 0 and condition 2, w = 2.1716188704414603, pvalue = 0.04756004677502716']"
      ]
     },
     "execution_count": 59,
     "metadata": {},
     "output_type": "execute_result"
    }
   ],
   "source": [
    "w,pv,sig,flag = TTest(MSEfvalues)\n",
    "flag"
   ]
  },
  {
   "cell_type": "markdown",
   "metadata": {},
   "source": [
    "## R-Y below crossover"
   ]
  },
  {
   "cell_type": "code",
   "execution_count": 688,
   "metadata": {},
   "outputs": [],
   "source": [
    "def RY_Cross(last_trial):\n",
    "    \"\"\"\n",
    "    number of trials to look at of each condition: (ex: last 4)\n",
    "    last_trial = [4,4,8,8,8,4,4]\n",
    "\n",
    "    what freqs to look at over all 8 stim freqs: (ex: [1,2,3,4,5,6,7,8])\n",
    "    first_freq = [0,1,2,3,4,5,6,7]\n",
    "    \"\"\"\n",
    "    #(2) MSE freq: for every two trial for every participant (1 number for evry two trial)\n",
    "    crossover_index = [0,1,2,3,4,5,6,7,8,9]\n",
    "    crossover_freq = xf[:10]\n",
    "    MSEf = {}\n",
    "    for p in range(participants_num): # number of participants = 15\n",
    "        MSEf['subject'+str(p)] = {}\n",
    "        for c in range(num_cond):  # number of conditions  = 7\n",
    "            #freq domain error of every two trials of each participantof every condition\n",
    "            R_Y = (np.asarray(DATA['FREQ']['subject'+str(p)]['condition'+str(c)]['R']) - \n",
    "                    np.asarray(DATA['FREQ']['subject'+str(p)]['condition'+str(c)]['Y']))\n",
    "            MSEf['subject'+str(p)]['condition'+str(c)] = np.sum( (np.abs(R_Y[-last_trial[c]:][:,crossover_index]))**2 ,axis=1) \n",
    "    \n",
    "    MSEfvalues = [] # 7 conditions x (15participants * i/2 trials)\n",
    "    for c in range(num_cond):\n",
    "        values_ = []\n",
    "        for p in range(participants_num):\n",
    "            values_.append(np.mean(MSEf['subject'+str(p)]['condition'+str(c)])) #average TD error of all trials of a participant of a condition\n",
    "        MSEfvalues.append(values_)\n",
    "\n",
    "    return MSEfvalues #average MSE over all trials for every participant"
   ]
  },
  {
   "cell_type": "code",
   "execution_count": 689,
   "metadata": {},
   "outputs": [],
   "source": [
    "\n",
    "\n",
    "# last_trial = [5,5,5,5,5,4,4]\n",
    "last_trial = [5,5,5,5,5,2,2]\n",
    "last_trial = [4,4,4,4,4,4,4]\n",
    "\n",
    "# what freqs to look at over all 8 stim freqs: (ex: [0,1,2,3,4,5,6,7])\n",
    "# first_freq = [0,1,2,3,4,5,6,7]\n",
    "first_freq = [0,1]"
   ]
  },
  {
   "cell_type": "code",
   "execution_count": 694,
   "metadata": {},
   "outputs": [
    {
     "data": {
      "image/png": "[encoded data removed]",
      "text/plain": [
       "<Figure size 360x360 with 1 Axes>"
      ]
     },
     "metadata": {
      "needs_background": "light"
     },
     "output_type": "display_data"
    }
   ],
   "source": [
    "RY_Crossvalues= RY_Cross(last_trial)\n",
    "\n",
    "fig,axs = BOXPLOT(RY_Crossvalues,'$\\sum |R-Y|^2$ below crossover stim&non-stim',ylimit0 = 0.022) \n",
    "# fig.suptitle(plot_title)\n",
    "plt.tight_layout()\n",
    "plt.show()"
   ]
  },
  {
   "cell_type": "code",
   "execution_count": 695,
   "metadata": {},
   "outputs": [
    {
     "data": {
      "text/plain": [
       "['there is significant difference between condition 0 and condition 2, w = 20.0, pvalue = 0.02154541015625',\n",
       " 'there is significant difference between condition 0 and condition 5, w = 11.0, pvalue = 0.00335693359375',\n",
       " 'there is significant difference between condition 1 and condition 2, w = 17.0, pvalue = 0.012451171875',\n",
       " 'there is significant difference between condition 1 and condition 6, w = 22.0, pvalue = 0.0301513671875',\n",
       " 'there is significant difference between condition 2 and condition 4, w = 14.0, pvalue = 0.0067138671875']"
      ]
     },
     "execution_count": 695,
     "metadata": {},
     "output_type": "execute_result"
    }
   ],
   "source": [
    "w,pv,sig,flag = WilcoxonTest(RY_Crossvalues)\n",
    "flag"
   ]
  },
  {
   "cell_type": "markdown",
   "metadata": {},
   "source": [
    "## R-Y at non-stim freqs"
   ]
  },
  {
   "cell_type": "code",
   "execution_count": 109,
   "metadata": {},
   "outputs": [],
   "source": [
    "#mask for index of freq that are less than 1Hz\n",
    "def lessthanone(x): return x <= 1.0\n",
    "indexone = [idx for idx, element in enumerate(xf) if lessthanone(element)]\n",
    "unwanted_index = {4, 6, 10, 14, 22, 26, 34, 38}\n",
    "nonstimulated_index = [i for i in indexone if i not in unwanted_index] #nonstim index below 1Hz\n",
    "all_nonstimulated_index = [i for i in range(N//2) if i not in unwanted_index] # all nonstim index "
   ]
  },
  {
   "cell_type": "code",
   "execution_count": 114,
   "metadata": {},
   "outputs": [],
   "source": [
    "def RY_NONSTIM(last_trial):\n",
    "    \"\"\"\n",
    "    number of trials to look at of each condition: (ex: last 4)\n",
    "    last_trial = [4,4,8,8,8,4,4]\n",
    "\n",
    "    what freqs to look at over all 8 stim freqs: (ex: [1,2,3,4,5,6,7,8])\n",
    "    first_freq = [0,1,2,3,4,5,6,7]\n",
    "    \"\"\"\n",
    "    #(2) MSE freq: for every two trial for every participant (1 number for evry two trial)\n",
    "    MSEf = {}\n",
    "    for p in range(participants_num): # number of participants = 15\n",
    "        MSEf['subject'+str(p)] = {}\n",
    "        for c in range(num_cond):  # number of conditions  = 7\n",
    "            #freq domain error of every two trials of each participantof every condition\n",
    "            R_Y = (np.asarray(DATA['FREQ']['subject'+str(p)]['condition'+str(c)]['R']) - \n",
    "                    np.asarray(DATA['FREQ']['subject'+str(p)]['condition'+str(c)]['Y']))\n",
    "            MSEf['subject'+str(p)]['condition'+str(c)] = np.sum( (np.abs(R_Y[-last_trial[c]:][:,all_nonstimulated_index]))**2 ,axis=1) \n",
    "    \n",
    "    MSEfvalues = [] # 7 conditions x (15participants * i/2 trials)\n",
    "    for c in range(num_cond):\n",
    "        values_ = []\n",
    "        for p in range(participants_num):\n",
    "            values_.append(np.mean(MSEf['subject'+str(p)]['condition'+str(c)])) #average TD error of all trials of a participant of a condition\n",
    "        MSEfvalues.append(values_)\n",
    "\n",
    "    return MSEfvalues#average MSE over all trials for every participant"
   ]
  },
  {
   "cell_type": "code",
   "execution_count": 115,
   "metadata": {},
   "outputs": [],
   "source": [
    "last_trial = [4,4,4,4,4,4,4]\n",
    "\n",
    "# what freqs to look at over all 8 stim freqs: (ex: [0,1,2,3,4,5,6,7])\n",
    "# first_freq = [0,1,2,3,4,5,6,7]\n",
    "first_freq = [0,1]"
   ]
  },
  {
   "cell_type": "code",
   "execution_count": 116,
   "metadata": {},
   "outputs": [
    {
     "data": {
      "image/png": "[encoded data removed]",
      "text/plain": [
       "<Figure size 540x324 with 1 Axes>"
      ]
     },
     "metadata": {
      "needs_background": "light"
     },
     "output_type": "display_data"
    }
   ],
   "source": [
    "RY_NONSTIMvalues= RY_NONSTIM(last_trial)\n",
    "\n",
    "fig,axs = BOXPLOT(RY_NONSTIMvalues,r'$||\\widehat{r}-\\widehat{y}||^2$ at non-stimulated',ylimit0 = (0,0.022)) \n",
    "# fig.suptitle(plot_title)\n",
    "plt.axvspan(0.5,2.5, facecolor='grey', alpha=0.1)\n",
    "plt.axvspan(2.5,5.5, facecolor='green', alpha=0.2)\n",
    "plt.axvspan(5.5,7.5, facecolor='grey', alpha=0.1)\n",
    "plt.text(0.2,0.14, r'$1^{st}$ session', fontsize=12, transform=plt.gcf().transFigure,color = 'grey')\n",
    "plt.text(0.48,0.14, r'$2^{nd}$ session', fontsize=12, transform=plt.gcf().transFigure,color = 'green')\n",
    "plt.text(0.78,0.14, r'$3^{rd}$ session', fontsize=12, transform=plt.gcf().transFigure,color = 'grey')\n",
    "plt.tight_layout()\n",
    "plt.show()"
   ]
  },
  {
   "cell_type": "code",
   "execution_count": 117,
   "metadata": {},
   "outputs": [
    {
     "data": {
      "text/plain": [
       "['there is significant difference between condition 0 and condition 2, w = 15.0, pvalue = 0.00836181640625',\n",
       " 'there is significant difference between condition 0 and condition 3, w = 14.0, pvalue = 0.0067138671875',\n",
       " 'there is significant difference between condition 1 and condition 2, w = 3.0, pvalue = 0.00030517578125',\n",
       " 'there is significant difference between condition 2 and condition 4, w = 15.0, pvalue = 0.00836181640625',\n",
       " 'there is significant difference between condition 2 and condition 5, w = 11.0, pvalue = 0.00335693359375',\n",
       " 'there is significant difference between condition 2 and condition 6, w = 20.0, pvalue = 0.02154541015625',\n",
       " 'there is significant difference between condition 3 and condition 5, w = 17.0, pvalue = 0.012451171875']"
      ]
     },
     "execution_count": 117,
     "metadata": {},
     "output_type": "execute_result"
    }
   ],
   "source": [
    "w,pv,sig,flag = WilcoxonTest(RY_NONSTIMvalues)\n",
    "flag"
   ]
  },
  {
   "cell_type": "markdown",
   "metadata": {},
   "source": [
    "## R-Y at all freq (stim + non stim)"
   ]
  },
  {
   "cell_type": "code",
   "execution_count": 48,
   "metadata": {},
   "outputs": [],
   "source": [
    "def RY_ALLFREQ(last_trial):\n",
    "    MSEf = {}\n",
    "    for p in range(participants_num): # number of participants = 15\n",
    "        MSEf['subject'+str(p)] = {}\n",
    "        for c in range(num_cond):  # number of conditions  = 7\n",
    "            #freq domain error of every two trials of each participantof every condition\n",
    "            R_Y = (np.asarray(DATA['FREQ']['subject'+str(p)]['condition'+str(c)]['R']) - \n",
    "                    np.asarray(DATA['FREQ']['subject'+str(p)]['condition'+str(c)]['Y']))\n",
    "            MSEf['subject'+str(p)]['condition'+str(c)] = np.sum( (np.abs(R_Y[-last_trial[c]:][:,:N//2]))**2 ,axis=1) \n",
    "    \n",
    "    MSEfvalues = [] # 7 conditions x (15participants * i/2 trials)\n",
    "    for c in range(num_cond):\n",
    "        values_ = []\n",
    "        for p in range(participants_num):\n",
    "            values_.append(np.mean(MSEf['subject'+str(p)]['condition'+str(c)])) #average TD error of all trials of a participant of a condition\n",
    "        MSEfvalues.append(values_)\n",
    "\n",
    "    return MSEfvalues#average MSE over all trials for every participant"
   ]
  },
  {
   "cell_type": "code",
   "execution_count": 49,
   "metadata": {},
   "outputs": [],
   "source": [
    "last_trial = [4,4,4,4,4,4,4]\n",
    "\n",
    "# what freqs to look at over all 8 stim freqs: (ex: [0,1,2,3,4,5,6,7])\n",
    "# first_freq = [0,1,2,3,4,5,6,7]\n",
    "first_freq = [0,1]"
   ]
  },
  {
   "cell_type": "code",
   "execution_count": 50,
   "metadata": {},
   "outputs": [
    {
     "data": {
      "image/png": "[encoded data removed]",
      "text/plain": [
       "<Figure size 540x324 with 1 Axes>"
      ]
     },
     "metadata": {
      "needs_background": "light"
     },
     "output_type": "display_data"
    }
   ],
   "source": [
    "RY_ALLFREQvalues= RY_ALLFREQ(last_trial)\n",
    "\n",
    "fig,axs = BOXPLOT(RY_ALLFREQvalues,'$\\sum |R-Y|^2$ all freqs (stim+nonstim)',ylimit0 = (0,0.03)) \n",
    "# fig.suptitle(plot_title)\n",
    "plt.tight_layout()\n",
    "plt.show()"
   ]
  },
  {
   "cell_type": "code",
   "execution_count": 51,
   "metadata": {},
   "outputs": [
    {
     "data": {
      "text/plain": [
       "['there is significant difference between condition 0 and condition 2, w = 11.0, pvalue = 0.00335693359375',\n",
       " 'there is significant difference between condition 0 and condition 3, w = 19.0, pvalue = 0.01806640625',\n",
       " 'there is significant difference between condition 0 and condition 5, w = 22.0, pvalue = 0.0301513671875',\n",
       " 'there is significant difference between condition 0 and condition 6, w = 18.0, pvalue = 0.01507568359375',\n",
       " 'there is significant difference between condition 1 and condition 2, w = 23.0, pvalue = 0.03533935546875',\n",
       " 'there is significant difference between condition 1 and condition 6, w = 23.0, pvalue = 0.03533935546875',\n",
       " 'there is significant difference between condition 2 and condition 4, w = 20.0, pvalue = 0.02154541015625',\n",
       " 'there is significant difference between condition 2 and condition 5, w = 17.0, pvalue = 0.012451171875']"
      ]
     },
     "execution_count": 51,
     "metadata": {},
     "output_type": "execute_result"
    }
   ],
   "source": [
    "w,pv,sig,flag = WilcoxonTest(RY_ALLFREQvalues)\n",
    "flag"
   ]
  },
  {
   "cell_type": "markdown",
   "metadata": {},
   "source": [
    "## freq domain inversion error"
   ]
  },
  {
   "cell_type": "code",
   "execution_count": 59,
   "metadata": {},
   "outputs": [],
   "source": [
    "def InversionError(last_trial,first_freq):\n",
    "    \"\"\"\n",
    "    number of trials to look at of each condition: (ex: last 4)\n",
    "    last_trial = [4,4,8,8,8,4,4]\n",
    "\n",
    "    what freqs to look at over all 8 stim freqs: (ex: [1,2,3,4,5,6,7,8])\n",
    "    first_freq = [0,1,2,3,4,5,6,7]\n",
    "    \"\"\"\n",
    "    #(2) MSE freq: for every two trial for every participant (1 number for evry two trial)\n",
    "    MSEf = {}\n",
    "    for p in range(participants_num): # number of participants = 15\n",
    "        MSEf['subject'+str(p)] = {}\n",
    "        for c in range(num_cond):  # number of conditions  = 7\n",
    "            #freq domain error of every two trials of each participantof every condition\n",
    "            error = np.abs(TF['F']['subject'+str(p)]['condition'+str(c)][-(last_trial[c]//2):] - 1/M_h[stimulated_index])\n",
    "            MSEf['subject'+str(p)]['condition'+str(c)] = np.sum( (error**2)[:,first_freq] ,axis=1) \n",
    "    \n",
    "    MSEfvalues = [] # 7 conditions x (15participants * i/2 trials)\n",
    "    for c in range(num_cond):\n",
    "        values_ = []\n",
    "        for p in range(participants_num):\n",
    "            values_.append(np.mean(MSEf['subject'+str(p)]['condition'+str(c)])) #average TD error of all trials of a participant of a condition\n",
    "        MSEfvalues.append(values_)\n",
    "\n",
    "    MSEfvalues5 = [] # 5 conditions x (15participants * i/2 trials)\n",
    "    for c in range(num_cond-2):\n",
    "        values_ = []\n",
    "        for p in range(participants_num):\n",
    "            if c==0:\n",
    "                values_.append(np.mean(np.concatenate([MSEf['subject'+str(p)]['condition'+str(c)],MSEf['subject'+str(p)]['condition'+str(5)]])) )\n",
    "            elif c==1:\n",
    "                values_.append(np.mean(np.concatenate([MSEf['subject'+str(p)]['condition'+str(c)],MSEf['subject'+str(p)]['condition'+str(6)]])) )\n",
    "            else:\n",
    "                values_.append(np.mean(MSEf['subject'+str(p)]['condition'+str(c)])) #average TD error of all trials of a participant of a condition\n",
    "        MSEfvalues5.append(values_)\n",
    "\n",
    "    return MSEfvalues,MSEfvalues5 #average MSE over all trials for every participant"
   ]
  },
  {
   "cell_type": "code",
   "execution_count": 60,
   "metadata": {},
   "outputs": [],
   "source": [
    "last_trial = [4,4,4,4,4,4,4]\n",
    "\n",
    "# first_freq = [0,1,2,3,4,5,6,7]\n",
    "first_freq = [0,1]"
   ]
  },
  {
   "cell_type": "code",
   "execution_count": 62,
   "metadata": {},
   "outputs": [
    {
     "data": {
      "image/png": "[encoded data removed]",
      "text/plain": [
       "<Figure size 540x324 with 1 Axes>"
      ]
     },
     "metadata": {
      "needs_background": "light"
     },
     "output_type": "display_data"
    }
   ],
   "source": [
    "FWvalues,FWvalues5= InversionError(last_trial,first_freq)\n",
    "\n",
    "fig,axs = BOXPLOT(FWvalues,'$\\sum |F-M^{-1}|^2$',ylimit0 = (0,18))\n",
    "plt.axvspan(0.5,2.5, facecolor='grey', alpha=0.1)\n",
    "plt.axvspan(2.5,5.5, facecolor='green', alpha=0.2)\n",
    "plt.axvspan(5.5,7.5, facecolor='grey', alpha=0.1)\n",
    "plt.text(0.2,0.14, r'$1^{st}$ session', fontsize=12, transform=plt.gcf().transFigure,color = 'grey')\n",
    "plt.text(0.48,0.14, r'$2^{nd}$ session', fontsize=12, transform=plt.gcf().transFigure,color = 'green')\n",
    "plt.text(0.78,0.14, r'$3^{rd}$ session', fontsize=12, transform=plt.gcf().transFigure,color = 'grey')\n",
    "plt.tight_layout()\n",
    "plt.show()"
   ]
  },
  {
   "cell_type": "code",
   "execution_count": 63,
   "metadata": {},
   "outputs": [
    {
     "data": {
      "text/plain": [
       "['there is significant difference between condition 0 and condition 2, w = 25.0, pvalue = 0.04791259765625',\n",
       " 'there is significant difference between condition 0 and condition 5, w = 23.0, pvalue = 0.03533935546875']"
      ]
     },
     "execution_count": 63,
     "metadata": {},
     "output_type": "execute_result"
    }
   ],
   "source": [
    "w,pv,sig,flag = WilcoxonTest(FWvalues)\n",
    "flag"
   ]
  },
  {
   "cell_type": "markdown",
   "metadata": {},
   "source": [
    "## B"
   ]
  },
  {
   "cell_type": "code",
   "execution_count": 20,
   "metadata": {},
   "outputs": [],
   "source": [
    "def B_NORM_sqaure(last_trial,first_freq):\n",
    "    \"\"\"\n",
    "    number of trials to look at of each condition: (ex: last 4)\n",
    "    last_trial = [4,4,8,8,8,4,4]\n",
    "\n",
    "    what freqs to look at over all 8 stim freqs: (ex: [1,2,3,4,5,6,7,8])\n",
    "    first_freq = [0,1,2,3,4,5,6,7]\n",
    "\n",
    "    TFtype = 'F', 'F0', 'F1', 'TYR','TYD'...\n",
    "    \"\"\"\n",
    "\n",
    "    # TFnorm: for every two trial for every participant (1 number for evry two trial)\n",
    "    TFnorm = {}\n",
    "    for p in range(participants_num): \n",
    "        TFnorm['subject'+str(p)] = {}\n",
    "        for c in range(num_cond): \n",
    "            TFnorm['subject'+str(p)]['condition'+str(c)] = (LA.norm(TF['B']['subject'+str(p)]['condition'+str(c)][-(last_trial[c]//2):][:,first_freq],axis = 1))**2\n",
    "    \n",
    "    TFvalues = [] # 7 conditions x (15participants * i/2 trials)\n",
    "    for c in range(num_cond):\n",
    "        values_ = []\n",
    "        for p in range(participants_num):\n",
    "            values_.append(np.mean(TFnorm['subject'+str(p)]['condition'+str(c)])) #average of all trials of a participant of a condition\n",
    "        TFvalues.append(values_)\n",
    "\n",
    "    return TFvalues #average MSE over all trials for every participant"
   ]
  },
  {
   "cell_type": "code",
   "execution_count": 31,
   "metadata": {},
   "outputs": [
    {
     "data": {
      "image/png": "[encoded data removed]",
      "text/plain": [
       "<Figure size 540x324 with 1 Axes>"
      ]
     },
     "metadata": {
      "needs_background": "light"
     },
     "output_type": "display_data"
    }
   ],
   "source": [
    "last_trial = [4,4,4,4,4,4,4]\n",
    "# last_trial = [2,2,2,2,2,2,2]\n",
    "# first_freq = [0,1,2,3,4,5,6,7]\n",
    "first_freq = [0,1]\n",
    "Bvalues = B_NORM_sqaure(last_trial,first_freq)\n",
    "\n",
    "fig,axs = BOXPLOT(Bvalues,r'$||B||^2$',ylimit0 = (0,80))\n",
    "plt.axvspan(0.5,2.5, facecolor='grey', alpha=0.1)\n",
    "plt.axvspan(2.5,5.5, facecolor='green', alpha=0.2)\n",
    "plt.axvspan(5.5,7.5, facecolor='grey', alpha=0.1)\n",
    "plt.text(0.2,0.14, r'$1^{st}$ session', fontsize=12, transform=plt.gcf().transFigure,color = 'grey')\n",
    "plt.text(0.48,0.14, r'$2^{nd}$ session', fontsize=12, transform=plt.gcf().transFigure,color = 'green')\n",
    "plt.text(0.78,0.14, r'$3^{rd}$ session', fontsize=12, transform=plt.gcf().transFigure,color = 'grey')\n",
    "plt.tight_layout()\n",
    "plt.show()"
   ]
  },
  {
   "cell_type": "code",
   "execution_count": 32,
   "metadata": {},
   "outputs": [
    {
     "data": {
      "text/plain": [
       "['there is significant difference between condition 2 and condition 5, w = 24.0, pvalue = 0.041259765625']"
      ]
     },
     "execution_count": 32,
     "metadata": {},
     "output_type": "execute_result"
    }
   ],
   "source": [
    "w,pv,sig,flag = WilcoxonTest(Bvalues)\n",
    "flag"
   ]
  },
  {
   "cell_type": "markdown",
   "metadata": {},
   "source": [
    "# Hypothesis 1b - reference tracking errors decreases"
   ]
  },
  {
   "cell_type": "markdown",
   "metadata": {},
   "source": [
    "## freq domain R-Y at reference freq"
   ]
  },
  {
   "cell_type": "code",
   "execution_count": 315,
   "metadata": {},
   "outputs": [],
   "source": [
    "def MSE_REF(last_trial,first_freq):\n",
    "    \"\"\"\n",
    "    number of trials to look at of each condition: (ex: last 4)\n",
    "    last_trial = [4,4,8,8,8,4,4]\n",
    "\n",
    "    what freqs to look at over all 8 stim freqs: (ex: [1,2,3,4,5,6,7,8])\n",
    "    first_freq = [0,1,2,3,4,5,6,7]\n",
    "    \"\"\"\n",
    "    #EO trials: dis,ref,... #trial 0, 2, ..., 12\n",
    "    #OE trials: ref,dis,... #trial 1, 3, ..., 13 (last trial)\n",
    "    MSEf = {}\n",
    "    even_index = [0,2,4,6]\n",
    "    odd_index = [1,3,5,7]\n",
    "\n",
    "    for p in range(participants_num): # number of participants = 15\n",
    "        MSEf['subject'+str(p)] = {}\n",
    "        for c in range(num_cond):  # number of conditions  = 7\n",
    "            #freq domain error of every two trials of each participantof every condition\n",
    "            R_Y = (np.asarray(DATA['FREQ']['subject'+str(p)]['condition'+str(c)]['R']) - \n",
    "                    np.asarray(DATA['FREQ']['subject'+str(p)]['condition'+str(c)]['Y']))\n",
    "            Y_stim_EO = R_Y[-last_trial[c]::2][:,stimulated_index[odd_index]]#[:,stimulated_index[first_freq]]\n",
    "            Y_stim_OE = R_Y[-last_trial[c]+1::2][:,stimulated_index[even_index]]#[:,stimulated_index[first_freq]]\n",
    "            ref_stim_all = np.concatenate([Y_stim_EO,Y_stim_OE]) #order doesn't matter since we are taking the 2-norm\n",
    "            # ref_error_EO = np.sum( (np.abs(Y_stim_EO[:,1::2]))**2 ,axis=1) #LA.norm(Y_stim_OE[:,1::2],axis = 1) \n",
    "            # ref_error_OE = np.sum( (np.abs(Y_stim_OE[:,::2]))**2 ,axis=1) #LA.norm(Y_stim_EO[:,::2],axis = 1)\n",
    "            \n",
    "            MSEf['subject'+str(p)]['condition'+str(c)] = np.sum( (np.abs(ref_stim_all))**2 ,axis=1) #np.concatenate([ref_error_OE,ref_error_EO])\n",
    "\n",
    "    MSEfvalues = [] # 7 conditions x (15participants * i/2 trials)\n",
    "    for c in range(num_cond):\n",
    "        values_ = []\n",
    "        for p in range(participants_num):\n",
    "            values_.append(np.mean(MSEf['subject'+str(p)]['condition'+str(c)])) #average TD error of all trials of a participant of a condition\n",
    "        MSEfvalues.append(values_)\n",
    "\n",
    "    return MSEfvalues #average MSE over all trials for every participant"
   ]
  },
  {
   "cell_type": "code",
   "execution_count": 316,
   "metadata": {},
   "outputs": [],
   "source": [
    "# last_trial = [5,5,5,5,5,2,2]\n",
    "# last_trial = [5,5,5,5,5,4,4]\n",
    "last_trial = [4,4,4,4,4,4,4]\n",
    "\n",
    "\n",
    "first_freq = [0,1,2,3,4,5,6,7]\n",
    "# first_freq = [0,1]"
   ]
  },
  {
   "cell_type": "code",
   "execution_count": 318,
   "metadata": {},
   "outputs": [
    {
     "data": {
      "image/png": "[encoded data removed]",
      "text/plain": [
       "<Figure size 540x324 with 1 Axes>"
      ]
     },
     "metadata": {
      "needs_background": "light"
     },
     "output_type": "display_data"
    }
   ],
   "source": [
    "REFvalues= MSE_REF(last_trial,first_freq)\n",
    "\n",
    "fig,axs = BOXPLOT(REFvalues,'$\\sum |(R-Y)_{at-ref-stimuli}|^2$',ylimit0 = (0,0.006))\n",
    "# fig.suptitle(plot_title)\n",
    "plt.tight_layout()\n",
    "plt.show()"
   ]
  },
  {
   "cell_type": "code",
   "execution_count": 319,
   "metadata": {},
   "outputs": [
    {
     "data": {
      "text/plain": [
       "['there is significant difference between condition 0 and condition 1, w = 20.0, pvalue = 0.02154541015625',\n",
       " 'there is significant difference between condition 0 and condition 2, w = 10.0, pvalue = 0.00262451171875',\n",
       " 'there is significant difference between condition 0 and condition 3, w = 17.0, pvalue = 0.012451171875',\n",
       " 'there is significant difference between condition 0 and condition 5, w = 23.0, pvalue = 0.03533935546875',\n",
       " 'there is significant difference between condition 0 and condition 6, w = 13.0, pvalue = 0.00537109375']"
      ]
     },
     "execution_count": 319,
     "metadata": {},
     "output_type": "execute_result"
    }
   ],
   "source": [
    "w,pv,sig,flag = WilcoxonTest(REFvalues)\n",
    "flag"
   ]
  },
  {
   "cell_type": "code",
   "execution_count": 607,
   "metadata": {},
   "outputs": [
    {
     "data": {
      "text/plain": [
       "[]"
      ]
     },
     "execution_count": 607,
     "metadata": {},
     "output_type": "execute_result"
    }
   ],
   "source": [
    "w,pv,sig,flag = TTest(REFvalues)\n",
    "flag"
   ]
  },
  {
   "cell_type": "markdown",
   "metadata": {},
   "source": [
    "## |Tyr-1| 2-norm"
   ]
  },
  {
   "cell_type": "code",
   "execution_count": 1017,
   "metadata": {},
   "outputs": [],
   "source": [
    "# def TF_NORM(last_trial,first_freq,TFtype):\n",
    "#     \"\"\"\n",
    "#     number of trials to look at of each condition: (ex: last 4)\n",
    "#     last_trial = [4,4,8,8,8,4,4]\n",
    "\n",
    "#     what freqs to look at over all 8 stim freqs: (ex: [1,2,3,4,5,6,7,8])\n",
    "#     first_freq = [0,1,2,3,4,5,6,7]\n",
    "\n",
    "#     TFtype = 'F', 'F0', 'F1', 'TYR','TYD'...\n",
    "#     \"\"\"\n",
    "\n",
    "#     # TFnorm: for every two trial for every participant (1 number for evry two trial)\n",
    "#     TFnorm = {}\n",
    "#     for p in range(participants_num): \n",
    "#         TFnorm['subject'+str(p)] = {}\n",
    "#         for c in range(num_cond): \n",
    "#             if TFtype == 'TYR': # then calculate TYR-1\n",
    "#                 # np.sum((np.abs(TF[TFtype]['subject'+str(p)]['condition'+str(c)][-(last_trial[2]//2):][:,first_freq])-1)**2,axis = 1)\n",
    "#                 TFnorm['subject'+str(p)]['condition'+str(c)] = np.sum( (np.abs(TF[TFtype]['subject'+str(p)]['condition'+str(c)][-(last_trial[2]//2):][:,first_freq]-1))**2,axis = 1 )\n",
    "            \n",
    "#             elif TFtype == 'TUD': # then calculate TUD-(-1)\n",
    "#                 TFnorm['subject'+str(p)]['condition'+str(c)] = np.sum( (np.abs(TF[TFtype]['subject'+str(p)]['condition'+str(c)][-(last_trial[2]//2):][:,first_freq]+1))**2,axis = 1 )\n",
    "            \n",
    "#             else:\n",
    "#             #F of every two trials of each participant of every condition\n",
    "#                 TFnorm['subject'+str(p)]['condition'+str(c)] = np.sum((np.abs(TF[TFtype]['subject'+str(p)]['condition'+str(c)][-(last_trial[2]//2):][:,first_freq]))**2,axis = 1)\n",
    "    \n",
    "#     TFvalues = [] # 7 conditions x (15participants * i/2 trials)\n",
    "#     for c in range(num_cond):\n",
    "#         values_ = []\n",
    "#         for p in range(participants_num):\n",
    "#             values_.append(np.mean(TFnorm['subject'+str(p)]['condition'+str(c)])) #average of all trials of a participant of a condition\n",
    "#         TFvalues.append(values_)\n",
    "\n",
    "#     # TFvalues5 = [] # 5 conditions x (15participants * i/2 trials)\n",
    "#     # for c in range(num_cond-2):\n",
    "#     #     values_ = []\n",
    "#     #     for p in range(participants_num):\n",
    "#     #         if c==0:\n",
    "#     #             values_.append(np.mean(np.concatenate([TFnorm['subject'+str(p)]['condition'+str(c)],TFnorm['subject'+str(p)]['condition'+str(5)]]))) \n",
    "#     #             #average of all trials of a participant of a condition\n",
    "#     #         elif c==1:\n",
    "#     #             values_.append(np.mean(np.concatenate([TFnorm['subject'+str(p)]['condition'+str(c)],TFnorm['subject'+str(p)]['condition'+str(6)]]))) \n",
    "#     #         else:\n",
    "#     #             values_.append(np.mean(TFnorm['subject'+str(p)]['condition'+str(c)])) #average of all trials of a participant of a condition\n",
    "#     #     TFvalues5.append(values_)\n",
    "\n",
    "#     return TFvalues#,TFvalues5 #average MSE over all trials for every participant"
   ]
  },
  {
   "cell_type": "code",
   "execution_count": 60,
   "metadata": {},
   "outputs": [],
   "source": [
    "# def TF_NORM(last_trial,first_freq,TFtype):\n",
    "#     \"\"\"\n",
    "#     number of trials to look at of each condition: (ex: last 4)\n",
    "#     last_trial = [4,4,8,8,8,4,4]\n",
    "\n",
    "#     what freqs to look at over all 8 stim freqs: (ex: [1,2,3,4,5,6,7,8])\n",
    "#     first_freq = [0,1,2,3,4,5,6,7]\n",
    "\n",
    "#     TFtype = 'F', 'F0', 'F1', 'TYR','TYD'...\n",
    "#     \"\"\"\n",
    "\n",
    "#     # TFnorm: for every two trial for every participant (1 number for evry two trial)\n",
    "#     TFnorm = {}\n",
    "#     for p in range(participants_num): \n",
    "#         TFnorm['subject'+str(p)] = {}\n",
    "#         for c in range(num_cond): \n",
    "#             if TFtype == 'TYR': # then calculate TYR-1, normalize by freq^2\n",
    "#                 # np.sum((np.abs(TF[TFtype]['subject'+str(p)]['condition'+str(c)][-(last_trial[2]//2):][:,first_freq])-1)**2,axis = 1)\n",
    "#                 TFnorm['subject'+str(p)]['condition'+str(c)] = np.sum( (np.abs(TF[TFtype]['subject'+str(p)]['condition'+str(c)][-(last_trial[2]//2):][:,first_freq]-1) / (stimulated_freq**2))**2,axis = 1 )\n",
    "#             else: # elif TFtype == 'TUD': # then calculate TUD-(-1)\n",
    "#                 TFnorm['subject'+str(p)]['condition'+str(c)] = np.sum( (np.abs(TF[TFtype]['subject'+str(p)]['condition'+str(c)][-(last_trial[2]//2):][:,first_freq]+1) )**2,axis = 1 )\n",
    "            \n",
    "#     TFvalues = [] # 7 conditions x (15participants * i/2 trials)\n",
    "#     for c in range(num_cond):\n",
    "#         values_ = []\n",
    "#         for p in range(participants_num):\n",
    "#             values_.append(1e-4*np.mean(TFnorm['subject'+str(p)]['condition'+str(c)])) #average of all trials of a participant of a condition\n",
    "#         TFvalues.append(values_)\n",
    "\n",
    "#     return TFvalues #average MSE over all trials for every participant"
   ]
  },
  {
   "cell_type": "code",
   "execution_count": 126,
   "metadata": {},
   "outputs": [],
   "source": [
    "# p=0\n",
    "# c=0\n",
    "# i=0\n",
    "# R = np.abs( DATA['FREQ']['subject'+str(p)]['condition'+str(c)]['R'][i][:N//2] )\n",
    "# MD = np.abs( DATA['FREQ']['subject'+str(p)]['condition'+str(c)]['MD'][i][:N//2] )\n",
    "# WR = np.abs( DATA['FREQ']['subject'+str(p)]['condition'+str(c)]['WR'][i][:N//2] )\n",
    "# D = np.abs( DATA['FREQ']['subject'+str(p)]['condition'+str(c)]['D'][i][:N//2] )\n",
    "# output_stimuli_mag = np.zeros(8)\n",
    "# output_stimuli_mag[1::2] = R[R>1e-4]\n",
    "# output_stimuli_mag[::2] = MD[MD>1e-4]\n",
    "# input_stimuli_mag = np.zeros(8)\n",
    "# input_stimuli_mag[1::2] = WR[R>1e-4]\n",
    "# input_stimuli_mag[::2] = D[MD>1e-4]\n",
    "# # input_stimuli_mag"
   ]
  },
  {
   "cell_type": "code",
   "execution_count": 64,
   "metadata": {},
   "outputs": [
    {
     "data": {
      "text/plain": [
       "array([ 2.94470953e-02+0.041338j  , -9.31533455e-05-0.03383583j,\n",
       "       -9.92477396e-03+0.01771024j, -1.15928662e-02+0.00871137j,\n",
       "       -7.74601514e-03-0.00501548j, -6.89569389e-03-0.00366318j,\n",
       "        5.84340299e-03-0.00122804j, -7.94047354e-04-0.00528318j])"
      ]
     },
     "execution_count": 64,
     "metadata": {},
     "output_type": "execute_result"
    }
   ],
   "source": [
    "p=0\n",
    "c=0\n",
    "i=0\n",
    "#EO trials: dis,ref,... #trial 0, 2, ..., 12\n",
    "R = DATA['FREQ']['subject'+str(p)]['condition'+str(c)]['R'][i][:N//2]  \n",
    "MD =  DATA['FREQ']['subject'+str(p)]['condition'+str(c)]['MD'][i][:N//2] \n",
    "WR =  DATA['FREQ']['subject'+str(p)]['condition'+str(c)]['WR'][i][:N//2] \n",
    "D =  DATA['FREQ']['subject'+str(p)]['condition'+str(c)]['D'][i][:N//2] \n",
    "output_stimuli = np.zeros(8,dtype = complex)\n",
    "output_stimuli[1::2] = R[np.abs(R)>1e-4]\n",
    "output_stimuli[::2] = MD[np.abs(MD)>1e-4]\n",
    "input_stimuli = np.zeros(8,dtype = complex)\n",
    "input_stimuli[1::2] = WR[np.abs(R)>1e-4]\n",
    "input_stimuli[::2] = D[np.abs(MD)>1e-4]\n",
    "output_stimuli"
   ]
  },
  {
   "cell_type": "code",
   "execution_count": 65,
   "metadata": {},
   "outputs": [
    {
     "data": {
      "text/plain": [
       "array([-0.04800399-0.01647964j, -0.01580675+0.02991686j,\n",
       "        0.01839657-0.00858603j,  0.00282516-0.01422326j,\n",
       "        0.00326493+0.00863111j,  0.00779775-0.00040577j,\n",
       "       -0.00553596-0.00223754j,  0.00181738+0.00502391j])"
      ]
     },
     "execution_count": 65,
     "metadata": {},
     "output_type": "execute_result"
    }
   ],
   "source": [
    "p=0\n",
    "c=0\n",
    "i=1\n",
    "#OE trials: ref,dis,... #trial 1, 3, ..., 13 (last trial)\n",
    "R = DATA['FREQ']['subject'+str(p)]['condition'+str(c)]['R'][i][:N//2] \n",
    "MD =  DATA['FREQ']['subject'+str(p)]['condition'+str(c)]['MD'][i][:N//2] \n",
    "WR =  DATA['FREQ']['subject'+str(p)]['condition'+str(c)]['WR'][i][:N//2] \n",
    "D =  DATA['FREQ']['subject'+str(p)]['condition'+str(c)]['D'][i][:N//2] \n",
    "output_stimuli = np.zeros(8,dtype = complex)\n",
    "output_stimuli[::2] = R[np.abs(R)>1e-4]\n",
    "output_stimuli[1::2] = MD[np.abs(MD)>1e-4]\n",
    "input_stimuli = np.zeros(8,dtype = complex)\n",
    "input_stimuli[::2] = WR[np.abs(R)>1e-4]\n",
    "input_stimuli[1::2] = D[np.abs(MD)>1e-4]\n",
    "output_stimuli"
   ]
  },
  {
   "cell_type": "code",
   "execution_count": 66,
   "metadata": {},
   "outputs": [],
   "source": [
    "scaleOut = 0.8120629258740933\n",
    "vfs = ['so']\n",
    "period = 20 # sec\n",
    "f_base = 1./period # Hz\n",
    "# TODO go up to 3--5Hz -- check that Sam can track, and check when becomes sub-pixel\n",
    "primes = np.asarray([2, 3, 5, 7, 11, 13, 17, 19, 23, 29, 31, 37, 41, 43, 47, 53, 59, 61, 67, 71, 73, 79, 83, 89, 97, 101, 103, 107, 109, 113, 127, 131, 137, 139, 149, 151, 157, 163, 167, 173, 179, 181, 191, 193, 197, 199])\n",
    "f_max = dict(fo=2,so=1)\n",
    "p_max = dict([(vf,np.nonzero(primes*f_base <= f_max[vf])[0][-1]+1) for vf in vfs])\n",
    "f_primes = dict([(vf,np.asarray(primes[:p_max[vf]])) for vf in vfs])\n",
    "frequencies = dict([(vf,f_primes[vf]*f_base) for vf in vfs])\n",
    "frequencies_r = frequencies.copy()\n",
    "frequencies_d = frequencies.copy()\n",
    "amplitudes = dict([(vf,scaleOut*(1./f_primes[vf])) for vf in vfs])\n",
    "# amplitudes = dict([(vf,(1./f_primes[vf])*(0.5/f_primes[vf]).sum()) for vf in vfs])\n",
    "amplitudes_r = amplitudes.copy()\n",
    "# amplitudes_d = amplitudes.copy()\n",
    "#d = Md/M\n",
    "amplitudes_output = amplitudes_r['so']\n",
    "amplitudes_input = amplitudes_r['so'] / abs(M_h[stimulated_index])"
   ]
  },
  {
   "cell_type": "code",
   "execution_count": 67,
   "metadata": {},
   "outputs": [],
   "source": [
    "def TYR_NORM(last_trial,first_freq,TFtype):\n",
    "\n",
    "    # TFnorm: for every two trial for every participant (1 number for evry two trial)\n",
    "    TFnorm = {}\n",
    "    for p in range(participants_num): \n",
    "        TFnorm['subject'+str(p)] = {}\n",
    "        for c in range(num_cond):  # then calculate TYR-1, normalize by freq^2\n",
    "            # TFnorm['subject'+str(p)]['condition'+str(c)] = np.sum( (np.abs(TF['TYR']['subject'+str(p)]['condition'+str(c)][-(last_trial[2]//2):][:,first_freq]-1) / (stimulated_freq))**2,axis = 1 )\n",
    "            # TFnorm['subject'+str(p)]['condition'+str(c)] = np.sum( (np.abs(TF['TYR']['subject'+str(p)]['condition'+str(c)][-(last_trial[2]//2):][:,first_freq]-1) * amplitudes_output)**2,axis = 1 )\n",
    "            TFnorm['subject'+str(p)]['condition'+str(c)] = np.sum( (np.abs(TF['TYR']['subject'+str(p)]['condition'+str(c)][-(last_trial[2]//2):][:,first_freq]-1) * amplitudes_output)**2,axis = 1 )\n",
    "\n",
    "        \n",
    "    TFvalues = [] # 7 conditions x (15participants * i/2 trials)\n",
    "    for c in range(num_cond):\n",
    "        values_ = []\n",
    "        for p in range(participants_num):\n",
    "            values_.append(np.mean(TFnorm['subject'+str(p)]['condition'+str(c)])) #average of all trials of a participant of a condition\n",
    "        TFvalues.append(values_)\n",
    "\n",
    "    return TFvalues #average MSE over all trials for every participant"
   ]
  },
  {
   "cell_type": "code",
   "execution_count": 68,
   "metadata": {},
   "outputs": [],
   "source": [
    "last_trial = [5,5,5,5,5,2,2]\n",
    "# last_trial = [5,5,5,5,5,4,4]\n",
    "last_trial = [4,4,4,4,4,4,4]\n",
    "\n",
    "\n",
    "first_freq = [0,1,2,3,4,5,6,7]\n",
    "# first_freq = [0,1]"
   ]
  },
  {
   "cell_type": "code",
   "execution_count": 71,
   "metadata": {},
   "outputs": [
    {
     "data": {
      "image/png": "[encoded data removed]",
      "text/plain": [
       "<Figure size 540x324 with 1 Axes>"
      ]
     },
     "metadata": {
      "needs_background": "light"
     },
     "output_type": "display_data"
    }
   ],
   "source": [
    "TYRvalues = TYR_NORM(last_trial,first_freq,'TYR')\n",
    "\n",
    "fig,axs = BOXPLOT(TYRvalues,'$||\\widehat{T}_{yr}-1||^2$',ylimit0 = (0.2,1.4)) #,ylimit0 = (0.5,11)\n",
    "# fig.suptitle(plot_title)\n",
    "plt.axvspan(0.5,2.5, facecolor='grey', alpha=0.1)\n",
    "plt.axvspan(2.5,5.5, facecolor='green', alpha=0.2)\n",
    "plt.axvspan(5.5,7.5, facecolor='grey', alpha=0.1)\n",
    "plt.text(0.2,0.14, r'$1^{st}$ session', fontsize=12, transform=plt.gcf().transFigure,color = 'grey')\n",
    "plt.text(0.48,0.14, r'$2^{nd}$ session', fontsize=12, transform=plt.gcf().transFigure,color = 'green')\n",
    "plt.text(0.78,0.14, r'$3^{rd}$ session', fontsize=12, transform=plt.gcf().transFigure,color = 'grey')\n",
    "plt.tight_layout()\n",
    "plt.show()\n",
    "\n",
    "# fig,axs = BOXPLOT5(TYRvalues5,'$|\\widehat{T_{yr}}-1|_{2}$')\n",
    "# # fig.suptitle(plot_title)\n",
    "# plt.tight_layout()\n",
    "# plt.show()"
   ]
  },
  {
   "cell_type": "code",
   "execution_count": 70,
   "metadata": {},
   "outputs": [
    {
     "data": {
      "text/plain": [
       "['there is significant difference between condition 0 and condition 1, w = 14.0, pvalue = 0.0067138671875',\n",
       " 'there is significant difference between condition 0 and condition 5, w = 11.0, pvalue = 0.00335693359375',\n",
       " 'there is significant difference between condition 0 and condition 6, w = 4.0, pvalue = 0.00042724609375',\n",
       " 'there is significant difference between condition 3 and condition 6, w = 22.0, pvalue = 0.0301513671875']"
      ]
     },
     "execution_count": 70,
     "metadata": {},
     "output_type": "execute_result"
    }
   ],
   "source": [
    "w,pv,sig,flag = WilcoxonTest(TYRvalues)\n",
    "flag"
   ]
  },
  {
   "cell_type": "code",
   "execution_count": 72,
   "metadata": {},
   "outputs": [
    {
     "data": {
      "text/plain": [
       "['there is significant difference between condition 0 and condition 6, w = 2.4829436157855875, pvalue = 0.02631921820222461',\n",
       " 'there is significant difference between condition 3 and condition 6, w = 2.7448734346361974, pvalue = 0.01580324157499709']"
      ]
     },
     "execution_count": 72,
     "metadata": {},
     "output_type": "execute_result"
    }
   ],
   "source": [
    "w,pv,sig,flag = TTest(TYRvalues)\n",
    "flag"
   ]
  },
  {
   "cell_type": "markdown",
   "metadata": {},
   "source": [
    "# Hypothesis 1c - disturbance rejection improves"
   ]
  },
  {
   "cell_type": "markdown",
   "metadata": {},
   "source": [
    "## freq domain Y at disturbance freq"
   ]
  },
  {
   "cell_type": "code",
   "execution_count": 73,
   "metadata": {},
   "outputs": [],
   "source": [
    "def MSE_DIS(last_trial,first_freq):\n",
    "    \"\"\"\n",
    "    number of trials to look at of each condition: (ex: last 4)\n",
    "    last_trial = [4,4,8,8,8,4,4]\n",
    "\n",
    "    what freqs to look at over all 8 stim freqs: (ex: [1,2,3,4,5,6,7,8])\n",
    "    first_freq = [0,1,2,3,4,5,6,7]\n",
    "    \"\"\"\n",
    "    #EO trials: dis,ref,... #trial 0, 2, ..., 12\n",
    "    #OE trials: ref,dis,... #trial 1, 3, ..., 13 (last trial)\n",
    "    MSEf = {}\n",
    "    even_index = [0,2,4,6]\n",
    "    odd_index = [1,3,5,7]\n",
    "\n",
    "    for p in range(participants_num): # number of participants = 15\n",
    "        MSEf['subject'+str(p)] = {}\n",
    "        for c in range(num_cond):  # number of conditions  = 7\n",
    "            #freq domain error of every two trials of each participantof every condition\n",
    "            R_Y = (np.asarray(DATA['FREQ']['subject'+str(p)]['condition'+str(c)]['R']) - \n",
    "                    np.asarray(DATA['FREQ']['subject'+str(p)]['condition'+str(c)]['Y']))\n",
    "            # R_Y = (np.asarray(DATA['FREQ']['subject'+str(p)]['condition'+str(c)]['R']))\n",
    "            Y_stim_EO = R_Y[-last_trial[c]::2][:,stimulated_index[even_index]]#R_Y[-last_trial[c]::2][:,stimulated_index[first_freq]]\n",
    "            Y_stim_OE = R_Y[-last_trial[c]::2][:,stimulated_index[odd_index]]#R_Y[-last_trial[c]+1::2][:,stimulated_index[first_freq]]\n",
    "            dis_stim_all = np.concatenate([Y_stim_EO,Y_stim_OE])\n",
    "            # Y_stim_OE = np.asarray(DATA['FREQ']['subject'+str(p)]['condition'+str(c)]['Y'][-last_trial[c]::2])[:,stimulated_index[first_freq]]\n",
    "            # Y_stim_EO = np.asarray(DATA['FREQ']['subject'+str(p)]['condition'+str(c)]['Y'][-last_trial[c]+1::2])[:,stimulated_index[first_freq]]\n",
    "            # dis_error_EO = np.sum(np.abs((Y_stim_EO[:,::2])**2),axis=1) #LA.norm(Y_stim_OE[:,1::2],axis = 1) \n",
    "            # dis_error_OE = np.sum(np.abs((Y_stim_OE[:,1::2])**2),axis=1) #LA.norm(Y_stim_EO[:,::2],axis = 1)\n",
    "            \n",
    "            MSEf['subject'+str(p)]['condition'+str(c)] = np.sum( (np.abs(dis_stim_all))**2 ,axis=1)#np.concatenate([dis_error_OE,dis_error_EO])\n",
    "\n",
    "    MSEfvalues = [] # 7 conditions x (15participants * i/2 trials)\n",
    "    for c in range(num_cond):\n",
    "        values_ = []\n",
    "        for p in range(participants_num):\n",
    "            values_.append(np.mean(MSEf['subject'+str(p)]['condition'+str(c)])) #average TD error of all trials of a participant of a condition\n",
    "        MSEfvalues.append(values_)\n",
    "\n",
    "    return MSEfvalues #average MSE over all trials for every participant"
   ]
  },
  {
   "cell_type": "code",
   "execution_count": 74,
   "metadata": {},
   "outputs": [],
   "source": [
    "# last_trial = [5,5,5,5,5,2,2]\n",
    "# last_trial = [5,5,5,5,5,4,4]\n",
    "last_trial = [4,4,4,4,4,4,4]\n",
    "\n",
    "\n",
    "first_freq = [0,1,2,3,4,5,6,7]\n",
    "# first_freq = [0,1]"
   ]
  },
  {
   "cell_type": "code",
   "execution_count": 75,
   "metadata": {},
   "outputs": [
    {
     "data": {
      "image/png": "[encoded data removed]",
      "text/plain": [
       "<Figure size 540x324 with 1 Axes>"
      ]
     },
     "metadata": {
      "needs_background": "light"
     },
     "output_type": "display_data"
    }
   ],
   "source": [
    "DISvalues= MSE_DIS(last_trial,first_freq)\n",
    "\n",
    "fig,axs = BOXPLOT(DISvalues,'$\\sum |(R-Y)_{at-dis-stimuli}|^2$',ylimit0 = (0,0.008))\n",
    "# fig.suptitle(plot_title)\n",
    "plt.tight_layout()\n",
    "plt.show()\n",
    "\n",
    "# fig,axs = BOXPLOT5(DISvalues5,'$\\sum |Y_{at-dis-stimuli}|^2$',ylimit0=0.008)\n",
    "# plt.tight_layout()\n",
    "# plt.show()"
   ]
  },
  {
   "cell_type": "code",
   "execution_count": 314,
   "metadata": {},
   "outputs": [
    {
     "data": {
      "text/plain": [
       "['there is significant difference between condition 0 and condition 1, w = 10.0, pvalue = 0.00262451171875',\n",
       " 'there is significant difference between condition 0 and condition 2, w = 5.0, pvalue = 0.0006103515625',\n",
       " 'there is significant difference between condition 0 and condition 3, w = 16.0, pvalue = 0.01025390625',\n",
       " 'there is significant difference between condition 0 and condition 4, w = 13.0, pvalue = 0.00537109375',\n",
       " 'there is significant difference between condition 0 and condition 6, w = 16.0, pvalue = 0.01025390625',\n",
       " 'there is significant difference between condition 5 and condition 6, w = 25.0, pvalue = 0.04791259765625']"
      ]
     },
     "execution_count": 314,
     "metadata": {},
     "output_type": "execute_result"
    }
   ],
   "source": [
    "w,pv,sig,flag = WilcoxonTest(DISvalues)\n",
    "flag"
   ]
  },
  {
   "cell_type": "code",
   "execution_count": 586,
   "metadata": {},
   "outputs": [
    {
     "data": {
      "text/plain": [
       "['there is significant difference between condition 0 and condition 1, w = 2.774383041534763, pvalue = 0.014913174516316035',\n",
       " 'there is significant difference between condition 0 and condition 2, w = 2.6524042168014907, pvalue = 0.018939998824777694',\n",
       " 'there is significant difference between condition 0 and condition 3, w = 2.5995309859520517, pvalue = 0.020996490803448193',\n",
       " 'there is significant difference between condition 0 and condition 4, w = 2.165894426001688, pvalue = 0.048071097439337136',\n",
       " 'there is significant difference between condition 0 and condition 5, w = 2.471740303144643, pvalue = 0.026894006977847693',\n",
       " 'there is significant difference between condition 0 and condition 6, w = 2.8038363831338047, pvalue = 0.014073643715087233']"
      ]
     },
     "execution_count": 586,
     "metadata": {},
     "output_type": "execute_result"
    }
   ],
   "source": [
    "w,pv,sig,flag = TTest(TYRvalues)\n",
    "flag"
   ]
  },
  {
   "cell_type": "markdown",
   "metadata": {},
   "source": [
    "## |Tud-1| 2-norm"
   ]
  },
  {
   "cell_type": "code",
   "execution_count": 76,
   "metadata": {},
   "outputs": [],
   "source": [
    "def TUD_NORM(last_trial,first_freq):\n",
    "\n",
    "    # TFnorm: for every two trial for every participant (1 number for evry two trial)\n",
    "    TFnorm = {}\n",
    "    for p in range(participants_num): \n",
    "        TFnorm['subject'+str(p)] = {}\n",
    "        for c in range(num_cond):  # then calculate TYR-1, normalize by freq^2\n",
    "            # np.sum((np.abs(TF[TFtype]['subject'+str(p)]['condition'+str(c)][-(last_trial[2]//2):][:,first_freq])-1)**2,axis = 1)\n",
    "            # TFnorm['subject'+str(p)]['condition'+str(c)] = np.sum( (np.abs(TF['TUD']['subject'+str(p)]['condition'+str(c)][-(last_trial[2]//2):][:,first_freq]-1) *(1/M(stimulated_freq))*(1/stimulated_freq))**2,axis = 1 )\n",
    "            TFnorm['subject'+str(p)]['condition'+str(c)] = np.sum( (np.abs(TF['TUD']['subject'+str(p)]['condition'+str(c)][-(last_trial[2]//2):][:,first_freq]+1) * amplitudes_input)**2,axis = 1 )\n",
    "\n",
    "        \n",
    "    TFvalues = [] # 7 conditions x (15participants * i/2 trials)\n",
    "    for c in range(num_cond):\n",
    "        values_ = []\n",
    "        for p in range(participants_num):\n",
    "            values_.append(np.mean(TFnorm['subject'+str(p)]['condition'+str(c)])) #average of all trials of a participant of a condition\n",
    "        TFvalues.append(values_)\n",
    "\n",
    "    return TFvalues #average MSE over all trials for every participant"
   ]
  },
  {
   "cell_type": "code",
   "execution_count": 77,
   "metadata": {},
   "outputs": [],
   "source": [
    "last_trial = [5,5,5,5,5,2,2]\n",
    "# last_trial = [5,5,5,5,5,4,4]\n",
    "last_trial = [4,4,4,4,4,4,4]\n",
    "\n",
    "\n",
    "first_freq = [0,1,2,3,4,5,6,7]\n",
    "# first_freq = [0,1]\n",
    "# first_freq = [2,3,4,5,6,7]"
   ]
  },
  {
   "cell_type": "code",
   "execution_count": 78,
   "metadata": {},
   "outputs": [
    {
     "data": {
      "image/png": "[encoded data removed]",
      "text/plain": [
       "<Figure size 540x324 with 1 Axes>"
      ]
     },
     "metadata": {
      "needs_background": "light"
     },
     "output_type": "display_data"
    }
   ],
   "source": [
    "TUDvalues = TUD_NORM(last_trial,first_freq)\n",
    "\n",
    "fig,axs = BOXPLOT(TUDvalues,'$||\\widehat{T}_{ud}+1||^2$',ylimit0 = (5,20))#,ylimit0 = (0,13)\n",
    "# fig.suptitle(plot_title)\n",
    "plt.axvspan(0.5,2.5, facecolor='grey', alpha=0.1)\n",
    "plt.axvspan(2.5,5.5, facecolor='green', alpha=0.2)\n",
    "plt.axvspan(5.5,7.5, facecolor='grey', alpha=0.1)\n",
    "plt.text(0.2,0.14, r'$1^{st}$ session', fontsize=12, transform=plt.gcf().transFigure,color = 'grey')\n",
    "plt.text(0.48,0.14, r'$2^{nd}$ session', fontsize=12, transform=plt.gcf().transFigure,color = 'green')\n",
    "plt.text(0.78,0.14, r'$3^{rd}$ session', fontsize=12, transform=plt.gcf().transFigure,color = 'grey')\n",
    "plt.tight_layout()\n",
    "plt.show()"
   ]
  },
  {
   "cell_type": "code",
   "execution_count": 192,
   "metadata": {},
   "outputs": [
    {
     "data": {
      "text/plain": [
       "['there is significant difference between condition 0 and condition 4, w = 18.0, pvalue = 0.01507568359375',\n",
       " 'there is significant difference between condition 0 and condition 5, w = 6.0, pvalue = 0.0008544921875',\n",
       " 'there is significant difference between condition 0 and condition 6, w = 11.0, pvalue = 0.00335693359375',\n",
       " 'there is significant difference between condition 1 and condition 6, w = 9.0, pvalue = 0.00201416015625',\n",
       " 'there is significant difference between condition 2 and condition 5, w = 19.0, pvalue = 0.01806640625',\n",
       " 'there is significant difference between condition 2 and condition 6, w = 12.0, pvalue = 0.0042724609375',\n",
       " 'there is significant difference between condition 3 and condition 5, w = 25.0, pvalue = 0.04791259765625',\n",
       " 'there is significant difference between condition 3 and condition 6, w = 13.0, pvalue = 0.00537109375']"
      ]
     },
     "execution_count": 192,
     "metadata": {},
     "output_type": "execute_result"
    }
   ],
   "source": [
    "w,pv,sig,flag = WilcoxonTest(TUDvalues)\n",
    "flag\n"
   ]
  },
  {
   "cell_type": "code",
   "execution_count": 95,
   "metadata": {},
   "outputs": [
    {
     "data": {
      "text/plain": [
       "['there is significant difference between condition 0 and condition 5, w = 3.976701229488659, pvalue = 0.0013776000835768296',\n",
       " 'there is significant difference between condition 0 and condition 6, w = 3.020170014297319, pvalue = 0.009177097229994937',\n",
       " 'there is significant difference between condition 1 and condition 5, w = 2.2740219373448647, pvalue = 0.03923339135642827',\n",
       " 'there is significant difference between condition 1 and condition 6, w = 2.751444741712574, pvalue = 0.015600663676545194',\n",
       " 'there is significant difference between condition 2 and condition 3, w = 2.1746002896175844, pvalue = 0.047295889376098736',\n",
       " 'there is significant difference between condition 2 and condition 5, w = 4.868301768019756, pvalue = 0.00024859646790398256',\n",
       " 'there is significant difference between condition 2 and condition 6, w = 3.7287490092026294, pvalue = 0.0022458285672097545',\n",
       " 'there is significant difference between condition 3 and condition 5, w = 4.250957175650346, pvalue = 0.0008066456366737415',\n",
       " 'there is significant difference between condition 3 and condition 6, w = 3.436776454375571, pvalue = 0.004008681295511988',\n",
       " 'there is significant difference between condition 4 and condition 5, w = 2.995938385036898, pvalue = 0.00962871290792307',\n",
       " 'there is significant difference between condition 4 and condition 6, w = 2.670877097193449, pvalue = 0.018268557210545343']"
      ]
     },
     "execution_count": 95,
     "metadata": {},
     "output_type": "execute_result"
    }
   ],
   "source": [
    "w,pv,sig,flag = TTest(TUDvalues)\n",
    "flag"
   ]
  },
  {
   "cell_type": "markdown",
   "metadata": {},
   "source": [
    "## |Ty(Md)|"
   ]
  },
  {
   "cell_type": "code",
   "execution_count": 79,
   "metadata": {},
   "outputs": [],
   "source": [
    "def TYMD_NORM(last_trial,first_freq):\n",
    "\n",
    "    # TFnorm: for every two trial for every participant (1 number for evry two trial)\n",
    "    TFnorm = {}\n",
    "    for p in range(participants_num): \n",
    "        TFnorm['subject'+str(p)] = {}\n",
    "        for c in range(num_cond):  # then calculate TYR-1, normalize by freq^2\n",
    "            # np.sum((np.abs(TF[TFtype]['subject'+str(p)]['condition'+str(c)][-(last_trial[2]//2):][:,first_freq])-1)**2,axis = 1)\n",
    "            # TFnorm['subject'+str(p)]['condition'+str(c)] = np.sum( (np.abs(TF['TUD']['subject'+str(p)]['condition'+str(c)][-(last_trial[2]//2):][:,first_freq]-1) *(1/M(stimulated_freq))*(1/stimulated_freq))**2,axis = 1 )\n",
    "            TFnorm['subject'+str(p)]['condition'+str(c)] = np.sum( (np.abs(TF['TYMD']['subject'+str(p)]['condition'+str(c)][-(last_trial[2]//2):][:,first_freq]) * amplitudes_output[first_freq])**2,axis = 1 )\n",
    "\n",
    "        \n",
    "    TFvalues = [] # 7 conditions x (15participants * i/2 trials)\n",
    "    for c in range(num_cond):\n",
    "        values_ = []\n",
    "        for p in range(participants_num):\n",
    "            values_.append(np.mean(TFnorm['subject'+str(p)]['condition'+str(c)])) #average of all trials of a participant of a condition\n",
    "        TFvalues.append(values_)\n",
    "\n",
    "    return TFvalues #average MSE over all trials for every participant"
   ]
  },
  {
   "cell_type": "code",
   "execution_count": 122,
   "metadata": {},
   "outputs": [],
   "source": [
    "last_trial = [4,4,4,4,4,4,4]\n",
    "\n",
    "# what freqs to look at over all 8 stim freqs: (ex: [0,1,2,3,4,5,6,7])\n",
    "first_freq = [0,1,2,3,4,5,6,7]\n",
    "# first_freq = [0,1]\n",
    "# first_freq = [2,3,4,5,6,7]"
   ]
  },
  {
   "cell_type": "code",
   "execution_count": 126,
   "metadata": {},
   "outputs": [
    {
     "data": {
      "image/png": "[encoded data removed]",
      "text/plain": [
       "<Figure size 540x324 with 1 Axes>"
      ]
     },
     "metadata": {
      "needs_background": "light"
     },
     "output_type": "display_data"
    }
   ],
   "source": [
    "TYMDvalues = TYMD_NORM(last_trial,first_freq)\n",
    "\n",
    "fig,axs = BOXPLOT(TYMDvalues,'$||\\widehat{T}_{y(Md)}||^2$',ylimit0 = (0,1.25))#,ylimit0 = (0,13)\n",
    "# fig.suptitle(plot_title)\n",
    "plt.axvspan(0.5,2.5, facecolor='grey', alpha=0.1)\n",
    "plt.axvspan(2.5,5.5, facecolor='green', alpha=0.2)\n",
    "plt.axvspan(5.5,7.5, facecolor='grey', alpha=0.1)\n",
    "plt.text(0.2,0.14, r'$1^{st}$ session', fontsize=12, transform=plt.gcf().transFigure,color = 'grey')\n",
    "plt.text(0.48,0.14, r'$2^{nd}$ session', fontsize=12, transform=plt.gcf().transFigure,color = 'green')\n",
    "plt.text(0.78,0.14, r'$3^{rd}$ session', fontsize=12, transform=plt.gcf().transFigure,color = 'grey')\n",
    "plt.tight_layout()\n",
    "plt.show()"
   ]
  },
  {
   "cell_type": "code",
   "execution_count": 125,
   "metadata": {},
   "outputs": [
    {
     "data": {
      "text/plain": [
       "['there is significant difference between condition 0 and condition 1, w = 0.0, pvalue = 6.103515625e-05',\n",
       " 'there is significant difference between condition 0 and condition 2, w = 6.0, pvalue = 0.0008544921875',\n",
       " 'there is significant difference between condition 0 and condition 4, w = 8.0, pvalue = 0.00152587890625',\n",
       " 'there is significant difference between condition 0 and condition 5, w = 24.0, pvalue = 0.041259765625',\n",
       " 'there is significant difference between condition 0 and condition 6, w = 15.0, pvalue = 0.00836181640625',\n",
       " 'there is significant difference between condition 1 and condition 6, w = 23.0, pvalue = 0.03533935546875',\n",
       " 'there is significant difference between condition 3 and condition 6, w = 18.0, pvalue = 0.01507568359375',\n",
       " 'there is significant difference between condition 5 and condition 6, w = 19.0, pvalue = 0.01806640625']"
      ]
     },
     "execution_count": 125,
     "metadata": {},
     "output_type": "execute_result"
    }
   ],
   "source": [
    "w,pv,sig,flag = WilcoxonTest(TYMDvalues)\n",
    "flag"
   ]
  },
  {
   "cell_type": "markdown",
   "metadata": {},
   "source": [
    "## Tyr, Tud Bode"
   ]
  },
  {
   "cell_type": "code",
   "execution_count": 83,
   "metadata": {},
   "outputs": [],
   "source": [
    "def PLOT_T_BODE(c, last_trial): \n",
    "    xlim = (stimulated_freq[0]-.01,stimulated_freq[-1]+.1)\n",
    "    xticks = prime*0.05\n",
    "    xticklabels =np.round(prime*0.05,2)\n",
    "    # ylimmag = (1e-1,1.5e1)\n",
    "    ylimmag = (1e-1,10**2)\n",
    "    yticksmag = [0.1,1.0,10.0]\n",
    "    yticklabelsmag = ['0.1','1.0','10.0']\n",
    "    ylimphase = (-np.pi-0.1,np.pi+1.8)\n",
    "    yticksphase = [-np.pi,0.,np.pi]\n",
    "    yticklabelsphase = [r'$-\\pi$',r'0',r'$+\\pi$']\n",
    "\n",
    "    # # plot\n",
    "    # fig=plt.figure()\n",
    "    # ax1 = plt.subplot(221)\n",
    "    # ax2 = plt.subplot(222, sharey = ax1)\n",
    "    # ax3 = plt.subplot(223)\n",
    "    # ax4 = plt.subplot(224, sharey = ax3)\n",
    "\n",
    "    fig,axs = plt.subplots(2, 2,sharex=True,figsize=(8,4))\n",
    "\n",
    "    for j in [0,1]:\n",
    "        if j==0:\n",
    "            TType = 'TYR'\n",
    "        else:\n",
    "            TType = 'TUD'\n",
    "\n",
    "        mag_mean = []\n",
    "        phase_mean = []\n",
    "        for p in range(participants_num):\n",
    "            # mag & phase of all trials\n",
    "            mag = np.abs(TF[TType]['subject'+str(p)]['condition'+str(c)][-(last_trial[c]//2):])\n",
    "            phase = np.angle(TF[TType]['subject'+str(p)]['condition'+str(c)][-(last_trial[c]//2):])\n",
    "\n",
    "            mag_mean.append( np.mean(mag,axis=0) ) #average of all trials\n",
    "            phase_mean.append( np.angle( np.mean(np.exp(1j*phase), axis=0)) ) #average of all trials\n",
    "\n",
    "        # average mag of all participants (15 numbers)\n",
    "        mag_mean_mean = np.mean(mag_mean,axis=0)\n",
    "        mag_mean_75 = np.percentile(mag_mean, 75, axis=0)\n",
    "        mag_mean_25 = np.percentile(mag_mean, 25, axis=0)\n",
    "\n",
    "        # average phase of all participants (15 numbers)\n",
    "        if j==0:\n",
    "            z = np.mean(np.exp(1j*(np.asarray(phase_mean))), axis=0)\n",
    "            phase_mean_mean = np.angle(z)\n",
    "            phase_mean_disp = 1-np.abs(z)\n",
    "        else:\n",
    "            z = np.mean(np.exp(1j*(np.asarray(phase_mean)-np.pi)), axis=0)\n",
    "            phase_mean_mean = np.angle(z)+np.pi\n",
    "            phase_mean_disp = 1-np.abs(z)\n",
    "\n",
    "        ax = axs[0,j]\n",
    "        # for i in range(math.ceil(trialnum[c]/2)):\n",
    "        #     ax.plot(stimulated_freq, np.asarray(mag_mean)[i], '*--', color='0.8') \n",
    "        ax.plot(stimulated_freq, mag_mean_mean, 'o-', color=colors['d'])\n",
    "        # ax.errorbar(x=stimulated_freq, y=mag_mean_mean, xerr=None,\n",
    "        #             yerr=np.asarray([mag_mean_mean-mag_mean_25, mag_mean_75-mag_mean_mean]),\n",
    "        #             color='k',ls='none',zorder=10)\n",
    "        ax.fill_between(stimulated_freq, mag_mean_25, mag_mean_75,\n",
    "                                facecolor=colors['d'],edgecolor=colors['d'],alpha = 0.3)\n",
    "        # ax.plot(xlim,[0.,0.],'k--',zorder=-1)\n",
    "        ax.set_xscale(\"log\")\n",
    "        ax.set_yscale(\"log\")\n",
    "        ax.set_xticks([])\n",
    "        ax.set_xticklabels([])\n",
    "        ax.set_xlim(xlim)\n",
    "        ax.set_ylim(ylimmag)\n",
    "        ax.set_yticks(yticksmag) \n",
    "        ax.set_yticklabels(yticklabelsmag,**font)\n",
    "        # ax.title.set_text()\n",
    "        ax.grid('on',zorder=-1)\n",
    "\n",
    "        ax = axs[1,j]\n",
    "        # for i in range(math.ceil(trialnum[c]/2)):\n",
    "        #     ax.plot(stimulated_freq, phase_mean[i], '*--', color='0.8') \n",
    "        ax.plot(stimulated_freq, phase_mean_mean, 'o-', color=colors['d'],label=TType)\n",
    "        # ax.errorbar(x=stimulated_freq, y=phase_mean_mean, xerr=None,\n",
    "        #             yerr=np.asarray([phase_mean_disp, phase_mean_disp]),\n",
    "        #             color='k',ls='none',zorder=10)\n",
    "        ax.fill_between(stimulated_freq, phase_mean_mean+phase_mean_disp,phase_mean_mean-phase_mean_disp,\n",
    "                                facecolor=colors['d'],edgecolor=colors['d'],alpha = 0.3)\n",
    "        \n",
    "        # ax.plot(xlim,[np.pi,np.pi],'k--',zorder=-1,alpha = 0.5)\n",
    "        ax.set_xscale(\"log\")\n",
    "        ax.set_xlim(xlim)\n",
    "        ax.set_ylim(ylimphase)\n",
    "        ax.set_xticks(xticks)\n",
    "        ax.set_xticklabels(xticklabels,rotation=90)\n",
    "        ax.set_yticks(yticksphase) \n",
    "        ax.set_yticklabels(yticklabelsphase,**font)\n",
    "        ax.grid('on',zorder=-1)\n",
    "        \n",
    "\n",
    "    ax = axs[0,0]\n",
    "    ax.set_ylabel('gain')\n",
    "\n",
    "    ax = axs[1,0]\n",
    "    ax.set_ylabel('phase (raidans)')\n",
    "    ax.legend(loc='lower center',ncol=2,frameon=False)\n",
    "\n",
    "    ax = axs[0,1]\n",
    "    # ax.plot(stimulated_freq,np.abs(1/M_h[stimulated_index]), 'o-', color='black') # M^-1\n",
    "    # ax = axs[1,1]\n",
    "    # ax.plot(stimulated_freq,np.angle(1/M_h[stimulated_index]), 'o-', color='black',label=r'$M^{-1}$') # M^-1\n",
    "    ax.legend(loc='lower center',ncol=2,frameon=False)\n",
    "\n",
    "    plt.tight_layout()\n",
    "    fig.suptitle('condition '+str(c)) \n",
    "    plt.show()\n",
    "\n"
   ]
  },
  {
   "cell_type": "code",
   "execution_count": 86,
   "metadata": {},
   "outputs": [
    {
     "name": "stderr",
     "output_type": "stream",
     "text": [
      "No handles with labels found to put in legend.\n"
     ]
    },
    {
     "data": {
      "image/png": "[encoded data removed]",
      "text/plain": [
       "<Figure size 576x288 with 4 Axes>"
      ]
     },
     "metadata": {
      "needs_background": "light"
     },
     "output_type": "display_data"
    }
   ],
   "source": [
    "PLOT_T_BODE(2,last_trial)"
   ]
  },
  {
   "cell_type": "code",
   "execution_count": 85,
   "metadata": {},
   "outputs": [
    {
     "name": "stderr",
     "output_type": "stream",
     "text": [
      "No handles with labels found to put in legend.\n"
     ]
    },
    {
     "data": {
      "image/png": "[encoded data removed]",
      "text/plain": [
       "<Figure size 576x288 with 4 Axes>"
      ]
     },
     "metadata": {
      "needs_background": "light"
     },
     "output_type": "display_data"
    }
   ],
   "source": [
    "PLOT_T_BODE(6,last_trial)"
   ]
  },
  {
   "cell_type": "markdown",
   "metadata": {},
   "source": [
    "# UX all non-stim freq"
   ]
  },
  {
   "cell_type": "code",
   "execution_count": 33,
   "metadata": {},
   "outputs": [],
   "source": [
    "#mask for index of freq that are less than 1Hz\n",
    "def lessthanone(x): return x <= 1.0\n",
    "indexone = [idx for idx, element in enumerate(xf) if lessthanone(element)]\n",
    "unwanted_index = {4,  6, 10, 14, 22, 26, 34, 38}\n",
    "nonstimulated_index = [i for i in indexone if i not in unwanted_index]\n",
    "all_nonstimulated_index = [i for i in range(N//2) if i not in unwanted_index]\n",
    "last_trial = [4,4,4,4,4,4,4]"
   ]
  },
  {
   "cell_type": "code",
   "execution_count": 34,
   "metadata": {},
   "outputs": [],
   "source": [
    "# UX below corssover\n",
    "UXnorm = {}\n",
    "for p in range(participants_num): \n",
    "    UXnorm['subject'+str(p)] = {}\n",
    "    for c in range(num_cond): \n",
    "        UX_all = np.abs(np.asarray(DATA['FREQ']['subject'+str(p)]['condition'+str(c)]['U'][-last_trial[c]:])[:,all_nonstimulated_index]) #average UX of all trials \n",
    "        UXnorm['subject'+str(p)]['condition'+str(c)] = (LA.norm(UX_all,axis = 1))**2\n",
    "\n",
    "UXvalues = [] # 7 conditions x (15participants * i/2 trials)\n",
    "for c in range(num_cond):\n",
    "    values_ = []\n",
    "    for p in range(participants_num):\n",
    "        values_.append(np.mean(UXnorm['subject'+str(p)]['condition'+str(c)])) #average of all trials of a participant of a condition\n",
    "    UXvalues.append(values_) #each participant "
   ]
  },
  {
   "cell_type": "code",
   "execution_count": 40,
   "metadata": {},
   "outputs": [
    {
     "data": {
      "image/png": "[encoded data removed]",
      "text/plain": [
       "<Figure size 540x324 with 1 Axes>"
      ]
     },
     "metadata": {
      "needs_background": "light"
     },
     "output_type": "display_data"
    }
   ],
   "source": [
    "fig,axs = BOXPLOT(UXvalues,r'$||\\widehat{U}||^2_{non-stimulated}$',ylimit0=(0.,0.008))\n",
    "# fig.suptitle('non-stim UX below corssover')\n",
    "plt.axvspan(0.5,2.5, facecolor='grey', alpha=0.1)\n",
    "plt.axvspan(2.5,5.5, facecolor='green', alpha=0.2)\n",
    "plt.axvspan(5.5,7.5, facecolor='grey', alpha=0.1)\n",
    "plt.text(0.2,0.14, r'$1^{st}$ session', fontsize=12, transform=plt.gcf().transFigure,color = 'grey')\n",
    "plt.text(0.48,0.14, r'$2^{nd}$ session', fontsize=12, transform=plt.gcf().transFigure,color = 'green')\n",
    "plt.text(0.78,0.14, r'$3^{rd}$ session', fontsize=12, transform=plt.gcf().transFigure,color = 'grey')\n",
    "plt.tight_layout()\n",
    "plt.show()"
   ]
  },
  {
   "cell_type": "code",
   "execution_count": 41,
   "metadata": {},
   "outputs": [
    {
     "data": {
      "text/plain": [
       "['there is significant difference between condition 0 and condition 1, w = 1.0, pvalue = 0.0001220703125',\n",
       " 'there is significant difference between condition 0 and condition 6, w = 0.0, pvalue = 6.103515625e-05',\n",
       " 'there is significant difference between condition 1 and condition 2, w = 6.0, pvalue = 0.0008544921875',\n",
       " 'there is significant difference between condition 1 and condition 3, w = 3.0, pvalue = 0.00030517578125',\n",
       " 'there is significant difference between condition 2 and condition 3, w = 15.0, pvalue = 0.00836181640625',\n",
       " 'there is significant difference between condition 2 and condition 4, w = 25.0, pvalue = 0.04791259765625',\n",
       " 'there is significant difference between condition 2 and condition 6, w = 0.0, pvalue = 6.103515625e-05',\n",
       " 'there is significant difference between condition 3 and condition 4, w = 11.0, pvalue = 0.00335693359375',\n",
       " 'there is significant difference between condition 3 and condition 5, w = 25.0, pvalue = 0.04791259765625',\n",
       " 'there is significant difference between condition 3 and condition 6, w = 0.0, pvalue = 6.103515625e-05',\n",
       " 'there is significant difference between condition 4 and condition 6, w = 21.0, pvalue = 0.02557373046875',\n",
       " 'there is significant difference between condition 5 and condition 6, w = 10.0, pvalue = 0.00262451171875']"
      ]
     },
     "execution_count": 41,
     "metadata": {},
     "output_type": "execute_result"
    }
   ],
   "source": [
    "w,pv,sig,flag = WilcoxonTest(UXvalues)\n",
    "flag"
   ]
  },
  {
   "cell_type": "markdown",
   "metadata": {},
   "source": [
    "# UX below 1 Hz"
   ]
  },
  {
   "cell_type": "code",
   "execution_count": 91,
   "metadata": {},
   "outputs": [],
   "source": [
    "#mask for index of freq that are less than 1Hz\n",
    "def lessthanone(x): return x <= 1.0\n",
    "indexone = [idx for idx, element in enumerate(xf) if lessthanone(element)]\n",
    "unwanted_index = {4,  6, 10, 14, 22, 26, 34, 38}\n",
    "nonstimulated_index = [i for i in indexone if i not in unwanted_index]\n",
    "all_nonstimulated_index = [i for i in range(N//2) if i not in unwanted_index]\n",
    "last_trial = [4,4,4,4,4,4,4]"
   ]
  },
  {
   "cell_type": "code",
   "execution_count": 92,
   "metadata": {},
   "outputs": [],
   "source": [
    "UXvalues = [] # 7 conditions x (15participants * i/2 trials)\n",
    "for c in range(num_cond):\n",
    "    values_ = []\n",
    "    for p in range(participants_num):\n",
    "        U_less1 = np.abs(DATA['FREQ']['subject'+str(p)]['condition'+str(c)]['UX'][-last_trial[c]:])\n",
    "        values_.append( np.mean((LA.norm(U_less1,axis =1))**2) ) #norm of each trial, then take the average for all trials\n",
    "    UXvalues.append(values_)"
   ]
  },
  {
   "cell_type": "code",
   "execution_count": 93,
   "metadata": {},
   "outputs": [
    {
     "data": {
      "image/png": "[encoded data removed]",
      "text/plain": [
       "<Figure size 540x324 with 1 Axes>"
      ]
     },
     "metadata": {
      "needs_background": "light"
     },
     "output_type": "display_data"
    }
   ],
   "source": [
    "fig,axs = BOXPLOT(UXvalues,r'$||\\widehat{U}||^2$ below 1 Hz',ylimit0=(0.00,0.003))\n",
    "# fig.suptitle('non-stim UX below corssover')\n",
    "plt.axvspan(0.5,2.5, facecolor='grey', alpha=0.1)\n",
    "plt.axvspan(2.5,5.5, facecolor='green', alpha=0.2)\n",
    "plt.axvspan(5.5,7.5, facecolor='grey', alpha=0.1)\n",
    "plt.text(0.2,0.14, r'$1^{st}$ session', fontsize=12, transform=plt.gcf().transFigure,color = 'grey')\n",
    "plt.text(0.48,0.14, r'$2^{nd}$ session', fontsize=12, transform=plt.gcf().transFigure,color = 'green')\n",
    "plt.text(0.78,0.14, r'$3^{rd}$ session', fontsize=12, transform=plt.gcf().transFigure,color = 'grey')\n",
    "plt.tight_layout()\n",
    "plt.show()"
   ]
  },
  {
   "cell_type": "code",
   "execution_count": 94,
   "metadata": {},
   "outputs": [
    {
     "data": {
      "text/plain": [
       "['there is significant difference between condition 0 and condition 6, w = 5.0, pvalue = 0.0006103515625',\n",
       " 'there is significant difference between condition 1 and condition 2, w = 13.0, pvalue = 0.00537109375',\n",
       " 'there is significant difference between condition 1 and condition 3, w = 13.0, pvalue = 0.00537109375',\n",
       " 'there is significant difference between condition 2 and condition 5, w = 25.0, pvalue = 0.04791259765625',\n",
       " 'there is significant difference between condition 2 and condition 6, w = 3.0, pvalue = 0.00030517578125',\n",
       " 'there is significant difference between condition 3 and condition 4, w = 22.0, pvalue = 0.0301513671875',\n",
       " 'there is significant difference between condition 3 and condition 5, w = 17.0, pvalue = 0.012451171875',\n",
       " 'there is significant difference between condition 3 and condition 6, w = 0.0, pvalue = 6.103515625e-05',\n",
       " 'there is significant difference between condition 4 and condition 6, w = 19.0, pvalue = 0.01806640625']"
      ]
     },
     "execution_count": 94,
     "metadata": {},
     "output_type": "execute_result"
    }
   ],
   "source": [
    "w,pv,sig,flag = WilcoxonTest(UXvalues)\n",
    "flag"
   ]
  },
  {
   "cell_type": "markdown",
   "metadata": {},
   "source": [
    "# Delta"
   ]
  },
  {
   "cell_type": "code",
   "execution_count": 16,
   "metadata": {},
   "outputs": [],
   "source": [
    "delta_file = open(\"AvgDelta.pkl\", \"rb\") #remember to close afterwards\n",
    "avgdelta = pickle.load(delta_file)\n",
    "delta_file.close()"
   ]
  },
  {
   "cell_type": "code",
   "execution_count": 17,
   "metadata": {},
   "outputs": [],
   "source": [
    "# Delta = {}\n",
    "# for p in range(participants_num): \n",
    "#     Delta['subject'+str(p)] = {}\n",
    "#     for c in range(num_cond): \n",
    "#         UX_all = np.abs(np.asarray(avgdelta['avgdelta_mag']['subject'+str(p)]['condition'+str(c)])) #average UX of all trials \n",
    "#         Delta['subject'+str(p)]['condition'+str(c)] = LA.norm(UX_all,axis = 1)\n",
    "\n",
    "Deltavalues = [] # 7 conditions x (15participants * i/2 trials)\n",
    "for c in range(num_cond):\n",
    "    values_ = []\n",
    "    for p in range(participants_num):\n",
    "        delta = avgdelta['avgdelta_mag']['subject'+str(p)]['condition'+str(c)].copy()\n",
    "        delta[0] = 0\n",
    "        values_.append(LA.norm(delta)) #average of all trials of a participant of a condition\n",
    "    Deltavalues.append(values_) #each participant "
   ]
  },
  {
   "cell_type": "code",
   "execution_count": 18,
   "metadata": {},
   "outputs": [
    {
     "data": {
      "image/png": "[encoded data removed]",
      "text/plain": [
       "<Figure size 540x324 with 1 Axes>"
      ]
     },
     "metadata": {
      "needs_background": "light"
     },
     "output_type": "display_data"
    }
   ],
   "source": [
    "fig,axs = BOXPLOT(Deltavalues,r'$\\delta = (1+BM)u$',ylimit0 = (0,0.05))\n",
    "# fig.suptitle('non-stim UX below corssover')\n",
    "plt.axvspan(0.5,2.5, facecolor='grey', alpha=0.1)\n",
    "plt.axvspan(2.5,5.5, facecolor='green', alpha=0.2)\n",
    "plt.axvspan(5.5,7.5, facecolor='grey', alpha=0.1)\n",
    "plt.text(0.2,0.14, r'$1^{st}$ session', fontsize=12, transform=plt.gcf().transFigure,color = 'grey')\n",
    "plt.text(0.48,0.14, r'$2^{nd}$ session', fontsize=12, transform=plt.gcf().transFigure,color = 'green')\n",
    "plt.text(0.78,0.14, r'$3^{rd}$ session', fontsize=12, transform=plt.gcf().transFigure,color = 'grey')\n",
    "plt.tight_layout()\n",
    "plt.show()"
   ]
  },
  {
   "cell_type": "code",
   "execution_count": 19,
   "metadata": {},
   "outputs": [
    {
     "data": {
      "text/plain": [
       "['there is significant difference between condition 0 and condition 2, w = 6.0, pvalue = 0.0008544921875',\n",
       " 'there is significant difference between condition 0 and condition 3, w = 3.0, pvalue = 0.00030517578125',\n",
       " 'there is significant difference between condition 1 and condition 2, w = 7.0, pvalue = 0.00115966796875',\n",
       " 'there is significant difference between condition 1 and condition 3, w = 11.0, pvalue = 0.00335693359375',\n",
       " 'there is significant difference between condition 2 and condition 4, w = 13.0, pvalue = 0.00537109375',\n",
       " 'there is significant difference between condition 2 and condition 5, w = 16.0, pvalue = 0.01025390625',\n",
       " 'there is significant difference between condition 2 and condition 6, w = 7.0, pvalue = 0.00115966796875',\n",
       " 'there is significant difference between condition 3 and condition 4, w = 23.0, pvalue = 0.03533935546875',\n",
       " 'there is significant difference between condition 3 and condition 5, w = 13.0, pvalue = 0.00537109375',\n",
       " 'there is significant difference between condition 3 and condition 6, w = 7.0, pvalue = 0.00115966796875']"
      ]
     },
     "execution_count": 19,
     "metadata": {},
     "output_type": "execute_result"
    }
   ],
   "source": [
    "w,pv,sig,flag = WilcoxonTest(Deltavalues)\n",
    "flag"
   ]
  },
  {
   "cell_type": "markdown",
   "metadata": {},
   "source": [
    "# Delta below crossover"
   ]
  },
  {
   "cell_type": "code",
   "execution_count": 27,
   "metadata": {},
   "outputs": [],
   "source": [
    "Deltavalues_below = [] # 7 conditions x (15participants * i/2 trials)\n",
    "for c in range(num_cond):\n",
    "    values_ = []\n",
    "    for p in range(participants_num):\n",
    "        delta = avgdelta['avgdelta_mag']['subject'+str(p)]['condition'+str(c)][:10].copy()\n",
    "        delta[0] = 0\n",
    "        values_.append(LA.norm(delta)) #average of all trials of a participant of a condition\n",
    "    Deltavalues_below.append(values_) #each participant "
   ]
  },
  {
   "cell_type": "code",
   "execution_count": 28,
   "metadata": {},
   "outputs": [
    {
     "data": {
      "image/png": "[encoded data removed]",
      "text/plain": [
       "<Figure size 540x324 with 1 Axes>"
      ]
     },
     "metadata": {
      "needs_background": "light"
     },
     "output_type": "display_data"
    }
   ],
   "source": [
    "fig,axs = BOXPLOT(Deltavalues_below,r'$\\delta = (1+BM)u$',ylimit0 = (0,0.03))\n",
    "# fig.suptitle('non-stim UX below corssover')\n",
    "plt.axvspan(0.5,2.5, facecolor='grey', alpha=0.1)\n",
    "plt.axvspan(2.5,5.5, facecolor='green', alpha=0.2)\n",
    "plt.axvspan(5.5,7.5, facecolor='grey', alpha=0.1)\n",
    "plt.text(0.2,0.14, r'$1^{st}$ session', fontsize=12, transform=plt.gcf().transFigure,color = 'grey')\n",
    "plt.text(0.48,0.14, r'$2^{nd}$ session', fontsize=12, transform=plt.gcf().transFigure,color = 'green')\n",
    "plt.text(0.78,0.14, r'$3^{rd}$ session', fontsize=12, transform=plt.gcf().transFigure,color = 'grey')\n",
    "plt.tight_layout()\n",
    "plt.show()"
   ]
  },
  {
   "cell_type": "code",
   "execution_count": 29,
   "metadata": {},
   "outputs": [
    {
     "data": {
      "text/plain": [
       "['there is significant difference between condition 0 and condition 2, w = 10.0, pvalue = 0.00262451171875',\n",
       " 'there is significant difference between condition 0 and condition 3, w = 1.0, pvalue = 0.0001220703125',\n",
       " 'there is significant difference between condition 0 and condition 4, w = 24.0, pvalue = 0.041259765625',\n",
       " 'there is significant difference between condition 0 and condition 5, w = 21.0, pvalue = 0.02557373046875',\n",
       " 'there is significant difference between condition 1 and condition 2, w = 21.0, pvalue = 0.02557373046875',\n",
       " 'there is significant difference between condition 1 and condition 3, w = 23.0, pvalue = 0.03533935546875',\n",
       " 'there is significant difference between condition 3 and condition 5, w = 24.0, pvalue = 0.041259765625']"
      ]
     },
     "execution_count": 29,
     "metadata": {},
     "output_type": "execute_result"
    }
   ],
   "source": [
    "w,pv,sig,flag = WilcoxonTest(Deltavalues_below)\n",
    "flag"
   ]
  },
  {
   "cell_type": "markdown",
   "metadata": {},
   "source": [
    "## Delta above crossover"
   ]
  },
  {
   "cell_type": "code",
   "execution_count": 43,
   "metadata": {},
   "outputs": [],
   "source": [
    "Deltavalues_above = [] # 7 conditions x (15participants * i/2 trials)\n",
    "for c in range(num_cond):\n",
    "    values_ = []\n",
    "    for p in range(participants_num):\n",
    "        delta = avgdelta['avgdelta_mag']['subject'+str(p)]['condition'+str(c)][11:].copy()\n",
    "        delta[0] = 0\n",
    "        values_.append(LA.norm(delta)) #average of all trials of a participant of a condition\n",
    "    Deltavalues_above.append(values_) #each participant "
   ]
  },
  {
   "cell_type": "code",
   "execution_count": 44,
   "metadata": {},
   "outputs": [
    {
     "data": {
      "image/png": "[encoded data removed]",
      "text/plain": [
       "<Figure size 540x324 with 1 Axes>"
      ]
     },
     "metadata": {
      "needs_background": "light"
     },
     "output_type": "display_data"
    }
   ],
   "source": [
    "fig,axs = BOXPLOT(Deltavalues_above,r'$\\delta = (1+BM)u$',ylimit0 = (0,0.03))\n",
    "# fig.suptitle('non-stim UX below corssover')\n",
    "plt.axvspan(0.5,2.5, facecolor='grey', alpha=0.1)\n",
    "plt.axvspan(2.5,5.5, facecolor='green', alpha=0.2)\n",
    "plt.axvspan(5.5,7.5, facecolor='grey', alpha=0.1)\n",
    "plt.text(0.2,0.14, r'$1^{st}$ session', fontsize=12, transform=plt.gcf().transFigure,color = 'grey')\n",
    "plt.text(0.48,0.14, r'$2^{nd}$ session', fontsize=12, transform=plt.gcf().transFigure,color = 'green')\n",
    "plt.text(0.78,0.14, r'$3^{rd}$ session', fontsize=12, transform=plt.gcf().transFigure,color = 'grey')\n",
    "plt.tight_layout()\n",
    "plt.show()"
   ]
  },
  {
   "cell_type": "code",
   "execution_count": 45,
   "metadata": {},
   "outputs": [
    {
     "data": {
      "text/plain": [
       "['there is significant difference between condition 0 and condition 1, w = 2.0, pvalue = 0.00018310546875',\n",
       " 'there is significant difference between condition 0 and condition 4, w = 10.0, pvalue = 0.00262451171875',\n",
       " 'there is significant difference between condition 0 and condition 6, w = 0.0, pvalue = 6.103515625e-05',\n",
       " 'there is significant difference between condition 1 and condition 2, w = 2.0, pvalue = 0.00018310546875',\n",
       " 'there is significant difference between condition 1 and condition 3, w = 0.0, pvalue = 6.103515625e-05',\n",
       " 'there is significant difference between condition 1 and condition 5, w = 20.0, pvalue = 0.02154541015625',\n",
       " 'there is significant difference between condition 2 and condition 3, w = 11.0, pvalue = 0.00335693359375',\n",
       " 'there is significant difference between condition 2 and condition 4, w = 0.0, pvalue = 6.103515625e-05',\n",
       " 'there is significant difference between condition 2 and condition 6, w = 0.0, pvalue = 6.103515625e-05',\n",
       " 'there is significant difference between condition 3 and condition 4, w = 0.0, pvalue = 6.103515625e-05',\n",
       " 'there is significant difference between condition 3 and condition 5, w = 6.0, pvalue = 0.0008544921875',\n",
       " 'there is significant difference between condition 3 and condition 6, w = 0.0, pvalue = 6.103515625e-05',\n",
       " 'there is significant difference between condition 4 and condition 6, w = 25.0, pvalue = 0.04791259765625',\n",
       " 'there is significant difference between condition 5 and condition 6, w = 5.0, pvalue = 0.0006103515625']"
      ]
     },
     "execution_count": 45,
     "metadata": {},
     "output_type": "execute_result"
    }
   ],
   "source": [
    "w,pv,sig,flag = WilcoxonTest(Deltavalues_above)\n",
    "flag"
   ]
  },
  {
   "cell_type": "code",
   "execution_count": null,
   "metadata": {},
   "outputs": [],
   "source": []
  }
 ],
 "metadata": {
  "interpreter": {
   "hash": "85e4df485108ef361f8c9e43a60c35d9e0f8d6bcfba1857ec598100ff1a83b67"
  },
  "kernelspec": {
   "display_name": "Python 3.8.3 ('base')",
   "language": "python",
   "name": "python3"
  },
  "language_info": {
   "codemirror_mode": {
    "name": "ipython",
    "version": 3
   },
   "file_extension": ".py",
   "mimetype": "text/x-python",
   "name": "python",
   "nbconvert_exporter": "python",
   "pygments_lexer": "ipython3",
   "version": "3.8.3"
  },
  "orig_nbformat": 4
 },
 "nbformat": 4,
 "nbformat_minor": 2
}
