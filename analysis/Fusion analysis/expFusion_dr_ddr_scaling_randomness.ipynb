{
  "nbformat": 4,
  "nbformat_minor": 0,
  "metadata": {
    "colab": {
      "name": "expFusion_dr_ddr_scaling_randomness.ipynb",
      "provenance": [],
      "toc_visible": true
    },
    "kernelspec": {
      "name": "python3",
      "display_name": "Python 3"
    },
    "language_info": {
      "name": "python"
    }
  },
  "cells": [
    {
      "cell_type": "code",
      "metadata": {
        "id": "kUGIbuyr7IcO"
      },
      "source": [
        "import sys\n",
        "from copy import deepcopy\n",
        "import numpy as np\n",
        "import matplotlib.pyplot as plt\n",
        "from matplotlib import rc\n",
        "from scipy import signal, fft"
      ],
      "execution_count": null,
      "outputs": []
    },
    {
      "cell_type": "code",
      "metadata": {
        "id": "S2N3yhuY7Tv3"
      },
      "source": [
        "def sos(t, trial, x=None, \n",
        "                      frequencies=None, amplitudes=None, phase_shifts=None, derivative = None):\n",
        "\n",
        "  t = np.asarray(t).copy(); t.shape = (t.size,1)\n",
        "\n",
        "  r = trial['ramp']\n",
        "\n",
        "  _ = sum_of_sines(t, trial, x, frequencies, amplitudes, phase_shifts, derivative)\n",
        "\n",
        "  if r > 0:\n",
        "    _ *= ((t*(t <= r)/r + (t > r)).flatten())**2\n",
        "\n",
        "  return _\n",
        "\n",
        "def sum_of_sines(t, trial, x=None,\n",
        "                 frequencies=None, amplitudes=None, phase_shifts=None, derivative = None):\n",
        "\n",
        "  t = np.asarray(t).copy(); t.shape = (t.size,1)\n",
        "\n",
        "  if frequencies is None:\n",
        "    f = np.asarray(trial['frequencies'])\n",
        "  else:\n",
        "    f = frequencies\n",
        "  f = f.copy(); f.shape = (1,f.size)\n",
        "\n",
        "  if amplitudes is None:\n",
        "    a = np.asarray(trial['amplitudes'])\n",
        "  else:\n",
        "    a = amplitudes\n",
        "  a = a.copy(); a.shape = (1,a.size)\n",
        "\n",
        "  if phase_shifts is None:\n",
        "    p = np.asarray(trial['phase_shifts'])\n",
        "  else:\n",
        "    p = phase_shifts\n",
        "  p = p.copy(); p.shape = (1,p.size)\n",
        "\n",
        "  assert f.shape == a.shape == p.shape,\"Shape of frequencies, amplitudes, and phase shifts must match\"\n",
        "\n",
        "  o = np.ones(t.shape)\n",
        "\n",
        "  if derivative == None:\n",
        "    _ = np.sum(np.dot(o,a) * np.sin(2*np.pi*(np.dot(t,f) + np.dot(o,p))),axis=1)\n",
        "  elif derivative == 1:\n",
        "    _ = np.sum(np.dot(o,a) * 2*np.pi*np.dot(o,f) * np.cos(2*np.pi*(np.dot(t,f) + np.dot(o,p))),axis=1)\n",
        "  else:\n",
        "    _ = np.sum(-np.dot(o,a) * 4*(np.pi*np.pi)*np.dot(o,f*f) * np.sin(2*np.pi*(np.dot(t,f) + np.dot(o,p))),axis=1)\n",
        "\n",
        "  return _\n",
        "  \n",
        "def zero(t, trial, x=None, *args, **kwargs):\n",
        "  return 0.*np.asarray(t)"
      ],
      "execution_count": null,
      "outputs": []
    },
    {
      "cell_type": "code",
      "metadata": {
        "id": "40e-8cwkatLV"
      },
      "source": [
        "# global constants\n",
        "FPS_ = 30\n",
        "FPS = FPS_\n",
        "\n",
        "SLIDER_MIN = 0.\n",
        "SLIDER_MAX = 4096.\n",
        "SLIDER_SPT = 2 # number of slider samples per pygame tick\n",
        "SLIDER_SCALE = 5.\n",
        "\n",
        "MSE_SCALE = 1.\n",
        "\n",
        "CONGRATULATIONS_TIME = 3.\n",
        "\n",
        "REACT_TIME = 10.\n",
        "REACT_THRESH = 0 # change this to 5 \n",
        "\n",
        "\n",
        "STEP = 1./(FPS*SLIDER_SPT)"
      ],
      "execution_count": null,
      "outputs": []
    },
    {
      "cell_type": "markdown",
      "metadata": {
        "id": "hoAEJdJkaeM9"
      },
      "source": [
        "# Restart random generator"
      ]
    },
    {
      "cell_type": "code",
      "metadata": {
        "id": "XP5TNcmfPASQ"
      },
      "source": [
        "seed = 49\n",
        "np.random.seed(seed)"
      ],
      "execution_count": null,
      "outputs": []
    },
    {
      "cell_type": "code",
      "metadata": {
        "id": "OxrPqsSn7Khu"
      },
      "source": [
        "refs = dict(sos=sos,zer=zero)\n",
        "\n",
        "# vector fields\n",
        "#vfs = ['so']\n",
        "vfs = ['so']\n",
        "#vfs = ['fo','so','fo','so']\n",
        "#\n",
        "states = dict(fo=[0.],so=[0.,0.])\n",
        "# time to complete task\n",
        "dt = 1.\n",
        "\n",
        "#\n",
        "# \n",
        "# scale = 1\n",
        "# scale = 0.03749273907804124 #input scale for 33%input slider\n",
        "# scale = 0.20301573146852334 #output scale for 33%output screen (-0.5~+0.5)\n",
        "# scale = 0.30759959313412627 #output scale for 50%output screen\n",
        "# scale = 0.40603146293704667 #output scale for -0.33~+0.33 output screen (-1~+1)\n",
        "scale = 0.8120629258740933 #output scale for -0.66~+0.66 output screen (-2~+2)\n",
        "\n",
        "#\n",
        "period = 20 # sec\n",
        "f_base = 1./period # Hz\n",
        "# TODO go up to 3--5Hz -- check that Sam can track, and check when becomes sub-pixel\n",
        "primes = np.asarray([2, 3, 5, 7, 11, 13, 17, 19, 23, 29, 31, 37, 41, 43, 47, 53, 59, 61, 67, 71, 73, 79, 83, 89, 97, 101, 103, 107, 109, 113, 127, 131, 137, 139, 149, 151, 157, 163, 167, 173, 179, 181, 191, 193, 197, 199])\n",
        "f_max = dict(fo=2,so=1)\n",
        "p_max = dict([(vf,np.nonzero(primes*f_base <= f_max[vf])[0][-1]+1) for vf in vfs])\n",
        "f_primes = dict([(vf,np.asarray(primes[:p_max[vf]])) for vf in vfs])\n",
        "#\n",
        "frequencies = dict([(vf,f_primes[vf]*f_base) for vf in vfs])\n",
        "frequencies_r = frequencies.copy()\n",
        "frequencies_d = frequencies.copy()\n",
        "\n",
        "amplitudes = dict([(vf,scale*(1./f_primes[vf])) for vf in vfs])\n",
        "# amplitudes = dict([(vf,(1./f_primes[vf])*(0.5/f_primes[vf]).sum()) for vf in vfs])\n",
        "amplitudes_r = amplitudes.copy()\n",
        "# amplitudes_d = amplitudes.copy()\n",
        "#\n",
        "\n"
      ],
      "execution_count": null,
      "outputs": []
    },
    {
      "cell_type": "code",
      "metadata": {
        "id": "fU3ZvV7PlDPX"
      },
      "source": [
        "M = lambda s : 1/(s**2 + s)\n",
        "M_h = M(1.j*2*np.pi*frequencies_r['so'])\n",
        "\n",
        "#d = Md/M\n",
        "d = amplitudes_r['so'] / abs(M_h)\n",
        "amplitudes_d = amplitudes.copy()\n",
        "amplitudes_d['so'] = d"
      ],
      "execution_count": null,
      "outputs": []
    },
    {
      "cell_type": "code",
      "metadata": {
        "colab": {
          "base_uri": "https://localhost:8080/"
        },
        "id": "zwEL9TTNbpzZ",
        "outputId": "767c501e-c76d-4a97-ff3b-5888cd89a589"
      },
      "source": [
        "amplitudes_r"
      ],
      "execution_count": null,
      "outputs": [
        {
          "output_type": "execute_result",
          "data": {
            "text/plain": [
              "{'so': array([0.40603146, 0.27068764, 0.16241259, 0.11600899, 0.0738239 ,\n",
              "        0.06246638, 0.04776841, 0.04274015])}"
            ]
          },
          "metadata": {},
          "execution_count": 7
        }
      ]
    },
    {
      "cell_type": "code",
      "metadata": {
        "colab": {
          "base_uri": "https://localhost:8080/"
        },
        "id": "Mm9Kq9VybrOY",
        "outputId": "1819834c-a135-40db-fa4d-db3dbe9aa98e"
      },
      "source": [
        "amplitudes_d"
      ],
      "execution_count": null,
      "outputs": [
        {
          "output_type": "execute_result",
          "data": {
            "text/plain": [
              "{'so': array([0.30129579, 0.35056694, 0.47505249, 0.61631274, 0.91779137,\n",
              "        1.07269476, 1.38618423, 1.54402276])}"
            ]
          },
          "metadata": {},
          "execution_count": 8
        }
      ]
    },
    {
      "cell_type": "code",
      "metadata": {
        "colab": {
          "base_uri": "https://localhost:8080/",
          "height": 267
        },
        "id": "gtm8acS6kC2f",
        "outputId": "4eb39989-0429-4fb3-9f0c-c8050e46bba6"
      },
      "source": [
        "plt.plot(frequencies_r['so'],amplitudes_r['so'],'o')\n",
        "plt.plot(frequencies_r['so'],abs(M_h),'*--')\n",
        "plt.plot(frequencies_r['so'],amplitudes_d['so'],'o')\n",
        "\n",
        "base_freq = 0.05\n",
        "prime = np.asarray([2, 3, 5, 7, \n",
        "                    11, 13, 17, 19])\n",
        "for ii in prime:\n",
        "  plt.axvline(x = ii*base_freq,linewidth=1, color='0.8') "
      ],
      "execution_count": null,
      "outputs": [
        {
          "output_type": "display_data",
          "data": {
            "image/png": "[encoded data removed]",
            "text/plain": [
              "<Figure size 432x288 with 1 Axes>"
            ]
          },
          "metadata": {
            "needs_background": "light"
          }
        }
      ]
    },
    {
      "cell_type": "code",
      "metadata": {
        "id": "2fTT-tvqisPG"
      },
      "source": [
        "num_refs = 15 # will generate double the number of refs\n",
        "phase_shifts_r  = dict([(vf,np.random.sample((num_refs,p_max[vf]))) for vf in vfs]) \n",
        "\n",
        "# only first disturbance signal differs from reference signals\n",
        "#print phase_shifts_r\n",
        "phase_shifts_d = deepcopy(phase_shifts_r)\n",
        "shiftedPhase = {}\n",
        "for vf in vfs:\n",
        "    phase_shifts_d[vf][:] = phase_shifts_d[vf][:]*.8\n",
        "#phase_shifts_d = dict([(vf,shiftedPhase[vf]) for vf in vfs])\n",
        "# for vf in vfs:\n",
        "#   phase_shifts_d[vf][0] = np.random.rand(p_max[vf])\n",
        "#\n",
        "ramp = 0.25*period\n",
        "duration = 2*period + ramp\n",
        "#\n",
        "trial = dict(ramp=ramp,duration=duration)\n",
        "# DEBUG"
      ],
      "execution_count": null,
      "outputs": []
    },
    {
      "cell_type": "code",
      "metadata": {
        "id": "6L65SuMu7jnn"
      },
      "source": [
        "scale = dict(fo=0.,so=0.)\n",
        "for vf in vfs:\n",
        "  for _,phase_shift in enumerate(phase_shifts_r[vf]):\n",
        "    t = np.arange(ramp,ramp+period,STEP)\n",
        "    dt = np.diff(t)\n",
        "    r = sos(t,trial,None,frequencies_r[vf],amplitudes_r[vf],phase_shift,None) #derivative = None\n",
        "    dr = sos(t,trial,None,frequencies_r[vf],amplitudes_r[vf],phase_shift,1) #derivative = 1\n",
        "    ddr = sos(t,trial,None,frequencies_r[vf],amplitudes_r[vf],phase_shift,2) #derivative = 2\n",
        "    #\n",
        "    if vf == 'fo':\n",
        "      scale['fo'] = max(scale['fo'],np.abs(dr).max())\n",
        "    elif vf == 'so':\n",
        "      scale['so'] = max(scale['so'],np.abs(ddr).max())"
      ],
      "execution_count": null,
      "outputs": []
    },
    {
      "cell_type": "code",
      "metadata": {
        "id": "9L8TaTD5PWXN"
      },
      "source": [
        "# # randomize to provide random starting point\n",
        "# order = np.random.choice([0,1])\n",
        "# if order == 0:\n",
        "#     trialEO = [(1,'sos-E','sos+O'),(1,'sos-O','sos+E')]\n",
        "# elif order == 1:\n",
        "#     trialEO = [(1,'sos-O','sos+E'),(1,'sos-E','sos+O')]\n",
        "# order"
      ],
      "execution_count": null,
      "outputs": []
    },
    {
      "cell_type": "code",
      "metadata": {
        "colab": {
          "base_uri": "https://localhost:8080/"
        },
        "id": "fEbMN-7id8Tn",
        "outputId": "05e2cfdf-45a2-414f-dcf6-aa35ed71b8de"
      },
      "source": [
        "ORDER = []\n",
        "for i in range(15):\n",
        "  ORDER.append((i,'sos-O', 'sos+E'))\n",
        "  ORDER.append((i,'sos-E', 'sos+O'))\n",
        "ORDER"
      ],
      "execution_count": null,
      "outputs": [
        {
          "output_type": "execute_result",
          "data": {
            "text/plain": [
              "[(0, 'sos-O', 'sos+E'),\n",
              " (0, 'sos-E', 'sos+O'),\n",
              " (1, 'sos-O', 'sos+E'),\n",
              " (1, 'sos-E', 'sos+O'),\n",
              " (2, 'sos-O', 'sos+E'),\n",
              " (2, 'sos-E', 'sos+O'),\n",
              " (3, 'sos-O', 'sos+E'),\n",
              " (3, 'sos-E', 'sos+O'),\n",
              " (4, 'sos-O', 'sos+E'),\n",
              " (4, 'sos-E', 'sos+O'),\n",
              " (5, 'sos-O', 'sos+E'),\n",
              " (5, 'sos-E', 'sos+O'),\n",
              " (6, 'sos-O', 'sos+E'),\n",
              " (6, 'sos-E', 'sos+O'),\n",
              " (7, 'sos-O', 'sos+E'),\n",
              " (7, 'sos-E', 'sos+O'),\n",
              " (8, 'sos-O', 'sos+E'),\n",
              " (8, 'sos-E', 'sos+O'),\n",
              " (9, 'sos-O', 'sos+E'),\n",
              " (9, 'sos-E', 'sos+O'),\n",
              " (10, 'sos-O', 'sos+E'),\n",
              " (10, 'sos-E', 'sos+O'),\n",
              " (11, 'sos-O', 'sos+E'),\n",
              " (11, 'sos-E', 'sos+O'),\n",
              " (12, 'sos-O', 'sos+E'),\n",
              " (12, 'sos-E', 'sos+O'),\n",
              " (13, 'sos-O', 'sos+E'),\n",
              " (13, 'sos-E', 'sos+O'),\n",
              " (14, 'sos-O', 'sos+E'),\n",
              " (14, 'sos-E', 'sos+O')]"
            ]
          },
          "metadata": {},
          "execution_count": 13
        }
      ]
    },
    {
      "cell_type": "code",
      "metadata": {
        "id": "2J_UowrhPUhF"
      },
      "source": [
        "def trial_gen(subject,protofile):\n",
        "  for vf in vfs:\n",
        "    for assay,(num_reps,ref_,dis_) in enumerate(ORDER):\n",
        "        shift_id  = num_reps\n",
        "        \n",
        "        if ref_[-1] == 'E':\n",
        "          sines_r = np.arange(p_max[vf])[0::2]\n",
        "        elif ref_[-1] == 'O':\n",
        "          sines_r = np.arange(p_max[vf])[1::2]\n",
        "        else:\n",
        "          sines_r = np.arange(p_max[vf])\n",
        "        if dis_[-1] == 'E':\n",
        "          sines_d = np.arange(p_max[vf])[0::2]\n",
        "        elif dis_[-1] == 'O':\n",
        "          sines_d = np.arange(p_max[vf])[1::2]\n",
        "        else:\n",
        "          sines_d = np.arange(p_max[vf])\n",
        "\n",
        "        # print(shift_id)\n",
        "        # print(sines_r)\n",
        "        # print(sines_d)\n",
        "        # print(phase_shifts_r[vf][shift_id][sines_r])\n",
        "        out = lambda x : x[0]\n",
        "\n",
        "        ref = lambda t,trial,x=None : refs[ref_[:3]](t,trial,x,\n",
        "                                                    frequencies_r[vf][sines_r],\n",
        "                                                    amplitudes_r[vf][sines_r],\n",
        "                                                    phase_shifts_r[vf][shift_id][sines_r])\n",
        "        dis = lambda t,trial,x=None : refs[dis_[:3]](t,trial,x,\n",
        "                                                    frequencies_d[vf][sines_d],\n",
        "                                                    amplitudes_d[vf][sines_d],\n",
        "                                                    phase_shifts_d[vf][shift_id][sines_d])\n",
        "          #\n",
        "        id = '%s_%s_r-%s_d-%s_s%d_p%da%d' % (subject,vf,ref_,dis_,seed,shift_id,assay)\n",
        "        state = states[vf]\n",
        "              #\n",
        "        trial.update(dict(id=id,init=state,vf=vf,ref=ref,dis=dis,out=out,scale=scale[vf],\n",
        "                                r=phase_shifts_r[vf][shift_id][sines_r][0],d=phase_shifts_d[vf][shift_id][sines_d][0]))\n",
        "        yield trial"
      ],
      "execution_count": null,
      "outputs": []
    },
    {
      "cell_type": "code",
      "metadata": {
        "id": "ee-C8T1tQMPr"
      },
      "source": [
        "gen = trial_gen('subject','protocol')"
      ],
      "execution_count": null,
      "outputs": []
    },
    {
      "cell_type": "code",
      "metadata": {
        "id": "ON_qAoJWQS0w"
      },
      "source": [
        "TRIAL = {}\n",
        "REF = {}\n",
        "DIS = {}\n",
        "for i in range(30):\n",
        "  TRIAL['trial'+str(i)] = {}\n",
        "for i in range(30):\n",
        "  TRIAL['trial'+str(i)] = deepcopy(gen.__next__())\n",
        "  REFfunc = deepcopy(TRIAL['trial'+str(i)]['ref'])\n",
        "  DISfunc = deepcopy(TRIAL['trial'+str(i)]['dis'])\n",
        "  REF['trial'+str(i)] = REFfunc(np.asarray(t),TRIAL['trial'+str(i)])\n",
        "  DIS['trial'+str(i)] = DISfunc(np.asarray(t),TRIAL['trial'+str(i)])"
      ],
      "execution_count": null,
      "outputs": []
    },
    {
      "cell_type": "code",
      "metadata": {
        "colab": {
          "base_uri": "https://localhost:8080/"
        },
        "id": "rT3Mj55cuPn3",
        "outputId": "15792172-d7f6-489f-bd76-eab7c5d84448"
      },
      "source": [
        "def FFT(data,N):\n",
        "  return fft.fft(data)/N\n",
        "def IFFT(data,N):\n",
        "  return (fft.ifft(data)*N).real\n",
        "\n",
        "N = len(t)                            # length of time\n",
        "fs = 60                               #pygame update rate 60 Hz\n",
        "xf_all = fft.fftfreq(N, 1./ fs)       #freq (x-axis) both + and - terms\n",
        "xf = fft.fftfreq(N, 1./ fs)[:N//2]    #freq (x-axis) positive-frequency terms\n",
        "M_h = M(1.j*2*np.pi*xf_all)           #M_hat = 1/ ((jw)^2 + (jw))\n",
        "\n",
        "r = {}; d = {}; \n",
        "R = {}; D = {};\n",
        "MD = {}; md = {};\n",
        "WR = {}; wr = {};\n",
        "\n",
        "for i in range(30):\n",
        "  r['trial'+str(i)] = REF['trial'+str(i)]\n",
        "  d['trial'+str(i)] = DIS['trial'+str(i)]\n",
        "  R['trial'+str(i)] = FFT(r['trial'+str(i)],N)\n",
        "  D['trial'+str(i)] = FFT(d['trial'+str(i)],N)      # d_h in freq domain\n",
        "  MD['trial'+str(i)] = M_h * D['trial'+str(i)]      # Md_h in freq domain\n",
        "  MD['trial'+str(i)][0] = 0                         #nan\n",
        "  md['trial'+str(i)] = IFFT(MD['trial'+str(i)],N)   # Md in time domain\n",
        "\n",
        "  WR['trial'+str(i)] = R['trial'+str(i)] / M_h\n",
        "  WR['trial'+str(i)][0] = 0 #nan\n",
        "  wr['trial'+str(i)] = IFFT(WR['trial'+str(i)],N) "
      ],
      "execution_count": null,
      "outputs": [
        {
          "output_type": "stream",
          "name": "stderr",
          "text": [
            "/usr/local/lib/python3.7/dist-packages/ipykernel_launcher.py:1: RuntimeWarning: divide by zero encountered in true_divide\n",
            "  \"\"\"Entry point for launching an IPython kernel.\n",
            "/usr/local/lib/python3.7/dist-packages/ipykernel_launcher.py:1: RuntimeWarning: invalid value encountered in true_divide\n",
            "  \"\"\"Entry point for launching an IPython kernel.\n",
            "/usr/local/lib/python3.7/dist-packages/ipykernel_launcher.py:22: RuntimeWarning: invalid value encountered in multiply\n",
            "/usr/local/lib/python3.7/dist-packages/ipykernel_launcher.py:26: RuntimeWarning: invalid value encountered in true_divide\n"
          ]
        }
      ]
    },
    {
      "cell_type": "code",
      "metadata": {
        "id": "rdKn_3KGWzfV",
        "colab": {
          "base_uri": "https://localhost:8080/"
        },
        "outputId": "8446641a-43a4-42a5-b28d-b8a13229d150"
      },
      "source": [
        "#scaling factors OUTPUT\n",
        "MAXr = max( [max(r['trial'+str(i)]) for i in range(30)])\n",
        "MINr = min( [min(r['trial'+str(i)]) for i in range(30)])\n",
        "\n",
        "scaleOutput = 2*0.66/(MAXr-MINr) #in output time domain\n",
        "scaleOutput"
      ],
      "execution_count": null,
      "outputs": [
        {
          "output_type": "execute_result",
          "data": {
            "text/plain": [
              "1.0000000000000002"
            ]
          },
          "metadata": {},
          "execution_count": 18
        }
      ]
    },
    {
      "cell_type": "code",
      "metadata": {
        "colab": {
          "base_uri": "https://localhost:8080/"
        },
        "id": "w0JYWigqjUTQ",
        "outputId": "d2c2eb94-581b-4fed-99ad-7fc057a94227"
      },
      "source": [
        "#check scaling factors OUTPUT of md in time domain\n",
        "MAXmd = max( [max(md['trial'+str(i)]) for i in range(30)])\n",
        "MINmd = min( [min(md['trial'+str(i)]) for i in range(30)])\n",
        "scaleOutput_md = 2*0.66/(MAXmd-MINmd) #in output time domain\n",
        "scaleOutput_md"
      ],
      "execution_count": null,
      "outputs": [
        {
          "output_type": "execute_result",
          "data": {
            "text/plain": [
              "0.9901503960265478"
            ]
          },
          "metadata": {},
          "execution_count": 19
        }
      ]
    },
    {
      "cell_type": "code",
      "metadata": {
        "colab": {
          "base_uri": "https://localhost:8080/"
        },
        "id": "ROUVBsfYZT71",
        "outputId": "0a070a12-fc4e-4895-b2b8-fe46e98f00fe"
      },
      "source": [
        "#scaling factors INPUT\n",
        "MAXwr = max( [max(wr['trial'+str(i)]) for i in range(30)])\n",
        "MINwr = min( [min(wr['trial'+str(i)]) for i in range(30)])\n",
        "\n",
        "scaleInput = 0.33/(MAXwr-MINwr) #in input time domain out of -0.5~+0.5\n",
        "scaleInput"
      ],
      "execution_count": null,
      "outputs": [
        {
          "output_type": "execute_result",
          "data": {
            "text/plain": [
              "0.04616974606700115"
            ]
          },
          "metadata": {},
          "execution_count": 20
        }
      ]
    },
    {
      "cell_type": "code",
      "metadata": {
        "colab": {
          "base_uri": "https://localhost:8080/",
          "height": 545
        },
        "id": "EYKgilAQRe4P",
        "outputId": "2698b5bd-a734-44df-e5cf-0716fe4e49d8"
      },
      "source": [
        "#output space\n",
        "scaleOutputScreen = 1/4\n",
        "#plot ref and Mdis in time domain\n",
        "plt.plot(t,r['trial0']*scaleOutputScreen*100,label = 'r')\n",
        "plt.plot(t,md['trial0']*scaleOutputScreen*100,label = 'Md')\n",
        "# plt.plot(t,d['trial0'],label = 'Md')\n",
        "\n",
        "plt.legend()\n",
        "plt.title('output time domain(%)')\n",
        "plt.show()\n",
        "\n",
        "plt.plot(xf,abs(R['trial0'][:N//2])*scaleOutputScreen*100,label = 'r_h')\n",
        "plt.plot(xf,abs(MD['trial0'][:N//2])*scaleOutputScreen*100,label = 'Md_h')\n",
        "plt.legend()\n",
        "plt.title('output freq domain(%)')\n",
        "plt.xlim((0,21*base_freq))\n",
        "plt.show()"
      ],
      "execution_count": null,
      "outputs": [
        {
          "output_type": "display_data",
          "data": {
            "image/png": "[encoded data removed]",
            "text/plain": [
              "<Figure size 432x288 with 1 Axes>"
            ]
          },
          "metadata": {
            "needs_background": "light"
          }
        },
        {
          "output_type": "display_data",
          "data": {
            "image/png": "[encoded data removed]",
            "text/plain": [
              "<Figure size 432x288 with 1 Axes>"
            ]
          },
          "metadata": {
            "needs_background": "light"
          }
        }
      ]
    },
    {
      "cell_type": "code",
      "metadata": {
        "colab": {
          "base_uri": "https://localhost:8080/"
        },
        "id": "5Pi4NfoPp7Bv",
        "outputId": "30c67f81-4d91-438f-bec3-c4e49e368531"
      },
      "source": [
        "np.sum(abs(MD['trial0'][:N//2])*scaleOutputScreen*100)"
      ],
      "execution_count": null,
      "outputs": [
        {
          "output_type": "execute_result",
          "data": {
            "text/plain": [
              "8.625454473355786"
            ]
          },
          "metadata": {},
          "execution_count": 22
        }
      ]
    },
    {
      "cell_type": "code",
      "metadata": {
        "colab": {
          "base_uri": "https://localhost:8080/",
          "height": 545
        },
        "id": "Bi189B4_H72x",
        "outputId": "ec4a88a2-0ee9-46c1-9fc4-212ad9700af9"
      },
      "source": [
        "#input space\n",
        "#plot Wr and d in time domain\n",
        "plt.plot(t,wr['trial0']*scaleInput*100,label = 'M^-1r')\n",
        "plt.plot(t,d['trial0']*scaleInput*100,label = 'd')\n",
        "plt.legend()\n",
        "plt.title('input time domain (%)')\n",
        "plt.show()\n",
        "\n",
        "plt.plot(xf,abs(WR['trial0'][:N//2])*scaleInput*100,label = 'M^-1r')\n",
        "plt.plot(xf,abs(D['trial0'][:N//2])*scaleInput*100,label = 'd')\n",
        "plt.legend()\n",
        "plt.title('input freq domain (%)')\n",
        "plt.xlim((0,21*base_freq))\n",
        "plt.show()"
      ],
      "execution_count": null,
      "outputs": [
        {
          "output_type": "display_data",
          "data": {
            "image/png": "[encoded data removed]",
            "text/plain": [
              "<Figure size 432x288 with 1 Axes>"
            ]
          },
          "metadata": {
            "needs_background": "light"
          }
        },
        {
          "output_type": "display_data",
          "data": {
            "image/png": "[encoded data removed]",
            "text/plain": [
              "<Figure size 432x288 with 1 Axes>"
            ]
          },
          "metadata": {
            "needs_background": "light"
          }
        }
      ]
    },
    {
      "cell_type": "code",
      "metadata": {
        "colab": {
          "base_uri": "https://localhost:8080/"
        },
        "id": "q-Rlut-MtJRW",
        "outputId": "c5d5df06-e9d0-4e9b-d686-0bf853e80b01"
      },
      "source": [
        "max(abs(WR['trial0'][:N//2])*scaleInput*100)"
      ],
      "execution_count": null,
      "outputs": [
        {
          "output_type": "execute_result",
          "data": {
            "text/plain": [
              "3.5643569485271023"
            ]
          },
          "metadata": {},
          "execution_count": 24
        }
      ]
    },
    {
      "cell_type": "markdown",
      "metadata": {
        "id": "7EXpkZKYpVSq"
      },
      "source": [
        "**TODO**\n",
        "\n",
        "1. print r and Md and y (including Md & Mu) on screen *scaleOutput\n",
        "2. remove trial['scale'] from input\n"
      ]
    },
    {
      "cell_type": "code",
      "metadata": {
        "id": "4NSiMcZB4tmx"
      },
      "source": [
        "# transform from absolute pixel (col,row) to frame-relative (x,y)\n",
        "def px2xy(px,size,SC):\n",
        "  return [[(_[0]-size[0]/2.)/SC,(_[1]-size[1]/2.)/SC] for _ in px]\n",
        "  #if ORIENTATION == 'portrait':\n",
        "  #  return [[(_[0]-size[0]/2.)/SC,(_[1]-size[1]/2.)/SC] for _ in px]\n",
        "  #else:\n",
        "  #  return [[(_[1]-size[0]/2.)/SC,(_[0]-size[1]/2.)/SC] for _ in px]\n",
        "\n",
        "# transform from frame-relative (x,y) to absolute pixel (col,row)\n",
        "def xy2px(xy,size,SC):\n",
        "  return [[int(SC*_[1]+size[0]/2.),int(size[1]/2.-SC*_[0])] for _ in xy]\n",
        "\n",
        "size = (1000,250)\n",
        "RATIO = 4\n",
        "WIDTH = 200\n",
        "size = (WIDTH,RATIO*WIDTH)\n",
        "SC = float(WIDTH) # modify SC to change lookahead\n",
        "SCi= WIDTH"
      ],
      "execution_count": null,
      "outputs": []
    },
    {
      "cell_type": "code",
      "metadata": {
        "colab": {
          "base_uri": "https://localhost:8080/"
        },
        "id": "wxj40g8K7cnD",
        "outputId": "6a422c13-af52-4784-9fd1-c680b0efcdf1"
      },
      "source": [
        "1/0.1846789842680046"
      ],
      "execution_count": null,
      "outputs": [
        {
          "output_type": "execute_result",
          "data": {
            "text/plain": [
              "5.414801277815175"
            ]
          },
          "metadata": {},
          "execution_count": 26
        }
      ]
    },
    {
      "cell_type": "code",
      "source": [
        "trial['scale']"
      ],
      "metadata": {
        "colab": {
          "base_uri": "https://localhost:8080/"
        },
        "id": "f-CflV1OdfrP",
        "outputId": "79c51306-789e-4ad1-e1d2-c4e99635fe2b"
      },
      "execution_count": null,
      "outputs": [
        {
          "output_type": "execute_result",
          "data": {
            "text/plain": [
              "5.162992526700608"
            ]
          },
          "metadata": {},
          "execution_count": 27
        }
      ]
    },
    {
      "cell_type": "code",
      "source": [
        ""
      ],
      "metadata": {
        "id": "VCTiedAOdjWl"
      },
      "execution_count": null,
      "outputs": []
    }
  ]
}