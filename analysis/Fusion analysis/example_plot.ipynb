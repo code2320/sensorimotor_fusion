{
 "cells": [
  {
   "cell_type": "markdown",
   "metadata": {},
   "source": [
    "# Setup"
   ]
  },
  {
   "cell_type": "markdown",
   "metadata": {},
   "source": [
    "Move this file to the same folder as other .pkl files first."
   ]
  },
  {
   "cell_type": "code",
   "execution_count": 4,
   "metadata": {},
   "outputs": [],
   "source": [
    "import numpy as np\n",
    "from numpy import linalg as LA\n",
    "import matplotlib\n",
    "import matplotlib.pyplot as plt\n",
    "import pandas as pd\n",
    "from scipy import signal, fft\n",
    "import math as math\n",
    "import os\n",
    "from matplotlib.patches import Polygon\n",
    "import copy\n",
    "import pickle\n",
    "from scipy.stats import norm,wilcoxon,shapiro,ttest_rel\n",
    "import statistics\n"
   ]
  },
  {
   "cell_type": "code",
   "execution_count": 5,
   "metadata": {},
   "outputs": [],
   "source": [
    "# plotting parameters\n",
    "#determine colors and font size|\n",
    "colors = dict(M='#6600CC',\n",
    "              F='#000000',\n",
    "              B='#FFFFFF',\n",
    "              H='#009900',\n",
    "              r='#FDB119',\n",
    "              u='#009900',\n",
    "              u25='#BBF90F',\n",
    "              u75='#006400',\n",
    "              d='#FD6E19',\n",
    "              #y='#0033FF',  #or 6600CC which is darker and I prefer \n",
    "              y='#6600CC',  #or 6600CC which is darker and I prefer \n",
    "              N='#0000CC',\n",
    "              D='#CC0000',\n",
    "              g='#B1B1B1', #grey\n",
    "              first5='#B1B1B1',\n",
    "              last5='#999999',\n",
    "              BLUE = '#1f77b4',\n",
    "              ORANGE = '#ff7f0e',\n",
    "              GREEN = '#2ca02c',\n",
    "              RED = '#d62728',\n",
    "              PURPLE = '#9467bd',\n",
    "              GOLD = '#FDB119') #default colors\n",
    "              # D = dominant = right; N = nondominant = left\n",
    "\n",
    "yfill = list(matplotlib.colors.to_rgba(colors['y']))\n",
    "yfill[-1] = 0.3\n",
    "\n",
    "ufill = list(matplotlib.colors.to_rgba(colors['u']))\n",
    "ufill[-1] = 0.3\n",
    "\n",
    "gfill = list(matplotlib.colors.to_rgba(colors['g']))\n",
    "gfill[-1] = 0.3\n",
    "\n",
    "rfill = list(matplotlib.colors.to_rgba(colors['r']))\n",
    "rfill[-1] = 0.3\n",
    "\n",
    "bfill = list(matplotlib.colors.to_rgba(colors['BLUE']))\n",
    "bfill[-1] = 0.3\n",
    "\n",
    "font = {#'family' : 'normal',\n",
    "        # 'weight' : 'bold',\n",
    "        'size'   : 12}\n",
    "\n",
    "matplotlib.rc('font', **font)"
   ]
  },
  {
   "cell_type": "code",
   "execution_count": 6,
   "metadata": {},
   "outputs": [],
   "source": [
    "a_file = open(\"HCPS.pkl\", \"rb\") #remember to close afterwards\n",
    "HCPS = pickle.load(a_file)\n",
    "a_file.close()\n",
    "\n",
    "b_file = open(\"DATA.pkl\", \"rb\") #remember to close afterwards\n",
    "DATA = pickle.load(b_file)\n",
    "b_file.close()\n",
    "\n",
    "c_file = open(\"TF.pkl\", \"rb\") #remember to close afterwards\n",
    "TF = pickle.load(c_file)\n",
    "c_file.close()\n",
    "\n",
    "d_file = open(\"SIM.pkl\", \"rb\") #remember to close afterwards\n",
    "SIM = pickle.load(d_file)\n",
    "d_file.close()\n",
    "\n",
    "# lqg_file = open(\"LQG_SIM.pkl\", \"rb\") #remember to close afterwards\n",
    "# LQG_SIM = pickle.load(lqg_file)\n",
    "# lqg_file.close()\n",
    "\n",
    "delta_file = open(\"AvgDelta.pkl\", \"rb\") #remember to close afterwards\n",
    "avgdelta = pickle.load(delta_file)\n",
    "delta_file.close()"
   ]
  },
  {
   "cell_type": "code",
   "execution_count": 7,
   "metadata": {},
   "outputs": [
    {
     "name": "stderr",
     "output_type": "stream",
     "text": [
      "C:\\Users\\apfis\\AppData\\Local\\Temp\\ipykernel_444\\76335962.py:8: RuntimeWarning: divide by zero encountered in true_divide\n",
      "  M = lambda s : 1/(s**2 + s) #2nd order machine\n",
      "C:\\Users\\apfis\\AppData\\Local\\Temp\\ipykernel_444\\76335962.py:8: RuntimeWarning: invalid value encountered in true_divide\n",
      "  M = lambda s : 1/(s**2 + s) #2nd order machine\n"
     ]
    }
   ],
   "source": [
    "# Data analysis\n",
    "def FFT(data,N):\n",
    "  return fft.fft(data)/N\n",
    "\n",
    "def IFFT(data,N):\n",
    "  return (fft.ifft(data)*N).real\n",
    "  \n",
    "M = lambda s : 1/(s**2 + s) #2nd order machine\n",
    "\n",
    "num_cond = 7 #number of conditions\n",
    "participants_num = len(HCPS.keys())\n",
    "\n",
    "#number of trials for each condition\n",
    "trialnum = [0] * num_cond \n",
    "for c in range(num_cond):\n",
    "  trialnum[c] = len(HCPS['subject0']['condition'+str(c)].keys())         #number of data trials, trial0 ~ trial3\n",
    "\n",
    "#parameters (same for all three conditions)\n",
    "fs = 60                               #pygame update rate 60 Hz\n",
    "base_freq = 0.05                      #1/20 Hz\n",
    "N = len(HCPS['subject0']['condition0']['trial0']['time_'])    #data length\n",
    "xf_all = fft.fftfreq(N, 1./ fs)       #freq (x-axis) both + and - terms\n",
    "xf = fft.fftfreq(N, 1./ fs)[:N//2]    #freq (x-axis) positive-frequency terms\n",
    "M_h = M(1.j*2*np.pi*xf_all)           #M_hat = 1/ ((jw)^2 + (jw))\n",
    "t = HCPS['subject0']['condition0']['trial0']['time_']         #time\n",
    "prime = np.asarray([2, 3, 5, 7, \n",
    "                    11, 13, 17, 19])  #prime numbers\n",
    "stimulated_index = prime*2 #array([ 4,  6, 10, 14, 22, 26, 34, 38])\n",
    "stimulated_freq = prime*base_freq\n",
    "\n",
    "T = 40 #final simulation time \n",
    "dt = 1/fs #time steps (60Hz) \n",
    "scaleOutputScreen = 1/4\n",
    "scaleInput = 0.04616974606700115"
   ]
  },
  {
   "cell_type": "code",
   "execution_count": 8,
   "metadata": {},
   "outputs": [],
   "source": [
    "def MSETIME(last_trial):\n",
    "    \"\"\"\n",
    "    number of trials to look at of each condition: (ex: last 4)\n",
    "    last_trial = [4,4,8,8,8,4,4]\n",
    "\n",
    "    what freqs to look at over all 8 stim freqs: (ex: [1,2,3,4,5,6,7,8])\n",
    "    first_freq = [0,1,2,3,4,5,6,7]\n",
    "    \"\"\"\n",
    "\n",
    "    #(1) MSE time: for every trial for every participant (1 number for each trial)\n",
    "    MSEt = {}\n",
    "    for p in range(participants_num): # number of participants = 15\n",
    "        MSEt['subject'+str(p)] = {}\n",
    "        for c in range(num_cond):  # number of conditions  = 7\n",
    "            r = np.asarray(DATA['TIME']['subject'+str(p)]['condition'+str(c)]['r'][-last_trial[c]:])\n",
    "            y = np.asarray(DATA['TIME']['subject'+str(p)]['condition'+str(c)]['y'][-last_trial[c]:])\n",
    "            MSEt['subject'+str(p)]['condition'+str(c)] = np.sum((r-y)**2,axis=1) #time domain error of each trial of each participant\n",
    "\n",
    "    MSEtvalues = [] # 7 conditions x (15participants * i trials)\n",
    "    for c in range(num_cond):\n",
    "        values_ = []\n",
    "        for p in range(participants_num):\n",
    "            values_.append(np.mean(MSEt['subject'+str(p)]['condition'+str(c)])) #average TD error of all trials of a participant of a condition\n",
    "        MSEtvalues.append(values_)\n",
    "\n",
    "    MSEtvalues5 = [] # 7 conditions x (15participants * i trials)\n",
    "    for c in range(5):\n",
    "        values_ = []\n",
    "        for p in range(participants_num):\n",
    "            if c==0:\n",
    "                values_.append(np.mean(np.concatenate([MSEt['subject'+str(p)]['condition'+str(c)],MSEt['subject'+str(p)]['condition'+str(5)]])))\n",
    "            elif c==1:\n",
    "                values_.append(np.mean(np.concatenate([MSEt['subject'+str(p)]['condition'+str(c)],MSEt['subject'+str(p)]['condition'+str(6)]])))\n",
    "            else:\n",
    "                values_.append(np.mean(MSEt['subject'+str(p)]['condition'+str(c)])) #average TD error of all trials of a participant of a condition\n",
    "        MSEtvalues5.append(values_)\n",
    "\n",
    "    return MSEtvalues,MSEtvalues5 #average MSE over all trials for every participant"
   ]
  },
  {
   "cell_type": "code",
   "execution_count": 9,
   "metadata": {},
   "outputs": [],
   "source": [
    "def MSEFREQ(last_trial,first_freq):\n",
    "    \"\"\"\n",
    "    number of trials to look at of each condition: (ex: last 4)\n",
    "    last_trial = [4,4,8,8,8,4,4]\n",
    "\n",
    "    what freqs to look at over all 8 stim freqs: (ex: [1,2,3,4,5,6,7,8])\n",
    "    first_freq = [0,1,2,3,4,5,6,7]\n",
    "    \"\"\"\n",
    "    #(2) MSE freq: for every two trial for every participant (1 number for evry two trial)\n",
    "    MSEf = {}\n",
    "    for p in range(participants_num): # number of participants = 15\n",
    "        MSEf['subject'+str(p)] = {}\n",
    "        for c in range(num_cond):  # number of conditions  = 7\n",
    "            #freq domain error of every two trials of each participantof every condition\n",
    "            R_Y = (np.asarray(DATA['FREQ']['subject'+str(p)]['condition'+str(c)]['R']) - \n",
    "                    np.asarray(DATA['FREQ']['subject'+str(p)]['condition'+str(c)]['Y']))\n",
    "            MSEf['subject'+str(p)]['condition'+str(c)] = np.sum( (np.abs(R_Y[-last_trial[c]:][:,stimulated_index[first_freq]]))**2 ,axis=1) \n",
    "            #normalize by freq^2\n",
    "    \n",
    "    MSEfvalues = [] # 7 conditions x (15participants * i/2 trials)\n",
    "    for c in range(num_cond):\n",
    "        values_ = []\n",
    "        for p in range(participants_num):\n",
    "            values_.append(np.mean(MSEf['subject'+str(p)]['condition'+str(c)])) #average TD error of all trials of a participant of a condition\n",
    "        MSEfvalues.append(values_)\n",
    "\n",
    "    MSEfvalues5 = [] # 5 conditions x (15participants * i/2 trials)\n",
    "    for c in range(num_cond-2):\n",
    "        values_ = []\n",
    "        for p in range(participants_num):\n",
    "            if c==0:\n",
    "                values_.append(np.mean(np.concatenate([MSEf['subject'+str(p)]['condition'+str(c)],MSEf['subject'+str(p)]['condition'+str(5)]])) )\n",
    "            elif c==1:\n",
    "                values_.append(np.mean(np.concatenate([MSEf['subject'+str(p)]['condition'+str(c)],MSEf['subject'+str(p)]['condition'+str(6)]])) )\n",
    "            else:\n",
    "                values_.append(np.mean(MSEf['subject'+str(p)]['condition'+str(c)])) #average TD error of all trials of a participant of a condition\n",
    "        MSEfvalues5.append(values_)\n",
    "\n",
    "    return MSEfvalues,MSEfvalues5 #average MSE over all trials for every participant"
   ]
  },
  {
   "cell_type": "code",
   "execution_count": 10,
   "metadata": {},
   "outputs": [],
   "source": [
    "last_trial = [4,4,4,4,4,4,4]\n",
    "first_freq = [0,1,2,3,4,5,6,7] # what freqs to look at over all 8 stim freqs: (ex: [0,1,2,3,4,5,6,7])\n",
    "\n",
    "MSEtvalues,MSEtvalues5 = MSETIME(last_trial)\n",
    "MSEfvalues,MSEfvalues5= MSEFREQ(last_trial,first_freq)\n",
    "\n",
    "MSEtvalues_ = [MSEtvalues[5],MSEtvalues[3],MSEtvalues[2],MSEtvalues[4],MSEtvalues[6]] #reorder the conditions\n",
    "MSEfvalues_ = [MSEfvalues[5],MSEfvalues[3],MSEfvalues[2],MSEfvalues[4],MSEfvalues[6]]"
   ]
  },
  {
   "cell_type": "markdown",
   "metadata": {},
   "source": [
    "# example code "
   ]
  },
  {
   "cell_type": "markdown",
   "metadata": {},
   "source": [
    "## example for single plot"
   ]
  },
  {
   "cell_type": "code",
   "execution_count": 66,
   "metadata": {},
   "outputs": [
    {
     "data": {
      "image/png": "[encoded data removed]",
      "text/plain": [
       "<Figure size 432x288 with 1 Axes>"
      ]
     },
     "metadata": {
      "needs_background": "light"
     },
     "output_type": "display_data"
    }
   ],
   "source": [
    "labels = ['0','0.25','0.5','0.75','1'] #slider : EMG\n",
    "boxcolors = ['aliceblue', 'lightsteelblue','slategrey','royalblue', 'navy']\n",
    "datas = MSEtvalues_\n",
    "yticks = [0.,50,100]\n",
    "\n",
    "bplot = plt.boxplot(datas, widths = 0.5,patch_artist=True,labels=labels, showfliers=True)\n",
    "for patch, color in zip(bplot['boxes'], boxcolors): # fill with colors\n",
    "    patch.set_facecolor(color)\n",
    "for median in bplot['medians']:\n",
    "    median.set(color = 'goldenrod', linewidth = 1)\n",
    "for flier in bplot['fliers']:\n",
    "        flier.set(markerfacecolor = 'goldenrod')\n",
    "plt.xlabel(r'$\\alpha$',fontsize = 14) #add x axis labels\n",
    "plt.ylim(0,100) # set y axis limit\n",
    "plt.yticks(yticks) #set y axis ticks\n",
    "plt.title(r'$||r-y||^2$')\n",
    "plt.tight_layout()\n",
    "plt.legend(bplot['boxes'], labels)\n",
    "plt.show()"
   ]
  },
  {
   "cell_type": "markdown",
   "metadata": {},
   "source": [
    "## example for subplots"
   ]
  },
  {
   "cell_type": "code",
   "execution_count": 67,
   "metadata": {},
   "outputs": [
    {
     "data": {
      "image/png": "[encoded data removed]",
      "text/plain": [
       "<Figure size 864x360 with 2 Axes>"
      ]
     },
     "metadata": {
      "needs_background": "light"
     },
     "output_type": "display_data"
    }
   ],
   "source": [
    "labels = ['0','0.25','0.5','0.75','1'] #slider : EMG\n",
    "boxcolors = ['mistyrose','rosybrown','lightcoral','firebrick', 'sienna', 'blanchedalmond', 'burlywood','tan','goldenrod', 'darkgoldenrod']\n",
    "datas = [MSEtvalues_,MSEfvalues_]\n",
    "titles = [r'$||r-y||^2$',r'$||\\widehat{r}-\\widehat{y}||^2$']\n",
    "ylimits = [(0,100),(0,0.015)]\n",
    "yticks0 = [0.,50,100,150]\n",
    "yticklabels0 = ['0','50','100','150']\n",
    "yticks = [0.,0.5,1.0,1.5]\n",
    "yticklabels = ['0.0','0.5','1.0','1.5']\n",
    "xlabels = ['(a)','(b)','(c)','(d)','(e)',]\n",
    "\n",
    "fig,axs = plt.subplots(1,2,figsize=(12,5)) \n",
    "for j in [0,1]: #for loop for each subplot\n",
    "    ax = axs[j]\n",
    "    bplot = ax.boxplot(datas[j], widths = 0.5,patch_artist=True,labels=labels, showfliers=True)\n",
    "    ax.set_xlabel(r'$\\alpha$',fontsize = 14) #add x axis labels\n",
    "    # ax.set_ylabel(titles[j],fontsize = 14) #add y axis labels\n",
    "    ax.set_ylim(ylimits[j]) #set a limit for y axis\n",
    "\n",
    "    if j == 0:\n",
    "        ax.set_yticks(yticks0)\n",
    "        ax.set_yticklabels(yticklabels0, fontsize=10)\n",
    "        for patch, color in zip(bplot['boxes'], boxcolors[0:5]): # fill with colors\n",
    "            patch.set_facecolor(color)\n",
    "        for median in bplot['medians']:\n",
    "            median.set(color = 'maroon', linewidth = 1)\n",
    "        for flier in bplot['fliers']:\n",
    "            flier.set(markerfacecolor = 'maroon')\n",
    "    else:  #when j == 1\n",
    "        ax.ticklabel_format(axis='y', style='sci', scilimits=(-2,4)) #scientific ticks\n",
    "        for patch, color in zip(bplot['boxes'], boxcolors[5:10]): # fill with colors\n",
    "            patch.set_facecolor(color)\n",
    "        for median in bplot['medians']:\n",
    "            median.set(color = 'darkolivegreen', linewidth = 1)\n",
    "        for flier in bplot['fliers']:\n",
    "            flier.set(markerfacecolor = 'darkolivegreen')\n",
    "    ax.title.set_text(titles[j]) #set subplot title\n",
    "    ax.legend(bplot['boxes'], labels, location)\n",
    "plt.tight_layout()\n",
    "plt.show()"
   ]
  }
 ],
 "metadata": {
  "kernelspec": {
   "display_name": "Python 3.9.12 ('base')",
   "language": "python",
   "name": "python3"
  },
  "language_info": {
   "codemirror_mode": {
    "name": "ipython",
    "version": 3
   },
   "file_extension": ".py",
   "mimetype": "text/x-python",
   "name": "python",
   "nbconvert_exporter": "python",
   "pygments_lexer": "ipython3",
   "version": "3.9.12"
  },
  "orig_nbformat": 4,
  "vscode": {
   "interpreter": {
    "hash": "8ed0619926620b08a0dbc5157a046174b3d0bcfe7270ee21b9f7b5065391c37c"
   }
  }
 },
 "nbformat": 4,
 "nbformat_minor": 2
}
